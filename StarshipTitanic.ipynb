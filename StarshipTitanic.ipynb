{
  "cells": [
    {
      "cell_type": "code",
      "execution_count": 1,
      "metadata": {
        "id": "C-kfSmPcVP7E"
      },
      "outputs": [],
      "source": [
        "import pandas as pd\n",
        "import matplotlib.pyplot as plt\n",
        "import seaborn as sns"
      ]
    },
    {
      "cell_type": "markdown",
      "metadata": {
        "id": "Pl3NRfyYXapX"
      },
      "source": [
        "# Data Analysis"
      ]
    },
    {
      "cell_type": "code",
      "execution_count": 2,
      "metadata": {
        "colab": {
          "base_uri": "https://localhost:8080/",
          "height": 206
        },
        "id": "8DEVteQ8W1FK",
        "outputId": "add7da3c-66d8-4bdb-fee0-4b30d5e6005e"
      },
      "outputs": [
        {
          "data": {
            "text/html": [
              "<div>\n",
              "<style scoped>\n",
              "    .dataframe tbody tr th:only-of-type {\n",
              "        vertical-align: middle;\n",
              "    }\n",
              "\n",
              "    .dataframe tbody tr th {\n",
              "        vertical-align: top;\n",
              "    }\n",
              "\n",
              "    .dataframe thead th {\n",
              "        text-align: right;\n",
              "    }\n",
              "</style>\n",
              "<table border=\"1\" class=\"dataframe\">\n",
              "  <thead>\n",
              "    <tr style=\"text-align: right;\">\n",
              "      <th></th>\n",
              "      <th>PassengerId</th>\n",
              "      <th>HomePlanet</th>\n",
              "      <th>CryoSleep</th>\n",
              "      <th>Cabin</th>\n",
              "      <th>Destination</th>\n",
              "      <th>Age</th>\n",
              "      <th>VIP</th>\n",
              "      <th>RoomService</th>\n",
              "      <th>FoodCourt</th>\n",
              "      <th>ShoppingMall</th>\n",
              "      <th>Spa</th>\n",
              "      <th>VRDeck</th>\n",
              "      <th>Name</th>\n",
              "      <th>Transported</th>\n",
              "    </tr>\n",
              "  </thead>\n",
              "  <tbody>\n",
              "    <tr>\n",
              "      <th>0</th>\n",
              "      <td>0001_01</td>\n",
              "      <td>Europa</td>\n",
              "      <td>False</td>\n",
              "      <td>B/0/P</td>\n",
              "      <td>TRAPPIST-1e</td>\n",
              "      <td>39.0</td>\n",
              "      <td>False</td>\n",
              "      <td>0.0</td>\n",
              "      <td>0.0</td>\n",
              "      <td>0.0</td>\n",
              "      <td>0.0</td>\n",
              "      <td>0.0</td>\n",
              "      <td>Maham Ofracculy</td>\n",
              "      <td>False</td>\n",
              "    </tr>\n",
              "    <tr>\n",
              "      <th>1</th>\n",
              "      <td>0002_01</td>\n",
              "      <td>Earth</td>\n",
              "      <td>False</td>\n",
              "      <td>F/0/S</td>\n",
              "      <td>TRAPPIST-1e</td>\n",
              "      <td>24.0</td>\n",
              "      <td>False</td>\n",
              "      <td>109.0</td>\n",
              "      <td>9.0</td>\n",
              "      <td>25.0</td>\n",
              "      <td>549.0</td>\n",
              "      <td>44.0</td>\n",
              "      <td>Juanna Vines</td>\n",
              "      <td>True</td>\n",
              "    </tr>\n",
              "    <tr>\n",
              "      <th>2</th>\n",
              "      <td>0003_01</td>\n",
              "      <td>Europa</td>\n",
              "      <td>False</td>\n",
              "      <td>A/0/S</td>\n",
              "      <td>TRAPPIST-1e</td>\n",
              "      <td>58.0</td>\n",
              "      <td>True</td>\n",
              "      <td>43.0</td>\n",
              "      <td>3576.0</td>\n",
              "      <td>0.0</td>\n",
              "      <td>6715.0</td>\n",
              "      <td>49.0</td>\n",
              "      <td>Altark Susent</td>\n",
              "      <td>False</td>\n",
              "    </tr>\n",
              "    <tr>\n",
              "      <th>3</th>\n",
              "      <td>0003_02</td>\n",
              "      <td>Europa</td>\n",
              "      <td>False</td>\n",
              "      <td>A/0/S</td>\n",
              "      <td>TRAPPIST-1e</td>\n",
              "      <td>33.0</td>\n",
              "      <td>False</td>\n",
              "      <td>0.0</td>\n",
              "      <td>1283.0</td>\n",
              "      <td>371.0</td>\n",
              "      <td>3329.0</td>\n",
              "      <td>193.0</td>\n",
              "      <td>Solam Susent</td>\n",
              "      <td>False</td>\n",
              "    </tr>\n",
              "    <tr>\n",
              "      <th>4</th>\n",
              "      <td>0004_01</td>\n",
              "      <td>Earth</td>\n",
              "      <td>False</td>\n",
              "      <td>F/1/S</td>\n",
              "      <td>TRAPPIST-1e</td>\n",
              "      <td>16.0</td>\n",
              "      <td>False</td>\n",
              "      <td>303.0</td>\n",
              "      <td>70.0</td>\n",
              "      <td>151.0</td>\n",
              "      <td>565.0</td>\n",
              "      <td>2.0</td>\n",
              "      <td>Willy Santantines</td>\n",
              "      <td>True</td>\n",
              "    </tr>\n",
              "  </tbody>\n",
              "</table>\n",
              "</div>"
            ],
            "text/plain": [
              "  PassengerId HomePlanet CryoSleep  Cabin  Destination   Age    VIP  \\\n",
              "0     0001_01     Europa     False  B/0/P  TRAPPIST-1e  39.0  False   \n",
              "1     0002_01      Earth     False  F/0/S  TRAPPIST-1e  24.0  False   \n",
              "2     0003_01     Europa     False  A/0/S  TRAPPIST-1e  58.0   True   \n",
              "3     0003_02     Europa     False  A/0/S  TRAPPIST-1e  33.0  False   \n",
              "4     0004_01      Earth     False  F/1/S  TRAPPIST-1e  16.0  False   \n",
              "\n",
              "   RoomService  FoodCourt  ShoppingMall     Spa  VRDeck               Name  \\\n",
              "0          0.0        0.0           0.0     0.0     0.0    Maham Ofracculy   \n",
              "1        109.0        9.0          25.0   549.0    44.0       Juanna Vines   \n",
              "2         43.0     3576.0           0.0  6715.0    49.0      Altark Susent   \n",
              "3          0.0     1283.0         371.0  3329.0   193.0       Solam Susent   \n",
              "4        303.0       70.0         151.0   565.0     2.0  Willy Santantines   \n",
              "\n",
              "   Transported  \n",
              "0        False  \n",
              "1         True  \n",
              "2        False  \n",
              "3        False  \n",
              "4         True  "
            ]
          },
          "execution_count": 2,
          "metadata": {},
          "output_type": "execute_result"
        }
      ],
      "source": [
        "data = pd.read_csv('./train.csv')\n",
        "data.head()"
      ]
    },
    {
      "cell_type": "code",
      "execution_count": 3,
      "metadata": {},
      "outputs": [
        {
          "data": {
            "text/html": [
              "<div>\n",
              "<style scoped>\n",
              "    .dataframe tbody tr th:only-of-type {\n",
              "        vertical-align: middle;\n",
              "    }\n",
              "\n",
              "    .dataframe tbody tr th {\n",
              "        vertical-align: top;\n",
              "    }\n",
              "\n",
              "    .dataframe thead th {\n",
              "        text-align: right;\n",
              "    }\n",
              "</style>\n",
              "<table border=\"1\" class=\"dataframe\">\n",
              "  <thead>\n",
              "    <tr style=\"text-align: right;\">\n",
              "      <th></th>\n",
              "      <th>PassengerId</th>\n",
              "      <th>HomePlanet</th>\n",
              "      <th>CryoSleep</th>\n",
              "      <th>Cabin</th>\n",
              "      <th>Destination</th>\n",
              "      <th>Age</th>\n",
              "      <th>VIP</th>\n",
              "      <th>RoomService</th>\n",
              "      <th>FoodCourt</th>\n",
              "      <th>ShoppingMall</th>\n",
              "      <th>Spa</th>\n",
              "      <th>VRDeck</th>\n",
              "      <th>Name</th>\n",
              "      <th>Transported</th>\n",
              "    </tr>\n",
              "  </thead>\n",
              "  <tbody>\n",
              "    <tr>\n",
              "      <th>8688</th>\n",
              "      <td>9276_01</td>\n",
              "      <td>Europa</td>\n",
              "      <td>False</td>\n",
              "      <td>A/98/P</td>\n",
              "      <td>55 Cancri e</td>\n",
              "      <td>41.0</td>\n",
              "      <td>True</td>\n",
              "      <td>0.0</td>\n",
              "      <td>6819.0</td>\n",
              "      <td>0.0</td>\n",
              "      <td>1643.0</td>\n",
              "      <td>74.0</td>\n",
              "      <td>Gravior Noxnuther</td>\n",
              "      <td>False</td>\n",
              "    </tr>\n",
              "    <tr>\n",
              "      <th>8689</th>\n",
              "      <td>9278_01</td>\n",
              "      <td>Earth</td>\n",
              "      <td>True</td>\n",
              "      <td>G/1499/S</td>\n",
              "      <td>PSO J318.5-22</td>\n",
              "      <td>18.0</td>\n",
              "      <td>False</td>\n",
              "      <td>0.0</td>\n",
              "      <td>0.0</td>\n",
              "      <td>0.0</td>\n",
              "      <td>0.0</td>\n",
              "      <td>0.0</td>\n",
              "      <td>Kurta Mondalley</td>\n",
              "      <td>False</td>\n",
              "    </tr>\n",
              "    <tr>\n",
              "      <th>8690</th>\n",
              "      <td>9279_01</td>\n",
              "      <td>Earth</td>\n",
              "      <td>False</td>\n",
              "      <td>G/1500/S</td>\n",
              "      <td>TRAPPIST-1e</td>\n",
              "      <td>26.0</td>\n",
              "      <td>False</td>\n",
              "      <td>0.0</td>\n",
              "      <td>0.0</td>\n",
              "      <td>1872.0</td>\n",
              "      <td>1.0</td>\n",
              "      <td>0.0</td>\n",
              "      <td>Fayey Connon</td>\n",
              "      <td>True</td>\n",
              "    </tr>\n",
              "    <tr>\n",
              "      <th>8691</th>\n",
              "      <td>9280_01</td>\n",
              "      <td>Europa</td>\n",
              "      <td>False</td>\n",
              "      <td>E/608/S</td>\n",
              "      <td>55 Cancri e</td>\n",
              "      <td>32.0</td>\n",
              "      <td>False</td>\n",
              "      <td>0.0</td>\n",
              "      <td>1049.0</td>\n",
              "      <td>0.0</td>\n",
              "      <td>353.0</td>\n",
              "      <td>3235.0</td>\n",
              "      <td>Celeon Hontichre</td>\n",
              "      <td>False</td>\n",
              "    </tr>\n",
              "    <tr>\n",
              "      <th>8692</th>\n",
              "      <td>9280_02</td>\n",
              "      <td>Europa</td>\n",
              "      <td>False</td>\n",
              "      <td>E/608/S</td>\n",
              "      <td>TRAPPIST-1e</td>\n",
              "      <td>44.0</td>\n",
              "      <td>False</td>\n",
              "      <td>126.0</td>\n",
              "      <td>4688.0</td>\n",
              "      <td>0.0</td>\n",
              "      <td>0.0</td>\n",
              "      <td>12.0</td>\n",
              "      <td>Propsh Hontichre</td>\n",
              "      <td>True</td>\n",
              "    </tr>\n",
              "  </tbody>\n",
              "</table>\n",
              "</div>"
            ],
            "text/plain": [
              "     PassengerId HomePlanet CryoSleep     Cabin    Destination   Age    VIP  \\\n",
              "8688     9276_01     Europa     False    A/98/P    55 Cancri e  41.0   True   \n",
              "8689     9278_01      Earth      True  G/1499/S  PSO J318.5-22  18.0  False   \n",
              "8690     9279_01      Earth     False  G/1500/S    TRAPPIST-1e  26.0  False   \n",
              "8691     9280_01     Europa     False   E/608/S    55 Cancri e  32.0  False   \n",
              "8692     9280_02     Europa     False   E/608/S    TRAPPIST-1e  44.0  False   \n",
              "\n",
              "      RoomService  FoodCourt  ShoppingMall     Spa  VRDeck               Name  \\\n",
              "8688          0.0     6819.0           0.0  1643.0    74.0  Gravior Noxnuther   \n",
              "8689          0.0        0.0           0.0     0.0     0.0    Kurta Mondalley   \n",
              "8690          0.0        0.0        1872.0     1.0     0.0       Fayey Connon   \n",
              "8691          0.0     1049.0           0.0   353.0  3235.0   Celeon Hontichre   \n",
              "8692        126.0     4688.0           0.0     0.0    12.0   Propsh Hontichre   \n",
              "\n",
              "      Transported  \n",
              "8688        False  \n",
              "8689        False  \n",
              "8690         True  \n",
              "8691        False  \n",
              "8692         True  "
            ]
          },
          "execution_count": 3,
          "metadata": {},
          "output_type": "execute_result"
        }
      ],
      "source": [
        "data.tail()"
      ]
    },
    {
      "cell_type": "code",
      "execution_count": 4,
      "metadata": {
        "colab": {
          "base_uri": "https://localhost:8080/"
        },
        "id": "hI1s9HN-XJRr",
        "outputId": "a1e73f69-dbc9-4a24-8581-577cd82911c6"
      },
      "outputs": [
        {
          "name": "stdout",
          "output_type": "stream",
          "text": [
            "<class 'pandas.core.frame.DataFrame'>\n",
            "RangeIndex: 8693 entries, 0 to 8692\n",
            "Data columns (total 14 columns):\n",
            " #   Column        Non-Null Count  Dtype  \n",
            "---  ------        --------------  -----  \n",
            " 0   PassengerId   8693 non-null   object \n",
            " 1   HomePlanet    8492 non-null   object \n",
            " 2   CryoSleep     8476 non-null   object \n",
            " 3   Cabin         8494 non-null   object \n",
            " 4   Destination   8511 non-null   object \n",
            " 5   Age           8514 non-null   float64\n",
            " 6   VIP           8490 non-null   object \n",
            " 7   RoomService   8512 non-null   float64\n",
            " 8   FoodCourt     8510 non-null   float64\n",
            " 9   ShoppingMall  8485 non-null   float64\n",
            " 10  Spa           8510 non-null   float64\n",
            " 11  VRDeck        8505 non-null   float64\n",
            " 12  Name          8493 non-null   object \n",
            " 13  Transported   8693 non-null   bool   \n",
            "dtypes: bool(1), float64(6), object(7)\n",
            "memory usage: 891.5+ KB\n"
          ]
        }
      ],
      "source": [
        "data.info()"
      ]
    },
    {
      "cell_type": "code",
      "execution_count": 5,
      "metadata": {},
      "outputs": [
        {
          "data": {
            "image/png": "[encoded data removed]",
            "text/plain": [
              "<Figure size 1200x800 with 6 Axes>"
            ]
          },
          "metadata": {},
          "output_type": "display_data"
        }
      ],
      "source": [
        "data.hist(figsize = (12, 8));"
      ]
    },
    {
      "cell_type": "code",
      "execution_count": 6,
      "metadata": {
        "colab": {
          "base_uri": "https://localhost:8080/"
        },
        "id": "16zUO8UxXiSa",
        "outputId": "a2a76370-0cb0-4ccc-a2ef-60bf64ba5edb"
      },
      "outputs": [
        {
          "data": {
            "text/html": [
              "<div>\n",
              "<style scoped>\n",
              "    .dataframe tbody tr th:only-of-type {\n",
              "        vertical-align: middle;\n",
              "    }\n",
              "\n",
              "    .dataframe tbody tr th {\n",
              "        vertical-align: top;\n",
              "    }\n",
              "\n",
              "    .dataframe thead th {\n",
              "        text-align: right;\n",
              "    }\n",
              "</style>\n",
              "<table border=\"1\" class=\"dataframe\">\n",
              "  <thead>\n",
              "    <tr style=\"text-align: right;\">\n",
              "      <th></th>\n",
              "      <th>Age</th>\n",
              "      <th>RoomService</th>\n",
              "      <th>FoodCourt</th>\n",
              "      <th>ShoppingMall</th>\n",
              "      <th>Spa</th>\n",
              "      <th>VRDeck</th>\n",
              "    </tr>\n",
              "  </thead>\n",
              "  <tbody>\n",
              "    <tr>\n",
              "      <th>count</th>\n",
              "      <td>8514.000000</td>\n",
              "      <td>8512.000000</td>\n",
              "      <td>8510.000000</td>\n",
              "      <td>8485.000000</td>\n",
              "      <td>8510.000000</td>\n",
              "      <td>8505.000000</td>\n",
              "    </tr>\n",
              "    <tr>\n",
              "      <th>mean</th>\n",
              "      <td>28.827930</td>\n",
              "      <td>224.687617</td>\n",
              "      <td>458.077203</td>\n",
              "      <td>173.729169</td>\n",
              "      <td>311.138778</td>\n",
              "      <td>304.854791</td>\n",
              "    </tr>\n",
              "    <tr>\n",
              "      <th>std</th>\n",
              "      <td>14.489021</td>\n",
              "      <td>666.717663</td>\n",
              "      <td>1611.489240</td>\n",
              "      <td>604.696458</td>\n",
              "      <td>1136.705535</td>\n",
              "      <td>1145.717189</td>\n",
              "    </tr>\n",
              "    <tr>\n",
              "      <th>min</th>\n",
              "      <td>0.000000</td>\n",
              "      <td>0.000000</td>\n",
              "      <td>0.000000</td>\n",
              "      <td>0.000000</td>\n",
              "      <td>0.000000</td>\n",
              "      <td>0.000000</td>\n",
              "    </tr>\n",
              "    <tr>\n",
              "      <th>25%</th>\n",
              "      <td>19.000000</td>\n",
              "      <td>0.000000</td>\n",
              "      <td>0.000000</td>\n",
              "      <td>0.000000</td>\n",
              "      <td>0.000000</td>\n",
              "      <td>0.000000</td>\n",
              "    </tr>\n",
              "    <tr>\n",
              "      <th>50%</th>\n",
              "      <td>27.000000</td>\n",
              "      <td>0.000000</td>\n",
              "      <td>0.000000</td>\n",
              "      <td>0.000000</td>\n",
              "      <td>0.000000</td>\n",
              "      <td>0.000000</td>\n",
              "    </tr>\n",
              "    <tr>\n",
              "      <th>75%</th>\n",
              "      <td>38.000000</td>\n",
              "      <td>47.000000</td>\n",
              "      <td>76.000000</td>\n",
              "      <td>27.000000</td>\n",
              "      <td>59.000000</td>\n",
              "      <td>46.000000</td>\n",
              "    </tr>\n",
              "    <tr>\n",
              "      <th>max</th>\n",
              "      <td>79.000000</td>\n",
              "      <td>14327.000000</td>\n",
              "      <td>29813.000000</td>\n",
              "      <td>23492.000000</td>\n",
              "      <td>22408.000000</td>\n",
              "      <td>24133.000000</td>\n",
              "    </tr>\n",
              "  </tbody>\n",
              "</table>\n",
              "</div>"
            ],
            "text/plain": [
              "               Age   RoomService     FoodCourt  ShoppingMall           Spa  \\\n",
              "count  8514.000000   8512.000000   8510.000000   8485.000000   8510.000000   \n",
              "mean     28.827930    224.687617    458.077203    173.729169    311.138778   \n",
              "std      14.489021    666.717663   1611.489240    604.696458   1136.705535   \n",
              "min       0.000000      0.000000      0.000000      0.000000      0.000000   \n",
              "25%      19.000000      0.000000      0.000000      0.000000      0.000000   \n",
              "50%      27.000000      0.000000      0.000000      0.000000      0.000000   \n",
              "75%      38.000000     47.000000     76.000000     27.000000     59.000000   \n",
              "max      79.000000  14327.000000  29813.000000  23492.000000  22408.000000   \n",
              "\n",
              "             VRDeck  \n",
              "count   8505.000000  \n",
              "mean     304.854791  \n",
              "std     1145.717189  \n",
              "min        0.000000  \n",
              "25%        0.000000  \n",
              "50%        0.000000  \n",
              "75%       46.000000  \n",
              "max    24133.000000  "
            ]
          },
          "execution_count": 6,
          "metadata": {},
          "output_type": "execute_result"
        }
      ],
      "source": [
        "data.describe()"
      ]
    },
    {
      "cell_type": "code",
      "execution_count": 7,
      "metadata": {},
      "outputs": [
        {
          "name": "stdout",
          "output_type": "stream",
          "text": [
            "Transported\n",
            "True     4378\n",
            "False    4315\n",
            "Name: count, dtype: int64\n"
          ]
        }
      ],
      "source": [
        "print(data[\"Transported\"].value_counts())"
      ]
    },
    {
      "cell_type": "markdown",
      "metadata": {},
      "source": [
        "## Some general facts\n",
        "The Pasenger Id, the names and the passenger IDS serve no purpose. I also have my doubts regarding the cabin, so keeping that aside too for the time being."
      ]
    },
    {
      "cell_type": "markdown",
      "metadata": {},
      "source": [
        "# Find and deal with missing values"
      ]
    },
    {
      "cell_type": "code",
      "execution_count": 8,
      "metadata": {},
      "outputs": [],
      "source": [
        "from sklearn.model_selection import train_test_split\n",
        "\n",
        "X = data.drop(\"Transported\", axis = 1)\n",
        "y = data[\"Transported\"] "
      ]
    },
    {
      "cell_type": "code",
      "execution_count": 9,
      "metadata": {},
      "outputs": [
        {
          "name": "stdout",
          "output_type": "stream",
          "text": [
            "null counts of all the columns.\n",
            "PassengerId       0\n",
            "HomePlanet      201\n",
            "CryoSleep       217\n",
            "Cabin           199\n",
            "Destination     182\n",
            "Age             179\n",
            "VIP             203\n",
            "RoomService     181\n",
            "FoodCourt       183\n",
            "ShoppingMall    208\n",
            "Spa             183\n",
            "VRDeck          188\n",
            "Name            200\n",
            "dtype: int64\n",
            "------------------------------------------------------------\n",
            "types of all the columns.\n",
            "PassengerId      object\n",
            "HomePlanet       object\n",
            "CryoSleep        object\n",
            "Cabin            object\n",
            "Destination      object\n",
            "Age             float64\n",
            "VIP              object\n",
            "RoomService     float64\n",
            "FoodCourt       float64\n",
            "ShoppingMall    float64\n",
            "Spa             float64\n",
            "VRDeck          float64\n",
            "Name             object\n",
            "dtype: object\n"
          ]
        }
      ],
      "source": [
        "print(\"null counts of all the columns.\")\n",
        "print(X.isnull().sum())\n",
        "print(\"------------------------------------------------------------\")\n",
        "print(\"types of all the columns.\")\n",
        "print(X.dtypes)"
      ]
    },
    {
      "cell_type": "code",
      "execution_count": 10,
      "metadata": {},
      "outputs": [
        {
          "name": "stdout",
          "output_type": "stream",
          "text": [
            "Rows with NaN:             2087\n",
            "Total rows:                8693\n",
            "Missing value percentage:  24 %\n"
          ]
        }
      ],
      "source": [
        "print(\"Rows with NaN:            \", X.isna().any(axis=1).sum())\n",
        "print(\"Total rows:               \", X.count().max())\n",
        "print(\n",
        "    \"Missing value percentage: \",\n",
        "    int((X.isna().any(axis=1).sum() / X.count().max()) * 100),\n",
        "    \"%\",\n",
        ")"
      ]
    },
    {
      "cell_type": "code",
      "execution_count": 11,
      "metadata": {},
      "outputs": [],
      "source": [
        "from sklearn.impute import SimpleImputer\n",
        "\n",
        "imputer = SimpleImputer(strategy=\"most_frequent\")\n",
        "\n",
        "cols = X.columns\n",
        "\n",
        "X = pd.DataFrame(imputer.fit_transform(X), columns=cols)"
      ]
    },
    {
      "cell_type": "code",
      "execution_count": 12,
      "metadata": {},
      "outputs": [
        {
          "name": "stdout",
          "output_type": "stream",
          "text": [
            "Rows with NaN:             0\n",
            "Total rows:                8693\n",
            "Missing value percentage:  0 %\n"
          ]
        }
      ],
      "source": [
        "print(\"Rows with NaN:            \", X.isna().any(axis=1).sum())\n",
        "print(\"Total rows:               \", X.count().max())\n",
        "print(\n",
        "    \"Missing value percentage: \",\n",
        "    int((X.isna().any(axis=1).sum() / X.count().max()) * 100),\n",
        "    \"%\",\n",
        ")"
      ]
    },
    {
      "cell_type": "markdown",
      "metadata": {
        "id": "lKeqrVbpKHAv"
      },
      "source": [
        "# Data Pre-processing Pipeline\n",
        "---\n",
        "1. Some features like Name are not useful in prediction, so I drop it.\n",
        "2. One Hot Encode some columns.\n",
        "3. Bin the passengers based on them using or not using different services.\n",
        "4. Bin the passengers based on cabin side.\n"
      ]
    },
    {
      "cell_type": "code",
      "execution_count": 13,
      "metadata": {
        "colab": {
          "base_uri": "https://localhost:8080/"
        },
        "id": "Q2eND1eShJ4_",
        "outputId": "d85536e0-635d-41c9-917a-f39516d4d505"
      },
      "outputs": [],
      "source": [
        "from sklearn.base import BaseEstimator, TransformerMixin\n",
        "\n",
        "# Step 1\n",
        "class dropFeatures(BaseEstimator, TransformerMixin):\n",
        "   \n",
        "   def __init__(self, cols) -> None:\n",
        "      self.cols = cols\n",
        "\n",
        "   def fit(self, X, y = None):\n",
        "      return self\n",
        "\n",
        "   def transform(self, X):\n",
        "      return X.drop(self.cols, axis = 1)\n",
        "\n",
        "# Step 2\n",
        "class OneHotEncode(BaseEstimator, TransformerMixin):\n",
        "   \n",
        "   def __init__(self, cols) -> None:\n",
        "      self.cols = cols\n",
        "\n",
        "   def fit(self, X, y = None):\n",
        "      return self\n",
        "\n",
        "   def transform(self, X):\n",
        "      return pd.get_dummies(data = X, columns = self.cols)\n",
        "\n",
        "# Step 3\n",
        "class BinUsage(BaseEstimator, TransformerMixin):\n",
        "   \n",
        "   def __init__(self, cols) -> None:\n",
        "      self.cols = cols\n",
        "\n",
        "   def fit(self, X, y = None):\n",
        "      return self\n",
        "\n",
        "   def transform(self, X):\n",
        "      X = X.copy()\n",
        "\n",
        "      for col in self.cols:\n",
        "         X[col] = X[col] > 0\n",
        "         \n",
        "      return X\n",
        "\n",
        "# Step 4\n",
        "class BinCabinSide(BaseEstimator, TransformerMixin):\n",
        "   \n",
        "   def fit(self, X, y = None):\n",
        "      return self\n",
        "\n",
        "   def transform(self, X):\n",
        "      X = X.copy()\n",
        "\n",
        "      Cabins = pd.DataFrame(X['Cabin'])\n",
        "      Cabins['Side'] = Cabins['Cabin'].str[-1]\n",
        "      Cabins['Side'] = Cabins['Side'] == \"P\"\n",
        "      Cabins.drop('Cabin', axis = 1, inplace=True)\n",
        "      X.drop('Cabin', axis = 1, inplace=True)\n",
        "\n",
        "\n",
        "      X = X.join(Cabins)\n",
        "\n",
        "      return X"
      ]
    },
    {
      "cell_type": "code",
      "execution_count": 14,
      "metadata": {},
      "outputs": [],
      "source": [
        "from sklearn.pipeline import Pipeline\n",
        "\n",
        "pipeline = Pipeline([\n",
        "    ('drop_features', dropFeatures(cols = ['Name', 'PassengerId'])),\n",
        "    ('one_hot_encode', OneHotEncode(cols = ['HomePlanet', 'Destination'])),\n",
        "    # ('bin_usage', BinUsage(cols = ['RoomService', 'FoodCourt', 'ShoppingMall', 'Spa', 'VRDeck'])),\n",
        "    ('bin_cabin_side', BinCabinSide())\n",
        "])\n",
        "\n",
        "X = pipeline.fit_transform(X)"
      ]
    },
    {
      "cell_type": "code",
      "execution_count": 15,
      "metadata": {},
      "outputs": [
        {
          "data": {
            "text/html": [
              "<div>\n",
              "<style scoped>\n",
              "    .dataframe tbody tr th:only-of-type {\n",
              "        vertical-align: middle;\n",
              "    }\n",
              "\n",
              "    .dataframe tbody tr th {\n",
              "        vertical-align: top;\n",
              "    }\n",
              "\n",
              "    .dataframe thead th {\n",
              "        text-align: right;\n",
              "    }\n",
              "</style>\n",
              "<table border=\"1\" class=\"dataframe\">\n",
              "  <thead>\n",
              "    <tr style=\"text-align: right;\">\n",
              "      <th></th>\n",
              "      <th>CryoSleep</th>\n",
              "      <th>Age</th>\n",
              "      <th>VIP</th>\n",
              "      <th>RoomService</th>\n",
              "      <th>FoodCourt</th>\n",
              "      <th>ShoppingMall</th>\n",
              "      <th>Spa</th>\n",
              "      <th>VRDeck</th>\n",
              "      <th>HomePlanet_Earth</th>\n",
              "      <th>HomePlanet_Europa</th>\n",
              "      <th>HomePlanet_Mars</th>\n",
              "      <th>Destination_55 Cancri e</th>\n",
              "      <th>Destination_PSO J318.5-22</th>\n",
              "      <th>Destination_TRAPPIST-1e</th>\n",
              "      <th>Side</th>\n",
              "    </tr>\n",
              "  </thead>\n",
              "  <tbody>\n",
              "    <tr>\n",
              "      <th>0</th>\n",
              "      <td>False</td>\n",
              "      <td>39.0</td>\n",
              "      <td>False</td>\n",
              "      <td>0.0</td>\n",
              "      <td>0.0</td>\n",
              "      <td>0.0</td>\n",
              "      <td>0.0</td>\n",
              "      <td>0.0</td>\n",
              "      <td>False</td>\n",
              "      <td>True</td>\n",
              "      <td>False</td>\n",
              "      <td>False</td>\n",
              "      <td>False</td>\n",
              "      <td>True</td>\n",
              "      <td>True</td>\n",
              "    </tr>\n",
              "    <tr>\n",
              "      <th>1</th>\n",
              "      <td>False</td>\n",
              "      <td>24.0</td>\n",
              "      <td>False</td>\n",
              "      <td>109.0</td>\n",
              "      <td>9.0</td>\n",
              "      <td>25.0</td>\n",
              "      <td>549.0</td>\n",
              "      <td>44.0</td>\n",
              "      <td>True</td>\n",
              "      <td>False</td>\n",
              "      <td>False</td>\n",
              "      <td>False</td>\n",
              "      <td>False</td>\n",
              "      <td>True</td>\n",
              "      <td>False</td>\n",
              "    </tr>\n",
              "    <tr>\n",
              "      <th>2</th>\n",
              "      <td>False</td>\n",
              "      <td>58.0</td>\n",
              "      <td>True</td>\n",
              "      <td>43.0</td>\n",
              "      <td>3576.0</td>\n",
              "      <td>0.0</td>\n",
              "      <td>6715.0</td>\n",
              "      <td>49.0</td>\n",
              "      <td>False</td>\n",
              "      <td>True</td>\n",
              "      <td>False</td>\n",
              "      <td>False</td>\n",
              "      <td>False</td>\n",
              "      <td>True</td>\n",
              "      <td>False</td>\n",
              "    </tr>\n",
              "    <tr>\n",
              "      <th>3</th>\n",
              "      <td>False</td>\n",
              "      <td>33.0</td>\n",
              "      <td>False</td>\n",
              "      <td>0.0</td>\n",
              "      <td>1283.0</td>\n",
              "      <td>371.0</td>\n",
              "      <td>3329.0</td>\n",
              "      <td>193.0</td>\n",
              "      <td>False</td>\n",
              "      <td>True</td>\n",
              "      <td>False</td>\n",
              "      <td>False</td>\n",
              "      <td>False</td>\n",
              "      <td>True</td>\n",
              "      <td>False</td>\n",
              "    </tr>\n",
              "    <tr>\n",
              "      <th>4</th>\n",
              "      <td>False</td>\n",
              "      <td>16.0</td>\n",
              "      <td>False</td>\n",
              "      <td>303.0</td>\n",
              "      <td>70.0</td>\n",
              "      <td>151.0</td>\n",
              "      <td>565.0</td>\n",
              "      <td>2.0</td>\n",
              "      <td>True</td>\n",
              "      <td>False</td>\n",
              "      <td>False</td>\n",
              "      <td>False</td>\n",
              "      <td>False</td>\n",
              "      <td>True</td>\n",
              "      <td>False</td>\n",
              "    </tr>\n",
              "  </tbody>\n",
              "</table>\n",
              "</div>"
            ],
            "text/plain": [
              "  CryoSleep   Age    VIP RoomService FoodCourt ShoppingMall     Spa VRDeck  \\\n",
              "0     False  39.0  False         0.0       0.0          0.0     0.0    0.0   \n",
              "1     False  24.0  False       109.0       9.0         25.0   549.0   44.0   \n",
              "2     False  58.0   True        43.0    3576.0          0.0  6715.0   49.0   \n",
              "3     False  33.0  False         0.0    1283.0        371.0  3329.0  193.0   \n",
              "4     False  16.0  False       303.0      70.0        151.0   565.0    2.0   \n",
              "\n",
              "   HomePlanet_Earth  HomePlanet_Europa  HomePlanet_Mars  \\\n",
              "0             False               True            False   \n",
              "1              True              False            False   \n",
              "2             False               True            False   \n",
              "3             False               True            False   \n",
              "4              True              False            False   \n",
              "\n",
              "   Destination_55 Cancri e  Destination_PSO J318.5-22  \\\n",
              "0                    False                      False   \n",
              "1                    False                      False   \n",
              "2                    False                      False   \n",
              "3                    False                      False   \n",
              "4                    False                      False   \n",
              "\n",
              "   Destination_TRAPPIST-1e   Side  \n",
              "0                     True   True  \n",
              "1                     True  False  \n",
              "2                     True  False  \n",
              "3                     True  False  \n",
              "4                     True  False  "
            ]
          },
          "execution_count": 15,
          "metadata": {},
          "output_type": "execute_result"
        }
      ],
      "source": [
        "X.head()"
      ]
    },
    {
      "cell_type": "code",
      "execution_count": 16,
      "metadata": {},
      "outputs": [
        {
          "data": {
            "text/plain": [
              "<Axes: >"
            ]
          },
          "execution_count": 16,
          "metadata": {},
          "output_type": "execute_result"
        },
        {
          "data": {
            "image/png": "[encoded data removed]",
            "text/plain": [
              "<Figure size 1400x800 with 2 Axes>"
            ]
          },
          "metadata": {},
          "output_type": "display_data"
        }
      ],
      "source": [
        "plt.figure(figsize=(14, 8))\n",
        "sns.heatmap(X.join(y).corr(), annot = True, cmap = \"Purples\")"
      ]
    },
    {
      "cell_type": "code",
      "execution_count": 17,
      "metadata": {},
      "outputs": [
        {
          "name": "stdout",
          "output_type": "stream",
          "text": [
            "<class 'pandas.core.frame.DataFrame'>\n",
            "RangeIndex: 8693 entries, 0 to 8692\n",
            "Data columns (total 15 columns):\n",
            " #   Column                     Non-Null Count  Dtype \n",
            "---  ------                     --------------  ----- \n",
            " 0   CryoSleep                  8693 non-null   object\n",
            " 1   Age                        8693 non-null   object\n",
            " 2   VIP                        8693 non-null   object\n",
            " 3   RoomService                8693 non-null   object\n",
            " 4   FoodCourt                  8693 non-null   object\n",
            " 5   ShoppingMall               8693 non-null   object\n",
            " 6   Spa                        8693 non-null   object\n",
            " 7   VRDeck                     8693 non-null   object\n",
            " 8   HomePlanet_Earth           8693 non-null   bool  \n",
            " 9   HomePlanet_Europa          8693 non-null   bool  \n",
            " 10  HomePlanet_Mars            8693 non-null   bool  \n",
            " 11  Destination_55 Cancri e    8693 non-null   bool  \n",
            " 12  Destination_PSO J318.5-22  8693 non-null   bool  \n",
            " 13  Destination_TRAPPIST-1e    8693 non-null   bool  \n",
            " 14  Side                       8693 non-null   bool  \n",
            "dtypes: bool(7), object(8)\n",
            "memory usage: 602.9+ KB\n"
          ]
        }
      ],
      "source": [
        "X.info()"
      ]
    },
    {
      "cell_type": "code",
      "execution_count": 18,
      "metadata": {},
      "outputs": [
        {
          "data": {
            "text/html": [
              "<div>\n",
              "<style scoped>\n",
              "    .dataframe tbody tr th:only-of-type {\n",
              "        vertical-align: middle;\n",
              "    }\n",
              "\n",
              "    .dataframe tbody tr th {\n",
              "        vertical-align: top;\n",
              "    }\n",
              "\n",
              "    .dataframe thead th {\n",
              "        text-align: right;\n",
              "    }\n",
              "</style>\n",
              "<table border=\"1\" class=\"dataframe\">\n",
              "  <thead>\n",
              "    <tr style=\"text-align: right;\">\n",
              "      <th></th>\n",
              "      <th>CryoSleep</th>\n",
              "      <th>Age</th>\n",
              "      <th>VIP</th>\n",
              "      <th>RoomService</th>\n",
              "      <th>FoodCourt</th>\n",
              "      <th>ShoppingMall</th>\n",
              "      <th>Spa</th>\n",
              "      <th>VRDeck</th>\n",
              "      <th>HomePlanet_Earth</th>\n",
              "      <th>HomePlanet_Europa</th>\n",
              "      <th>HomePlanet_Mars</th>\n",
              "      <th>Destination_55 Cancri e</th>\n",
              "      <th>Destination_PSO J318.5-22</th>\n",
              "      <th>Destination_TRAPPIST-1e</th>\n",
              "      <th>Side</th>\n",
              "    </tr>\n",
              "  </thead>\n",
              "  <tbody>\n",
              "    <tr>\n",
              "      <th>0</th>\n",
              "      <td>False</td>\n",
              "      <td>39.0</td>\n",
              "      <td>False</td>\n",
              "      <td>0.0</td>\n",
              "      <td>0.0</td>\n",
              "      <td>0.0</td>\n",
              "      <td>0.0</td>\n",
              "      <td>0.0</td>\n",
              "      <td>False</td>\n",
              "      <td>True</td>\n",
              "      <td>False</td>\n",
              "      <td>False</td>\n",
              "      <td>False</td>\n",
              "      <td>True</td>\n",
              "      <td>True</td>\n",
              "    </tr>\n",
              "    <tr>\n",
              "      <th>1</th>\n",
              "      <td>False</td>\n",
              "      <td>24.0</td>\n",
              "      <td>False</td>\n",
              "      <td>109.0</td>\n",
              "      <td>9.0</td>\n",
              "      <td>25.0</td>\n",
              "      <td>549.0</td>\n",
              "      <td>44.0</td>\n",
              "      <td>True</td>\n",
              "      <td>False</td>\n",
              "      <td>False</td>\n",
              "      <td>False</td>\n",
              "      <td>False</td>\n",
              "      <td>True</td>\n",
              "      <td>False</td>\n",
              "    </tr>\n",
              "    <tr>\n",
              "      <th>2</th>\n",
              "      <td>False</td>\n",
              "      <td>58.0</td>\n",
              "      <td>True</td>\n",
              "      <td>43.0</td>\n",
              "      <td>3576.0</td>\n",
              "      <td>0.0</td>\n",
              "      <td>6715.0</td>\n",
              "      <td>49.0</td>\n",
              "      <td>False</td>\n",
              "      <td>True</td>\n",
              "      <td>False</td>\n",
              "      <td>False</td>\n",
              "      <td>False</td>\n",
              "      <td>True</td>\n",
              "      <td>False</td>\n",
              "    </tr>\n",
              "    <tr>\n",
              "      <th>3</th>\n",
              "      <td>False</td>\n",
              "      <td>33.0</td>\n",
              "      <td>False</td>\n",
              "      <td>0.0</td>\n",
              "      <td>1283.0</td>\n",
              "      <td>371.0</td>\n",
              "      <td>3329.0</td>\n",
              "      <td>193.0</td>\n",
              "      <td>False</td>\n",
              "      <td>True</td>\n",
              "      <td>False</td>\n",
              "      <td>False</td>\n",
              "      <td>False</td>\n",
              "      <td>True</td>\n",
              "      <td>False</td>\n",
              "    </tr>\n",
              "    <tr>\n",
              "      <th>4</th>\n",
              "      <td>False</td>\n",
              "      <td>16.0</td>\n",
              "      <td>False</td>\n",
              "      <td>303.0</td>\n",
              "      <td>70.0</td>\n",
              "      <td>151.0</td>\n",
              "      <td>565.0</td>\n",
              "      <td>2.0</td>\n",
              "      <td>True</td>\n",
              "      <td>False</td>\n",
              "      <td>False</td>\n",
              "      <td>False</td>\n",
              "      <td>False</td>\n",
              "      <td>True</td>\n",
              "      <td>False</td>\n",
              "    </tr>\n",
              "  </tbody>\n",
              "</table>\n",
              "</div>"
            ],
            "text/plain": [
              "  CryoSleep   Age    VIP RoomService FoodCourt ShoppingMall     Spa VRDeck  \\\n",
              "0     False  39.0  False         0.0       0.0          0.0     0.0    0.0   \n",
              "1     False  24.0  False       109.0       9.0         25.0   549.0   44.0   \n",
              "2     False  58.0   True        43.0    3576.0          0.0  6715.0   49.0   \n",
              "3     False  33.0  False         0.0    1283.0        371.0  3329.0  193.0   \n",
              "4     False  16.0  False       303.0      70.0        151.0   565.0    2.0   \n",
              "\n",
              "   HomePlanet_Earth  HomePlanet_Europa  HomePlanet_Mars  \\\n",
              "0             False               True            False   \n",
              "1              True              False            False   \n",
              "2             False               True            False   \n",
              "3             False               True            False   \n",
              "4              True              False            False   \n",
              "\n",
              "   Destination_55 Cancri e  Destination_PSO J318.5-22  \\\n",
              "0                    False                      False   \n",
              "1                    False                      False   \n",
              "2                    False                      False   \n",
              "3                    False                      False   \n",
              "4                    False                      False   \n",
              "\n",
              "   Destination_TRAPPIST-1e   Side  \n",
              "0                     True   True  \n",
              "1                     True  False  \n",
              "2                     True  False  \n",
              "3                     True  False  \n",
              "4                     True  False  "
            ]
          },
          "execution_count": 18,
          "metadata": {},
          "output_type": "execute_result"
        }
      ],
      "source": [
        "X.head()"
      ]
    },
    {
      "cell_type": "markdown",
      "metadata": {
        "id": "p61WGqypPmHx"
      },
      "source": [
        "# Logestic Regreession"
      ]
    },
    {
      "cell_type": "code",
      "execution_count": 19,
      "metadata": {
        "colab": {
          "base_uri": "https://localhost:8080/"
        },
        "id": "3y9Ul8-JPisa",
        "outputId": "a54fc69c-1e42-4978-ea29-916492c6c6f4"
      },
      "outputs": [],
      "source": [
        "from sklearn.linear_model import LogisticRegression\n",
        "\n",
        "X_train, X_val, y_train, y_val = train_test_split(X, y, test_size = 0.15, random_state = 64, shuffle = True)"
      ]
    },
    {
      "cell_type": "code",
      "execution_count": 20,
      "metadata": {},
      "outputs": [
        {
          "data": {
            "text/html": [
              "<style>#sk-container-id-1 {color: black;background-color: white;}#sk-container-id-1 pre{padding: 0;}#sk-container-id-1 div.sk-toggleable {background-color: white;}#sk-container-id-1 label.sk-toggleable__label {cursor: pointer;display: block;width: 100%;margin-bottom: 0;padding: 0.3em;box-sizing: border-box;text-align: center;}#sk-container-id-1 label.sk-toggleable__label-arrow:before {content: \"▸\";float: left;margin-right: 0.25em;color: #696969;}#sk-container-id-1 label.sk-toggleable__label-arrow:hover:before {color: black;}#sk-container-id-1 div.sk-estimator:hover label.sk-toggleable__label-arrow:before {color: black;}#sk-container-id-1 div.sk-toggleable__content {max-height: 0;max-width: 0;overflow: hidden;text-align: left;background-color: #f0f8ff;}#sk-container-id-1 div.sk-toggleable__content pre {margin: 0.2em;color: black;border-radius: 0.25em;background-color: #f0f8ff;}#sk-container-id-1 input.sk-toggleable__control:checked~div.sk-toggleable__content {max-height: 200px;max-width: 100%;overflow: auto;}#sk-container-id-1 input.sk-toggleable__control:checked~label.sk-toggleable__label-arrow:before {content: \"▾\";}#sk-container-id-1 div.sk-estimator input.sk-toggleable__control:checked~label.sk-toggleable__label {background-color: #d4ebff;}#sk-container-id-1 div.sk-label input.sk-toggleable__control:checked~label.sk-toggleable__label {background-color: #d4ebff;}#sk-container-id-1 input.sk-hidden--visually {border: 0;clip: rect(1px 1px 1px 1px);clip: rect(1px, 1px, 1px, 1px);height: 1px;margin: -1px;overflow: hidden;padding: 0;position: absolute;width: 1px;}#sk-container-id-1 div.sk-estimator {font-family: monospace;background-color: #f0f8ff;border: 1px dotted black;border-radius: 0.25em;box-sizing: border-box;margin-bottom: 0.5em;}#sk-container-id-1 div.sk-estimator:hover {background-color: #d4ebff;}#sk-container-id-1 div.sk-parallel-item::after {content: \"\";width: 100%;border-bottom: 1px solid gray;flex-grow: 1;}#sk-container-id-1 div.sk-label:hover label.sk-toggleable__label {background-color: #d4ebff;}#sk-container-id-1 div.sk-serial::before {content: \"\";position: absolute;border-left: 1px solid gray;box-sizing: border-box;top: 0;bottom: 0;left: 50%;z-index: 0;}#sk-container-id-1 div.sk-serial {display: flex;flex-direction: column;align-items: center;background-color: white;padding-right: 0.2em;padding-left: 0.2em;position: relative;}#sk-container-id-1 div.sk-item {position: relative;z-index: 1;}#sk-container-id-1 div.sk-parallel {display: flex;align-items: stretch;justify-content: center;background-color: white;position: relative;}#sk-container-id-1 div.sk-item::before, #sk-container-id-1 div.sk-parallel-item::before {content: \"\";position: absolute;border-left: 1px solid gray;box-sizing: border-box;top: 0;bottom: 0;left: 50%;z-index: -1;}#sk-container-id-1 div.sk-parallel-item {display: flex;flex-direction: column;z-index: 1;position: relative;background-color: white;}#sk-container-id-1 div.sk-parallel-item:first-child::after {align-self: flex-end;width: 50%;}#sk-container-id-1 div.sk-parallel-item:last-child::after {align-self: flex-start;width: 50%;}#sk-container-id-1 div.sk-parallel-item:only-child::after {width: 0;}#sk-container-id-1 div.sk-dashed-wrapped {border: 1px dashed gray;margin: 0 0.4em 0.5em 0.4em;box-sizing: border-box;padding-bottom: 0.4em;background-color: white;}#sk-container-id-1 div.sk-label label {font-family: monospace;font-weight: bold;display: inline-block;line-height: 1.2em;}#sk-container-id-1 div.sk-label-container {text-align: center;}#sk-container-id-1 div.sk-container {/* jupyter's `normalize.less` sets `[hidden] { display: none; }` but bootstrap.min.css set `[hidden] { display: none !important; }` so we also need the `!important` here to be able to override the default hidden behavior on the sphinx rendered scikit-learn.org. See: https://github.com/scikit-learn/scikit-learn/issues/21755 */display: inline-block !important;position: relative;}#sk-container-id-1 div.sk-text-repr-fallback {display: none;}</style><div id=\"sk-container-id-1\" class=\"sk-top-container\"><div class=\"sk-text-repr-fallback\"><pre>LogisticRegression(max_iter=5000)</pre><b>In a Jupyter environment, please rerun this cell to show the HTML representation or trust the notebook. <br />On GitHub, the HTML representation is unable to render, please try loading this page with nbviewer.org.</b></div><div class=\"sk-container\" hidden><div class=\"sk-item\"><div class=\"sk-estimator sk-toggleable\"><input class=\"sk-toggleable__control sk-hidden--visually\" id=\"sk-estimator-id-1\" type=\"checkbox\" checked><label for=\"sk-estimator-id-1\" class=\"sk-toggleable__label sk-toggleable__label-arrow\">LogisticRegression</label><div class=\"sk-toggleable__content\"><pre>LogisticRegression(max_iter=5000)</pre></div></div></div></div></div>"
            ],
            "text/plain": [
              "LogisticRegression(max_iter=5000)"
            ]
          },
          "execution_count": 20,
          "metadata": {},
          "output_type": "execute_result"
        }
      ],
      "source": [
        "model = LogisticRegression(max_iter=5000)\n",
        "\n",
        "model.fit(X_train, y_train)"
      ]
    },
    {
      "cell_type": "code",
      "execution_count": 21,
      "metadata": {},
      "outputs": [
        {
          "data": {
            "text/plain": [
              "0.7960122699386503"
            ]
          },
          "execution_count": 21,
          "metadata": {},
          "output_type": "execute_result"
        }
      ],
      "source": [
        "model.score(X_val, y_val)"
      ]
    },
    {
      "cell_type": "markdown",
      "metadata": {},
      "source": [
        "# Hyperparameter tuning"
      ]
    },
    {
      "cell_type": "code",
      "execution_count": 22,
      "metadata": {},
      "outputs": [
        {
          "name": "stdout",
          "output_type": "stream",
          "text": [
            "Fitting 3 folds for each of 144 candidates, totalling 432 fits\n"
          ]
        },
        {
          "name": "stderr",
          "output_type": "stream",
          "text": [
            "/home/darshil/Programs/anaconda3/lib/python3.11/site-packages/sklearn/linear_model/_logistic.py:1165: UserWarning: l1_ratio parameter is only used when penalty is 'elasticnet'. Got (penalty=l1)\n",
            "  warnings.warn(\n"
          ]
        },
        {
          "name": "stdout",
          "output_type": "stream",
          "text": [
            "[CV 1/3] END l1_ratio=0.2, penalty=l1, solver=saga, warm_start=True;, score=(train=0.729, test=0.725) total time=   2.2s\n"
          ]
        },
        {
          "name": "stderr",
          "output_type": "stream",
          "text": [
            "/home/darshil/Programs/anaconda3/lib/python3.11/site-packages/sklearn/linear_model/_logistic.py:1165: UserWarning: l1_ratio parameter is only used when penalty is 'elasticnet'. Got (penalty=l1)\n",
            "  warnings.warn(\n"
          ]
        },
        {
          "name": "stdout",
          "output_type": "stream",
          "text": [
            "[CV 2/3] END l1_ratio=0.2, penalty=l1, solver=saga, warm_start=True;, score=(train=0.729, test=0.716) total time=   1.9s\n"
          ]
        },
        {
          "name": "stderr",
          "output_type": "stream",
          "text": [
            "/home/darshil/Programs/anaconda3/lib/python3.11/site-packages/sklearn/linear_model/_logistic.py:1165: UserWarning: l1_ratio parameter is only used when penalty is 'elasticnet'. Got (penalty=l1)\n",
            "  warnings.warn(\n"
          ]
        },
        {
          "name": "stdout",
          "output_type": "stream",
          "text": [
            "[CV 3/3] END l1_ratio=0.2, penalty=l1, solver=saga, warm_start=True;, score=(train=0.721, test=0.735) total time=   2.2s\n"
          ]
        },
        {
          "name": "stderr",
          "output_type": "stream",
          "text": [
            "/home/darshil/Programs/anaconda3/lib/python3.11/site-packages/sklearn/linear_model/_logistic.py:1165: UserWarning: l1_ratio parameter is only used when penalty is 'elasticnet'. Got (penalty=l1)\n",
            "  warnings.warn(\n"
          ]
        },
        {
          "name": "stdout",
          "output_type": "stream",
          "text": [
            "[CV 1/3] END l1_ratio=0.2, penalty=l1, solver=saga, warm_start=False;, score=(train=0.729, test=0.725) total time=   2.2s\n"
          ]
        },
        {
          "name": "stderr",
          "output_type": "stream",
          "text": [
            "/home/darshil/Programs/anaconda3/lib/python3.11/site-packages/sklearn/linear_model/_logistic.py:1165: UserWarning: l1_ratio parameter is only used when penalty is 'elasticnet'. Got (penalty=l1)\n",
            "  warnings.warn(\n"
          ]
        },
        {
          "name": "stdout",
          "output_type": "stream",
          "text": [
            "[CV 2/3] END l1_ratio=0.2, penalty=l1, solver=saga, warm_start=False;, score=(train=0.729, test=0.716) total time=   2.0s\n"
          ]
        },
        {
          "name": "stderr",
          "output_type": "stream",
          "text": [
            "/home/darshil/Programs/anaconda3/lib/python3.11/site-packages/sklearn/linear_model/_logistic.py:1165: UserWarning: l1_ratio parameter is only used when penalty is 'elasticnet'. Got (penalty=l1)\n",
            "  warnings.warn(\n"
          ]
        },
        {
          "name": "stdout",
          "output_type": "stream",
          "text": [
            "[CV 3/3] END l1_ratio=0.2, penalty=l1, solver=saga, warm_start=False;, score=(train=0.721, test=0.735) total time=   2.2s\n",
            "[CV 1/3] END l1_ratio=0.2, penalty=l1, solver=liblinear, warm_start=True;, score=(train=0.782, test=0.779) total time=   0.0s\n",
            "[CV 2/3] END l1_ratio=0.2, penalty=l1, solver=liblinear, warm_start=True;, score=(train=0.791, test=0.772) total time=   0.0s\n",
            "[CV 3/3] END l1_ratio=0.2, penalty=l1, solver=liblinear, warm_start=True;, score=(train=0.777, test=0.796) total time=   0.0s\n",
            "[CV 1/3] END l1_ratio=0.2, penalty=l1, solver=liblinear, warm_start=False;, score=(train=0.782, test=0.779) total time=   0.0s\n",
            "[CV 2/3] END l1_ratio=0.2, penalty=l1, solver=liblinear, warm_start=False;, score=(train=0.791, test=0.772) total time=   0.0s\n",
            "[CV 3/3] END l1_ratio=0.2, penalty=l1, solver=liblinear, warm_start=False;, score=(train=0.777, test=0.796) total time=   0.0s\n",
            "[CV 1/3] END l1_ratio=0.2, penalty=l1, solver=lbfgs, warm_start=True;, score=(train=nan, test=nan) total time=   0.0s\n",
            "[CV 2/3] END l1_ratio=0.2, penalty=l1, solver=lbfgs, warm_start=True;, score=(train=nan, test=nan) total time=   0.0s\n",
            "[CV 3/3] END l1_ratio=0.2, penalty=l1, solver=lbfgs, warm_start=True;, score=(train=nan, test=nan) total time=   0.0s\n",
            "[CV 1/3] END l1_ratio=0.2, penalty=l1, solver=lbfgs, warm_start=False;, score=(train=nan, test=nan) total time=   0.0s\n",
            "[CV 2/3] END l1_ratio=0.2, penalty=l1, solver=lbfgs, warm_start=False;, score=(train=nan, test=nan) total time=   0.0s\n",
            "[CV 3/3] END l1_ratio=0.2, penalty=l1, solver=lbfgs, warm_start=False;, score=(train=nan, test=nan) total time=   0.0s\n",
            "[CV 1/3] END l1_ratio=0.2, penalty=l1, solver=newton-cg, warm_start=True;, score=(train=nan, test=nan) total time=   0.0s\n",
            "[CV 2/3] END l1_ratio=0.2, penalty=l1, solver=newton-cg, warm_start=True;, score=(train=nan, test=nan) total time=   0.0s\n",
            "[CV 3/3] END l1_ratio=0.2, penalty=l1, solver=newton-cg, warm_start=True;, score=(train=nan, test=nan) total time=   0.0s\n",
            "[CV 1/3] END l1_ratio=0.2, penalty=l1, solver=newton-cg, warm_start=False;, score=(train=nan, test=nan) total time=   0.0s\n",
            "[CV 2/3] END l1_ratio=0.2, penalty=l1, solver=newton-cg, warm_start=False;, score=(train=nan, test=nan) total time=   0.0s\n",
            "[CV 3/3] END l1_ratio=0.2, penalty=l1, solver=newton-cg, warm_start=False;, score=(train=nan, test=nan) total time=   0.0s\n",
            "[CV 1/3] END l1_ratio=0.2, penalty=l1, solver=newton-cholesky, warm_start=True;, score=(train=nan, test=nan) total time=   0.0s\n",
            "[CV 2/3] END l1_ratio=0.2, penalty=l1, solver=newton-cholesky, warm_start=True;, score=(train=nan, test=nan) total time=   0.0s\n",
            "[CV 3/3] END l1_ratio=0.2, penalty=l1, solver=newton-cholesky, warm_start=True;, score=(train=nan, test=nan) total time=   0.0s\n",
            "[CV 1/3] END l1_ratio=0.2, penalty=l1, solver=newton-cholesky, warm_start=False;, score=(train=nan, test=nan) total time=   0.0s\n",
            "[CV 2/3] END l1_ratio=0.2, penalty=l1, solver=newton-cholesky, warm_start=False;, score=(train=nan, test=nan) total time=   0.0s\n",
            "[CV 3/3] END l1_ratio=0.2, penalty=l1, solver=newton-cholesky, warm_start=False;, score=(train=nan, test=nan) total time=   0.0s\n",
            "[CV 1/3] END l1_ratio=0.2, penalty=l1, solver=sag, warm_start=True;, score=(train=nan, test=nan) total time=   0.0s\n",
            "[CV 2/3] END l1_ratio=0.2, penalty=l1, solver=sag, warm_start=True;, score=(train=nan, test=nan) total time=   0.0s\n",
            "[CV 3/3] END l1_ratio=0.2, penalty=l1, solver=sag, warm_start=True;, score=(train=nan, test=nan) total time=   0.0s\n"
          ]
        },
        {
          "name": "stderr",
          "output_type": "stream",
          "text": [
            "/home/darshil/Programs/anaconda3/lib/python3.11/site-packages/sklearn/linear_model/_logistic.py:1165: UserWarning: l1_ratio parameter is only used when penalty is 'elasticnet'. Got (penalty=l1)\n",
            "  warnings.warn(\n",
            "/home/darshil/Programs/anaconda3/lib/python3.11/site-packages/sklearn/linear_model/_logistic.py:1165: UserWarning: l1_ratio parameter is only used when penalty is 'elasticnet'. Got (penalty=l1)\n",
            "  warnings.warn(\n",
            "/home/darshil/Programs/anaconda3/lib/python3.11/site-packages/sklearn/linear_model/_logistic.py:1165: UserWarning: l1_ratio parameter is only used when penalty is 'elasticnet'. Got (penalty=l1)\n",
            "  warnings.warn(\n",
            "/home/darshil/Programs/anaconda3/lib/python3.11/site-packages/sklearn/linear_model/_logistic.py:1165: UserWarning: l1_ratio parameter is only used when penalty is 'elasticnet'. Got (penalty=l1)\n",
            "  warnings.warn(\n",
            "/home/darshil/Programs/anaconda3/lib/python3.11/site-packages/sklearn/linear_model/_logistic.py:1165: UserWarning: l1_ratio parameter is only used when penalty is 'elasticnet'. Got (penalty=l1)\n",
            "  warnings.warn(\n",
            "/home/darshil/Programs/anaconda3/lib/python3.11/site-packages/sklearn/linear_model/_logistic.py:1165: UserWarning: l1_ratio parameter is only used when penalty is 'elasticnet'. Got (penalty=l1)\n",
            "  warnings.warn(\n"
          ]
        },
        {
          "name": "stdout",
          "output_type": "stream",
          "text": [
            "[CV 1/3] END l1_ratio=0.2, penalty=l1, solver=sag, warm_start=False;, score=(train=nan, test=nan) total time=   0.0s\n",
            "[CV 2/3] END l1_ratio=0.2, penalty=l1, solver=sag, warm_start=False;, score=(train=nan, test=nan) total time=   0.0s\n",
            "[CV 3/3] END l1_ratio=0.2, penalty=l1, solver=sag, warm_start=False;, score=(train=nan, test=nan) total time=   0.0s\n"
          ]
        },
        {
          "name": "stderr",
          "output_type": "stream",
          "text": [
            "/home/darshil/Programs/anaconda3/lib/python3.11/site-packages/sklearn/linear_model/_logistic.py:1165: UserWarning: l1_ratio parameter is only used when penalty is 'elasticnet'. Got (penalty=l2)\n",
            "  warnings.warn(\n"
          ]
        },
        {
          "name": "stdout",
          "output_type": "stream",
          "text": [
            "[CV 1/3] END l1_ratio=0.2, penalty=l2, solver=saga, warm_start=True;, score=(train=0.729, test=0.725) total time=   1.8s\n"
          ]
        },
        {
          "name": "stderr",
          "output_type": "stream",
          "text": [
            "/home/darshil/Programs/anaconda3/lib/python3.11/site-packages/sklearn/linear_model/_logistic.py:1165: UserWarning: l1_ratio parameter is only used when penalty is 'elasticnet'. Got (penalty=l2)\n",
            "  warnings.warn(\n"
          ]
        },
        {
          "name": "stdout",
          "output_type": "stream",
          "text": [
            "[CV 2/3] END l1_ratio=0.2, penalty=l2, solver=saga, warm_start=True;, score=(train=0.729, test=0.716) total time=   1.6s\n"
          ]
        },
        {
          "name": "stderr",
          "output_type": "stream",
          "text": [
            "/home/darshil/Programs/anaconda3/lib/python3.11/site-packages/sklearn/linear_model/_logistic.py:1165: UserWarning: l1_ratio parameter is only used when penalty is 'elasticnet'. Got (penalty=l2)\n",
            "  warnings.warn(\n"
          ]
        },
        {
          "name": "stdout",
          "output_type": "stream",
          "text": [
            "[CV 3/3] END l1_ratio=0.2, penalty=l2, solver=saga, warm_start=True;, score=(train=0.721, test=0.735) total time=   1.8s\n"
          ]
        },
        {
          "name": "stderr",
          "output_type": "stream",
          "text": [
            "/home/darshil/Programs/anaconda3/lib/python3.11/site-packages/sklearn/linear_model/_logistic.py:1165: UserWarning: l1_ratio parameter is only used when penalty is 'elasticnet'. Got (penalty=l2)\n",
            "  warnings.warn(\n"
          ]
        },
        {
          "name": "stdout",
          "output_type": "stream",
          "text": [
            "[CV 1/3] END l1_ratio=0.2, penalty=l2, solver=saga, warm_start=False;, score=(train=0.729, test=0.725) total time=   1.9s\n"
          ]
        },
        {
          "name": "stderr",
          "output_type": "stream",
          "text": [
            "/home/darshil/Programs/anaconda3/lib/python3.11/site-packages/sklearn/linear_model/_logistic.py:1165: UserWarning: l1_ratio parameter is only used when penalty is 'elasticnet'. Got (penalty=l2)\n",
            "  warnings.warn(\n"
          ]
        },
        {
          "name": "stdout",
          "output_type": "stream",
          "text": [
            "[CV 2/3] END l1_ratio=0.2, penalty=l2, solver=saga, warm_start=False;, score=(train=0.729, test=0.716) total time=   1.6s\n"
          ]
        },
        {
          "name": "stderr",
          "output_type": "stream",
          "text": [
            "/home/darshil/Programs/anaconda3/lib/python3.11/site-packages/sklearn/linear_model/_logistic.py:1165: UserWarning: l1_ratio parameter is only used when penalty is 'elasticnet'. Got (penalty=l2)\n",
            "  warnings.warn(\n"
          ]
        },
        {
          "name": "stdout",
          "output_type": "stream",
          "text": [
            "[CV 3/3] END l1_ratio=0.2, penalty=l2, solver=saga, warm_start=False;, score=(train=0.721, test=0.735) total time=   1.9s\n",
            "[CV 1/3] END l1_ratio=0.2, penalty=l2, solver=liblinear, warm_start=True;, score=(train=0.781, test=0.778) total time=   0.0s\n",
            "[CV 2/3] END l1_ratio=0.2, penalty=l2, solver=liblinear, warm_start=True;, score=(train=0.791, test=0.777) total time=   0.0s\n",
            "[CV 3/3] END l1_ratio=0.2, penalty=l2, solver=liblinear, warm_start=True;, score=(train=0.775, test=0.794) total time=   0.0s\n",
            "[CV 1/3] END l1_ratio=0.2, penalty=l2, solver=liblinear, warm_start=False;, score=(train=0.781, test=0.778) total time=   0.0s\n",
            "[CV 2/3] END l1_ratio=0.2, penalty=l2, solver=liblinear, warm_start=False;, score=(train=0.791, test=0.777) total time=   0.0s\n"
          ]
        },
        {
          "name": "stderr",
          "output_type": "stream",
          "text": [
            "/home/darshil/Programs/anaconda3/lib/python3.11/site-packages/sklearn/linear_model/_logistic.py:1165: UserWarning: l1_ratio parameter is only used when penalty is 'elasticnet'. Got (penalty=l2)\n",
            "  warnings.warn(\n",
            "/home/darshil/Programs/anaconda3/lib/python3.11/site-packages/sklearn/linear_model/_logistic.py:1165: UserWarning: l1_ratio parameter is only used when penalty is 'elasticnet'. Got (penalty=l2)\n",
            "  warnings.warn(\n",
            "/home/darshil/Programs/anaconda3/lib/python3.11/site-packages/sklearn/linear_model/_logistic.py:1165: UserWarning: l1_ratio parameter is only used when penalty is 'elasticnet'. Got (penalty=l2)\n",
            "  warnings.warn(\n",
            "/home/darshil/Programs/anaconda3/lib/python3.11/site-packages/sklearn/linear_model/_logistic.py:1165: UserWarning: l1_ratio parameter is only used when penalty is 'elasticnet'. Got (penalty=l2)\n",
            "  warnings.warn(\n",
            "/home/darshil/Programs/anaconda3/lib/python3.11/site-packages/sklearn/linear_model/_logistic.py:1165: UserWarning: l1_ratio parameter is only used when penalty is 'elasticnet'. Got (penalty=l2)\n",
            "  warnings.warn(\n",
            "/home/darshil/Programs/anaconda3/lib/python3.11/site-packages/sklearn/linear_model/_logistic.py:1165: UserWarning: l1_ratio parameter is only used when penalty is 'elasticnet'. Got (penalty=l2)\n",
            "  warnings.warn(\n"
          ]
        },
        {
          "name": "stdout",
          "output_type": "stream",
          "text": [
            "[CV 3/3] END l1_ratio=0.2, penalty=l2, solver=liblinear, warm_start=False;, score=(train=0.775, test=0.794) total time=   0.0s\n",
            "[CV 1/3] END l1_ratio=0.2, penalty=l2, solver=lbfgs, warm_start=True;, score=(train=0.781, test=0.779) total time=   0.1s\n"
          ]
        },
        {
          "name": "stderr",
          "output_type": "stream",
          "text": [
            "/home/darshil/Programs/anaconda3/lib/python3.11/site-packages/sklearn/linear_model/_logistic.py:1165: UserWarning: l1_ratio parameter is only used when penalty is 'elasticnet'. Got (penalty=l2)\n",
            "  warnings.warn(\n",
            "/home/darshil/Programs/anaconda3/lib/python3.11/site-packages/sklearn/linear_model/_logistic.py:1165: UserWarning: l1_ratio parameter is only used when penalty is 'elasticnet'. Got (penalty=l2)\n",
            "  warnings.warn(\n"
          ]
        },
        {
          "name": "stdout",
          "output_type": "stream",
          "text": [
            "[CV 2/3] END l1_ratio=0.2, penalty=l2, solver=lbfgs, warm_start=True;, score=(train=0.791, test=0.774) total time=   0.1s\n",
            "[CV 3/3] END l1_ratio=0.2, penalty=l2, solver=lbfgs, warm_start=True;, score=(train=0.777, test=0.797) total time=   0.1s\n"
          ]
        },
        {
          "name": "stderr",
          "output_type": "stream",
          "text": [
            "/home/darshil/Programs/anaconda3/lib/python3.11/site-packages/sklearn/linear_model/_logistic.py:1165: UserWarning: l1_ratio parameter is only used when penalty is 'elasticnet'. Got (penalty=l2)\n",
            "  warnings.warn(\n",
            "/home/darshil/Programs/anaconda3/lib/python3.11/site-packages/sklearn/linear_model/_logistic.py:1165: UserWarning: l1_ratio parameter is only used when penalty is 'elasticnet'. Got (penalty=l2)\n",
            "  warnings.warn(\n"
          ]
        },
        {
          "name": "stdout",
          "output_type": "stream",
          "text": [
            "[CV 1/3] END l1_ratio=0.2, penalty=l2, solver=lbfgs, warm_start=False;, score=(train=0.781, test=0.779) total time=   0.1s\n",
            "[CV 2/3] END l1_ratio=0.2, penalty=l2, solver=lbfgs, warm_start=False;, score=(train=0.791, test=0.774) total time=   0.1s\n"
          ]
        },
        {
          "name": "stderr",
          "output_type": "stream",
          "text": [
            "/home/darshil/Programs/anaconda3/lib/python3.11/site-packages/sklearn/linear_model/_logistic.py:1165: UserWarning: l1_ratio parameter is only used when penalty is 'elasticnet'. Got (penalty=l2)\n",
            "  warnings.warn(\n",
            "/home/darshil/Programs/anaconda3/lib/python3.11/site-packages/sklearn/linear_model/_logistic.py:1165: UserWarning: l1_ratio parameter is only used when penalty is 'elasticnet'. Got (penalty=l2)\n",
            "  warnings.warn(\n"
          ]
        },
        {
          "name": "stdout",
          "output_type": "stream",
          "text": [
            "[CV 3/3] END l1_ratio=0.2, penalty=l2, solver=lbfgs, warm_start=False;, score=(train=0.777, test=0.797) total time=   0.1s\n",
            "[CV 1/3] END l1_ratio=0.2, penalty=l2, solver=newton-cg, warm_start=True;, score=(train=0.781, test=0.777) total time=   0.1s\n",
            "[CV 2/3] END l1_ratio=0.2, penalty=l2, solver=newton-cg, warm_start=True;, score=(train=0.789, test=0.770) total time=   0.1s\n"
          ]
        },
        {
          "name": "stderr",
          "output_type": "stream",
          "text": [
            "/home/darshil/Programs/anaconda3/lib/python3.11/site-packages/sklearn/linear_model/_logistic.py:1165: UserWarning: l1_ratio parameter is only used when penalty is 'elasticnet'. Got (penalty=l2)\n",
            "  warnings.warn(\n",
            "/home/darshil/Programs/anaconda3/lib/python3.11/site-packages/sklearn/linear_model/_logistic.py:1165: UserWarning: l1_ratio parameter is only used when penalty is 'elasticnet'. Got (penalty=l2)\n",
            "  warnings.warn(\n",
            "/home/darshil/Programs/anaconda3/lib/python3.11/site-packages/sklearn/linear_model/_logistic.py:1165: UserWarning: l1_ratio parameter is only used when penalty is 'elasticnet'. Got (penalty=l2)\n",
            "  warnings.warn(\n"
          ]
        },
        {
          "name": "stdout",
          "output_type": "stream",
          "text": [
            "[CV 3/3] END l1_ratio=0.2, penalty=l2, solver=newton-cg, warm_start=True;, score=(train=0.777, test=0.792) total time=   0.1s\n",
            "[CV 1/3] END l1_ratio=0.2, penalty=l2, solver=newton-cg, warm_start=False;, score=(train=0.781, test=0.777) total time=   0.1s\n"
          ]
        },
        {
          "name": "stderr",
          "output_type": "stream",
          "text": [
            "/home/darshil/Programs/anaconda3/lib/python3.11/site-packages/sklearn/linear_model/_logistic.py:1165: UserWarning: l1_ratio parameter is only used when penalty is 'elasticnet'. Got (penalty=l2)\n",
            "  warnings.warn(\n",
            "/home/darshil/Programs/anaconda3/lib/python3.11/site-packages/sklearn/linear_model/_logistic.py:1165: UserWarning: l1_ratio parameter is only used when penalty is 'elasticnet'. Got (penalty=l2)\n",
            "  warnings.warn(\n"
          ]
        },
        {
          "name": "stdout",
          "output_type": "stream",
          "text": [
            "[CV 2/3] END l1_ratio=0.2, penalty=l2, solver=newton-cg, warm_start=False;, score=(train=0.789, test=0.770) total time=   0.1s\n",
            "[CV 3/3] END l1_ratio=0.2, penalty=l2, solver=newton-cg, warm_start=False;, score=(train=0.777, test=0.792) total time=   0.1s\n",
            "[CV 1/3] END l1_ratio=0.2, penalty=l2, solver=newton-cholesky, warm_start=True;, score=(train=0.781, test=0.777) total time=   0.0s\n",
            "[CV 2/3] END l1_ratio=0.2, penalty=l2, solver=newton-cholesky, warm_start=True;, score=(train=0.789, test=0.770) total time=   0.0s\n",
            "[CV 3/3] END l1_ratio=0.2, penalty=l2, solver=newton-cholesky, warm_start=True;, score=(train=0.777, test=0.792) total time=   0.0s\n",
            "[CV 1/3] END l1_ratio=0.2, penalty=l2, solver=newton-cholesky, warm_start=False;, score=(train=0.781, test=0.777) total time=   0.0s\n"
          ]
        },
        {
          "name": "stderr",
          "output_type": "stream",
          "text": [
            "/home/darshil/Programs/anaconda3/lib/python3.11/site-packages/sklearn/linear_model/_logistic.py:1165: UserWarning: l1_ratio parameter is only used when penalty is 'elasticnet'. Got (penalty=l2)\n",
            "  warnings.warn(\n",
            "/home/darshil/Programs/anaconda3/lib/python3.11/site-packages/sklearn/linear_model/_logistic.py:1165: UserWarning: l1_ratio parameter is only used when penalty is 'elasticnet'. Got (penalty=l2)\n",
            "  warnings.warn(\n",
            "/home/darshil/Programs/anaconda3/lib/python3.11/site-packages/sklearn/linear_model/_logistic.py:1165: UserWarning: l1_ratio parameter is only used when penalty is 'elasticnet'. Got (penalty=l2)\n",
            "  warnings.warn(\n",
            "/home/darshil/Programs/anaconda3/lib/python3.11/site-packages/sklearn/linear_model/_logistic.py:1165: UserWarning: l1_ratio parameter is only used when penalty is 'elasticnet'. Got (penalty=l2)\n",
            "  warnings.warn(\n",
            "/home/darshil/Programs/anaconda3/lib/python3.11/site-packages/sklearn/linear_model/_logistic.py:1165: UserWarning: l1_ratio parameter is only used when penalty is 'elasticnet'. Got (penalty=l2)\n",
            "  warnings.warn(\n",
            "/home/darshil/Programs/anaconda3/lib/python3.11/site-packages/sklearn/linear_model/_logistic.py:1165: UserWarning: l1_ratio parameter is only used when penalty is 'elasticnet'. Got (penalty=l2)\n",
            "  warnings.warn(\n"
          ]
        },
        {
          "name": "stdout",
          "output_type": "stream",
          "text": [
            "[CV 2/3] END l1_ratio=0.2, penalty=l2, solver=newton-cholesky, warm_start=False;, score=(train=0.789, test=0.770) total time=   0.0s\n",
            "[CV 3/3] END l1_ratio=0.2, penalty=l2, solver=newton-cholesky, warm_start=False;, score=(train=0.777, test=0.792) total time=   0.0s\n"
          ]
        },
        {
          "name": "stderr",
          "output_type": "stream",
          "text": [
            "/home/darshil/Programs/anaconda3/lib/python3.11/site-packages/sklearn/linear_model/_logistic.py:1165: UserWarning: l1_ratio parameter is only used when penalty is 'elasticnet'. Got (penalty=l2)\n",
            "  warnings.warn(\n",
            "/home/darshil/Programs/anaconda3/lib/python3.11/site-packages/sklearn/linear_model/_logistic.py:1165: UserWarning: l1_ratio parameter is only used when penalty is 'elasticnet'. Got (penalty=l2)\n",
            "  warnings.warn(\n"
          ]
        },
        {
          "name": "stdout",
          "output_type": "stream",
          "text": [
            "[CV 1/3] END l1_ratio=0.2, penalty=l2, solver=sag, warm_start=True;, score=(train=0.727, test=0.725) total time=   1.1s\n"
          ]
        },
        {
          "name": "stderr",
          "output_type": "stream",
          "text": [
            "/home/darshil/Programs/anaconda3/lib/python3.11/site-packages/sklearn/linear_model/_logistic.py:1165: UserWarning: l1_ratio parameter is only used when penalty is 'elasticnet'. Got (penalty=l2)\n",
            "  warnings.warn(\n"
          ]
        },
        {
          "name": "stdout",
          "output_type": "stream",
          "text": [
            "[CV 2/3] END l1_ratio=0.2, penalty=l2, solver=sag, warm_start=True;, score=(train=0.728, test=0.716) total time=   1.0s\n"
          ]
        },
        {
          "name": "stderr",
          "output_type": "stream",
          "text": [
            "/home/darshil/Programs/anaconda3/lib/python3.11/site-packages/sklearn/linear_model/_logistic.py:1165: UserWarning: l1_ratio parameter is only used when penalty is 'elasticnet'. Got (penalty=l2)\n",
            "  warnings.warn(\n"
          ]
        },
        {
          "name": "stdout",
          "output_type": "stream",
          "text": [
            "[CV 3/3] END l1_ratio=0.2, penalty=l2, solver=sag, warm_start=True;, score=(train=0.721, test=0.734) total time=   1.0s\n"
          ]
        },
        {
          "name": "stderr",
          "output_type": "stream",
          "text": [
            "/home/darshil/Programs/anaconda3/lib/python3.11/site-packages/sklearn/linear_model/_logistic.py:1165: UserWarning: l1_ratio parameter is only used when penalty is 'elasticnet'. Got (penalty=l2)\n",
            "  warnings.warn(\n"
          ]
        },
        {
          "name": "stdout",
          "output_type": "stream",
          "text": [
            "[CV 1/3] END l1_ratio=0.2, penalty=l2, solver=sag, warm_start=False;, score=(train=0.727, test=0.725) total time=   1.1s\n"
          ]
        },
        {
          "name": "stderr",
          "output_type": "stream",
          "text": [
            "/home/darshil/Programs/anaconda3/lib/python3.11/site-packages/sklearn/linear_model/_logistic.py:1165: UserWarning: l1_ratio parameter is only used when penalty is 'elasticnet'. Got (penalty=l2)\n",
            "  warnings.warn(\n"
          ]
        },
        {
          "name": "stdout",
          "output_type": "stream",
          "text": [
            "[CV 2/3] END l1_ratio=0.2, penalty=l2, solver=sag, warm_start=False;, score=(train=0.728, test=0.716) total time=   0.9s\n"
          ]
        },
        {
          "name": "stderr",
          "output_type": "stream",
          "text": [
            "/home/darshil/Programs/anaconda3/lib/python3.11/site-packages/sklearn/linear_model/_logistic.py:1165: UserWarning: l1_ratio parameter is only used when penalty is 'elasticnet'. Got (penalty=l2)\n",
            "  warnings.warn(\n"
          ]
        },
        {
          "name": "stdout",
          "output_type": "stream",
          "text": [
            "[CV 3/3] END l1_ratio=0.2, penalty=l2, solver=sag, warm_start=False;, score=(train=0.721, test=0.734) total time=   1.1s\n",
            "[CV 1/3] END l1_ratio=0.2, penalty=elasticnet, solver=saga, warm_start=True;, score=(train=0.729, test=0.725) total time=   2.3s\n",
            "[CV 2/3] END l1_ratio=0.2, penalty=elasticnet, solver=saga, warm_start=True;, score=(train=0.729, test=0.716) total time=   2.0s\n",
            "[CV 3/3] END l1_ratio=0.2, penalty=elasticnet, solver=saga, warm_start=True;, score=(train=0.721, test=0.735) total time=   2.2s\n",
            "[CV 1/3] END l1_ratio=0.2, penalty=elasticnet, solver=saga, warm_start=False;, score=(train=0.729, test=0.725) total time=   2.3s\n",
            "[CV 2/3] END l1_ratio=0.2, penalty=elasticnet, solver=saga, warm_start=False;, score=(train=0.729, test=0.716) total time=   2.1s\n",
            "[CV 3/3] END l1_ratio=0.2, penalty=elasticnet, solver=saga, warm_start=False;, score=(train=0.721, test=0.735) total time=   2.3s\n",
            "[CV 1/3] END l1_ratio=0.2, penalty=elasticnet, solver=liblinear, warm_start=True;, score=(train=nan, test=nan) total time=   0.0s\n",
            "[CV 2/3] END l1_ratio=0.2, penalty=elasticnet, solver=liblinear, warm_start=True;, score=(train=nan, test=nan) total time=   0.0s\n",
            "[CV 3/3] END l1_ratio=0.2, penalty=elasticnet, solver=liblinear, warm_start=True;, score=(train=nan, test=nan) total time=   0.0s\n",
            "[CV 1/3] END l1_ratio=0.2, penalty=elasticnet, solver=liblinear, warm_start=False;, score=(train=nan, test=nan) total time=   0.0s\n",
            "[CV 2/3] END l1_ratio=0.2, penalty=elasticnet, solver=liblinear, warm_start=False;, score=(train=nan, test=nan) total time=   0.0s\n",
            "[CV 3/3] END l1_ratio=0.2, penalty=elasticnet, solver=liblinear, warm_start=False;, score=(train=nan, test=nan) total time=   0.0s\n",
            "[CV 1/3] END l1_ratio=0.2, penalty=elasticnet, solver=lbfgs, warm_start=True;, score=(train=nan, test=nan) total time=   0.0s\n",
            "[CV 2/3] END l1_ratio=0.2, penalty=elasticnet, solver=lbfgs, warm_start=True;, score=(train=nan, test=nan) total time=   0.0s\n",
            "[CV 3/3] END l1_ratio=0.2, penalty=elasticnet, solver=lbfgs, warm_start=True;, score=(train=nan, test=nan) total time=   0.0s\n",
            "[CV 1/3] END l1_ratio=0.2, penalty=elasticnet, solver=lbfgs, warm_start=False;, score=(train=nan, test=nan) total time=   0.0s\n",
            "[CV 2/3] END l1_ratio=0.2, penalty=elasticnet, solver=lbfgs, warm_start=False;, score=(train=nan, test=nan) total time=   0.0s\n",
            "[CV 3/3] END l1_ratio=0.2, penalty=elasticnet, solver=lbfgs, warm_start=False;, score=(train=nan, test=nan) total time=   0.0s\n",
            "[CV 1/3] END l1_ratio=0.2, penalty=elasticnet, solver=newton-cg, warm_start=True;, score=(train=nan, test=nan) total time=   0.0s\n",
            "[CV 2/3] END l1_ratio=0.2, penalty=elasticnet, solver=newton-cg, warm_start=True;, score=(train=nan, test=nan) total time=   0.0s\n",
            "[CV 3/3] END l1_ratio=0.2, penalty=elasticnet, solver=newton-cg, warm_start=True;, score=(train=nan, test=nan) total time=   0.0s\n",
            "[CV 1/3] END l1_ratio=0.2, penalty=elasticnet, solver=newton-cg, warm_start=False;, score=(train=nan, test=nan) total time=   0.0s\n",
            "[CV 2/3] END l1_ratio=0.2, penalty=elasticnet, solver=newton-cg, warm_start=False;, score=(train=nan, test=nan) total time=   0.0s\n",
            "[CV 3/3] END l1_ratio=0.2, penalty=elasticnet, solver=newton-cg, warm_start=False;, score=(train=nan, test=nan) total time=   0.0s\n",
            "[CV 1/3] END l1_ratio=0.2, penalty=elasticnet, solver=newton-cholesky, warm_start=True;, score=(train=nan, test=nan) total time=   0.0s\n",
            "[CV 2/3] END l1_ratio=0.2, penalty=elasticnet, solver=newton-cholesky, warm_start=True;, score=(train=nan, test=nan) total time=   0.0s\n",
            "[CV 3/3] END l1_ratio=0.2, penalty=elasticnet, solver=newton-cholesky, warm_start=True;, score=(train=nan, test=nan) total time=   0.0s\n",
            "[CV 1/3] END l1_ratio=0.2, penalty=elasticnet, solver=newton-cholesky, warm_start=False;, score=(train=nan, test=nan) total time=   0.0s\n",
            "[CV 2/3] END l1_ratio=0.2, penalty=elasticnet, solver=newton-cholesky, warm_start=False;, score=(train=nan, test=nan) total time=   0.0s\n",
            "[CV 3/3] END l1_ratio=0.2, penalty=elasticnet, solver=newton-cholesky, warm_start=False;, score=(train=nan, test=nan) total time=   0.0s\n",
            "[CV 1/3] END l1_ratio=0.2, penalty=elasticnet, solver=sag, warm_start=True;, score=(train=nan, test=nan) total time=   0.0s\n",
            "[CV 2/3] END l1_ratio=0.2, penalty=elasticnet, solver=sag, warm_start=True;, score=(train=nan, test=nan) total time=   0.0s\n",
            "[CV 3/3] END l1_ratio=0.2, penalty=elasticnet, solver=sag, warm_start=True;, score=(train=nan, test=nan) total time=   0.0s\n",
            "[CV 1/3] END l1_ratio=0.2, penalty=elasticnet, solver=sag, warm_start=False;, score=(train=nan, test=nan) total time=   0.0s\n",
            "[CV 2/3] END l1_ratio=0.2, penalty=elasticnet, solver=sag, warm_start=False;, score=(train=nan, test=nan) total time=   0.0s\n",
            "[CV 3/3] END l1_ratio=0.2, penalty=elasticnet, solver=sag, warm_start=False;, score=(train=nan, test=nan) total time=   0.0s\n"
          ]
        },
        {
          "name": "stderr",
          "output_type": "stream",
          "text": [
            "/home/darshil/Programs/anaconda3/lib/python3.11/site-packages/sklearn/linear_model/_logistic.py:1165: UserWarning: l1_ratio parameter is only used when penalty is 'elasticnet'. Got (penalty=l1)\n",
            "  warnings.warn(\n"
          ]
        },
        {
          "name": "stdout",
          "output_type": "stream",
          "text": [
            "[CV 1/3] END l1_ratio=0.4, penalty=l1, solver=saga, warm_start=True;, score=(train=0.729, test=0.725) total time=   2.3s\n"
          ]
        },
        {
          "name": "stderr",
          "output_type": "stream",
          "text": [
            "/home/darshil/Programs/anaconda3/lib/python3.11/site-packages/sklearn/linear_model/_logistic.py:1165: UserWarning: l1_ratio parameter is only used when penalty is 'elasticnet'. Got (penalty=l1)\n",
            "  warnings.warn(\n"
          ]
        },
        {
          "name": "stdout",
          "output_type": "stream",
          "text": [
            "[CV 2/3] END l1_ratio=0.4, penalty=l1, solver=saga, warm_start=True;, score=(train=0.729, test=0.716) total time=   2.0s\n"
          ]
        },
        {
          "name": "stderr",
          "output_type": "stream",
          "text": [
            "/home/darshil/Programs/anaconda3/lib/python3.11/site-packages/sklearn/linear_model/_logistic.py:1165: UserWarning: l1_ratio parameter is only used when penalty is 'elasticnet'. Got (penalty=l1)\n",
            "  warnings.warn(\n"
          ]
        },
        {
          "name": "stdout",
          "output_type": "stream",
          "text": [
            "[CV 3/3] END l1_ratio=0.4, penalty=l1, solver=saga, warm_start=True;, score=(train=0.721, test=0.735) total time=   2.2s\n"
          ]
        },
        {
          "name": "stderr",
          "output_type": "stream",
          "text": [
            "/home/darshil/Programs/anaconda3/lib/python3.11/site-packages/sklearn/linear_model/_logistic.py:1165: UserWarning: l1_ratio parameter is only used when penalty is 'elasticnet'. Got (penalty=l1)\n",
            "  warnings.warn(\n"
          ]
        },
        {
          "name": "stdout",
          "output_type": "stream",
          "text": [
            "[CV 1/3] END l1_ratio=0.4, penalty=l1, solver=saga, warm_start=False;, score=(train=0.729, test=0.725) total time=   2.3s\n"
          ]
        },
        {
          "name": "stderr",
          "output_type": "stream",
          "text": [
            "/home/darshil/Programs/anaconda3/lib/python3.11/site-packages/sklearn/linear_model/_logistic.py:1165: UserWarning: l1_ratio parameter is only used when penalty is 'elasticnet'. Got (penalty=l1)\n",
            "  warnings.warn(\n"
          ]
        },
        {
          "name": "stdout",
          "output_type": "stream",
          "text": [
            "[CV 2/3] END l1_ratio=0.4, penalty=l1, solver=saga, warm_start=False;, score=(train=0.729, test=0.716) total time=   2.0s\n"
          ]
        },
        {
          "name": "stderr",
          "output_type": "stream",
          "text": [
            "/home/darshil/Programs/anaconda3/lib/python3.11/site-packages/sklearn/linear_model/_logistic.py:1165: UserWarning: l1_ratio parameter is only used when penalty is 'elasticnet'. Got (penalty=l1)\n",
            "  warnings.warn(\n"
          ]
        },
        {
          "name": "stdout",
          "output_type": "stream",
          "text": [
            "[CV 3/3] END l1_ratio=0.4, penalty=l1, solver=saga, warm_start=False;, score=(train=0.721, test=0.735) total time=   2.3s\n",
            "[CV 1/3] END l1_ratio=0.4, penalty=l1, solver=liblinear, warm_start=True;, score=(train=0.782, test=0.779) total time=   0.0s\n",
            "[CV 2/3] END l1_ratio=0.4, penalty=l1, solver=liblinear, warm_start=True;, score=(train=0.791, test=0.772) total time=   0.0s\n",
            "[CV 3/3] END l1_ratio=0.4, penalty=l1, solver=liblinear, warm_start=True;, score=(train=0.777, test=0.796) total time=   0.0s\n",
            "[CV 1/3] END l1_ratio=0.4, penalty=l1, solver=liblinear, warm_start=False;, score=(train=0.783, test=0.778) total time=   0.0s\n",
            "[CV 2/3] END l1_ratio=0.4, penalty=l1, solver=liblinear, warm_start=False;, score=(train=0.791, test=0.772) total time=   0.0s\n",
            "[CV 3/3] END l1_ratio=0.4, penalty=l1, solver=liblinear, warm_start=False;, score=(train=0.777, test=0.796) total time=   0.0s\n",
            "[CV 1/3] END l1_ratio=0.4, penalty=l1, solver=lbfgs, warm_start=True;, score=(train=nan, test=nan) total time=   0.0s\n",
            "[CV 2/3] END l1_ratio=0.4, penalty=l1, solver=lbfgs, warm_start=True;, score=(train=nan, test=nan) total time=   0.0s\n",
            "[CV 3/3] END l1_ratio=0.4, penalty=l1, solver=lbfgs, warm_start=True;, score=(train=nan, test=nan) total time=   0.0s\n",
            "[CV 1/3] END l1_ratio=0.4, penalty=l1, solver=lbfgs, warm_start=False;, score=(train=nan, test=nan) total time=   0.0s\n",
            "[CV 2/3] END l1_ratio=0.4, penalty=l1, solver=lbfgs, warm_start=False;, score=(train=nan, test=nan) total time=   0.0s\n",
            "[CV 3/3] END l1_ratio=0.4, penalty=l1, solver=lbfgs, warm_start=False;, score=(train=nan, test=nan) total time=   0.0s\n",
            "[CV 1/3] END l1_ratio=0.4, penalty=l1, solver=newton-cg, warm_start=True;, score=(train=nan, test=nan) total time=   0.0s\n",
            "[CV 2/3] END l1_ratio=0.4, penalty=l1, solver=newton-cg, warm_start=True;, score=(train=nan, test=nan) total time=   0.0s\n",
            "[CV 3/3] END l1_ratio=0.4, penalty=l1, solver=newton-cg, warm_start=True;, score=(train=nan, test=nan) total time=   0.0s\n",
            "[CV 1/3] END l1_ratio=0.4, penalty=l1, solver=newton-cg, warm_start=False;, score=(train=nan, test=nan) total time=   0.0s\n",
            "[CV 2/3] END l1_ratio=0.4, penalty=l1, solver=newton-cg, warm_start=False;, score=(train=nan, test=nan) total time=   0.0s\n",
            "[CV 3/3] END l1_ratio=0.4, penalty=l1, solver=newton-cg, warm_start=False;, score=(train=nan, test=nan) total time=   0.0s\n",
            "[CV 1/3] END l1_ratio=0.4, penalty=l1, solver=newton-cholesky, warm_start=True;, score=(train=nan, test=nan) total time=   0.0s\n",
            "[CV 2/3] END l1_ratio=0.4, penalty=l1, solver=newton-cholesky, warm_start=True;, score=(train=nan, test=nan) total time=   0.0s\n",
            "[CV 3/3] END l1_ratio=0.4, penalty=l1, solver=newton-cholesky, warm_start=True;, score=(train=nan, test=nan) total time=   0.0s\n"
          ]
        },
        {
          "name": "stderr",
          "output_type": "stream",
          "text": [
            "/home/darshil/Programs/anaconda3/lib/python3.11/site-packages/sklearn/linear_model/_logistic.py:1165: UserWarning: l1_ratio parameter is only used when penalty is 'elasticnet'. Got (penalty=l1)\n",
            "  warnings.warn(\n",
            "/home/darshil/Programs/anaconda3/lib/python3.11/site-packages/sklearn/linear_model/_logistic.py:1165: UserWarning: l1_ratio parameter is only used when penalty is 'elasticnet'. Got (penalty=l1)\n",
            "  warnings.warn(\n",
            "/home/darshil/Programs/anaconda3/lib/python3.11/site-packages/sklearn/linear_model/_logistic.py:1165: UserWarning: l1_ratio parameter is only used when penalty is 'elasticnet'. Got (penalty=l1)\n",
            "  warnings.warn(\n",
            "/home/darshil/Programs/anaconda3/lib/python3.11/site-packages/sklearn/linear_model/_logistic.py:1165: UserWarning: l1_ratio parameter is only used when penalty is 'elasticnet'. Got (penalty=l1)\n",
            "  warnings.warn(\n",
            "/home/darshil/Programs/anaconda3/lib/python3.11/site-packages/sklearn/linear_model/_logistic.py:1165: UserWarning: l1_ratio parameter is only used when penalty is 'elasticnet'. Got (penalty=l1)\n",
            "  warnings.warn(\n",
            "/home/darshil/Programs/anaconda3/lib/python3.11/site-packages/sklearn/linear_model/_logistic.py:1165: UserWarning: l1_ratio parameter is only used when penalty is 'elasticnet'. Got (penalty=l1)\n",
            "  warnings.warn(\n"
          ]
        },
        {
          "name": "stdout",
          "output_type": "stream",
          "text": [
            "[CV 1/3] END l1_ratio=0.4, penalty=l1, solver=newton-cholesky, warm_start=False;, score=(train=nan, test=nan) total time=   0.0s\n",
            "[CV 2/3] END l1_ratio=0.4, penalty=l1, solver=newton-cholesky, warm_start=False;, score=(train=nan, test=nan) total time=   0.0s\n",
            "[CV 3/3] END l1_ratio=0.4, penalty=l1, solver=newton-cholesky, warm_start=False;, score=(train=nan, test=nan) total time=   0.0s\n",
            "[CV 1/3] END l1_ratio=0.4, penalty=l1, solver=sag, warm_start=True;, score=(train=nan, test=nan) total time=   0.0s\n",
            "[CV 2/3] END l1_ratio=0.4, penalty=l1, solver=sag, warm_start=True;, score=(train=nan, test=nan) total time=   0.0s\n",
            "[CV 3/3] END l1_ratio=0.4, penalty=l1, solver=sag, warm_start=True;, score=(train=nan, test=nan) total time=   0.0s\n",
            "[CV 1/3] END l1_ratio=0.4, penalty=l1, solver=sag, warm_start=False;, score=(train=nan, test=nan) total time=   0.0s\n",
            "[CV 2/3] END l1_ratio=0.4, penalty=l1, solver=sag, warm_start=False;, score=(train=nan, test=nan) total time=   0.0s\n",
            "[CV 3/3] END l1_ratio=0.4, penalty=l1, solver=sag, warm_start=False;, score=(train=nan, test=nan) total time=   0.0s\n"
          ]
        },
        {
          "name": "stderr",
          "output_type": "stream",
          "text": [
            "/home/darshil/Programs/anaconda3/lib/python3.11/site-packages/sklearn/linear_model/_logistic.py:1165: UserWarning: l1_ratio parameter is only used when penalty is 'elasticnet'. Got (penalty=l2)\n",
            "  warnings.warn(\n"
          ]
        },
        {
          "name": "stdout",
          "output_type": "stream",
          "text": [
            "[CV 1/3] END l1_ratio=0.4, penalty=l2, solver=saga, warm_start=True;, score=(train=0.729, test=0.725) total time=   1.9s\n"
          ]
        },
        {
          "name": "stderr",
          "output_type": "stream",
          "text": [
            "/home/darshil/Programs/anaconda3/lib/python3.11/site-packages/sklearn/linear_model/_logistic.py:1165: UserWarning: l1_ratio parameter is only used when penalty is 'elasticnet'. Got (penalty=l2)\n",
            "  warnings.warn(\n"
          ]
        },
        {
          "name": "stdout",
          "output_type": "stream",
          "text": [
            "[CV 2/3] END l1_ratio=0.4, penalty=l2, solver=saga, warm_start=True;, score=(train=0.729, test=0.716) total time=   1.6s\n"
          ]
        },
        {
          "name": "stderr",
          "output_type": "stream",
          "text": [
            "/home/darshil/Programs/anaconda3/lib/python3.11/site-packages/sklearn/linear_model/_logistic.py:1165: UserWarning: l1_ratio parameter is only used when penalty is 'elasticnet'. Got (penalty=l2)\n",
            "  warnings.warn(\n"
          ]
        },
        {
          "name": "stdout",
          "output_type": "stream",
          "text": [
            "[CV 3/3] END l1_ratio=0.4, penalty=l2, solver=saga, warm_start=True;, score=(train=0.721, test=0.735) total time=   1.8s\n"
          ]
        },
        {
          "name": "stderr",
          "output_type": "stream",
          "text": [
            "/home/darshil/Programs/anaconda3/lib/python3.11/site-packages/sklearn/linear_model/_logistic.py:1165: UserWarning: l1_ratio parameter is only used when penalty is 'elasticnet'. Got (penalty=l2)\n",
            "  warnings.warn(\n"
          ]
        },
        {
          "name": "stdout",
          "output_type": "stream",
          "text": [
            "[CV 1/3] END l1_ratio=0.4, penalty=l2, solver=saga, warm_start=False;, score=(train=0.729, test=0.725) total time=   1.9s\n"
          ]
        },
        {
          "name": "stderr",
          "output_type": "stream",
          "text": [
            "/home/darshil/Programs/anaconda3/lib/python3.11/site-packages/sklearn/linear_model/_logistic.py:1165: UserWarning: l1_ratio parameter is only used when penalty is 'elasticnet'. Got (penalty=l2)\n",
            "  warnings.warn(\n"
          ]
        },
        {
          "name": "stdout",
          "output_type": "stream",
          "text": [
            "[CV 2/3] END l1_ratio=0.4, penalty=l2, solver=saga, warm_start=False;, score=(train=0.729, test=0.716) total time=   1.7s\n"
          ]
        },
        {
          "name": "stderr",
          "output_type": "stream",
          "text": [
            "/home/darshil/Programs/anaconda3/lib/python3.11/site-packages/sklearn/linear_model/_logistic.py:1165: UserWarning: l1_ratio parameter is only used when penalty is 'elasticnet'. Got (penalty=l2)\n",
            "  warnings.warn(\n"
          ]
        },
        {
          "name": "stdout",
          "output_type": "stream",
          "text": [
            "[CV 3/3] END l1_ratio=0.4, penalty=l2, solver=saga, warm_start=False;, score=(train=0.721, test=0.735) total time=   1.8s\n",
            "[CV 1/3] END l1_ratio=0.4, penalty=l2, solver=liblinear, warm_start=True;, score=(train=0.781, test=0.778) total time=   0.0s\n",
            "[CV 2/3] END l1_ratio=0.4, penalty=l2, solver=liblinear, warm_start=True;, score=(train=0.791, test=0.777) total time=   0.0s\n",
            "[CV 3/3] END l1_ratio=0.4, penalty=l2, solver=liblinear, warm_start=True;, score=(train=0.775, test=0.794) total time=   0.0s\n",
            "[CV 1/3] END l1_ratio=0.4, penalty=l2, solver=liblinear, warm_start=False;, score=(train=0.781, test=0.778) total time=   0.0s\n",
            "[CV 2/3] END l1_ratio=0.4, penalty=l2, solver=liblinear, warm_start=False;, score=(train=0.791, test=0.777) total time=   0.0s\n"
          ]
        },
        {
          "name": "stderr",
          "output_type": "stream",
          "text": [
            "/home/darshil/Programs/anaconda3/lib/python3.11/site-packages/sklearn/linear_model/_logistic.py:1165: UserWarning: l1_ratio parameter is only used when penalty is 'elasticnet'. Got (penalty=l2)\n",
            "  warnings.warn(\n",
            "/home/darshil/Programs/anaconda3/lib/python3.11/site-packages/sklearn/linear_model/_logistic.py:1165: UserWarning: l1_ratio parameter is only used when penalty is 'elasticnet'. Got (penalty=l2)\n",
            "  warnings.warn(\n",
            "/home/darshil/Programs/anaconda3/lib/python3.11/site-packages/sklearn/linear_model/_logistic.py:1165: UserWarning: l1_ratio parameter is only used when penalty is 'elasticnet'. Got (penalty=l2)\n",
            "  warnings.warn(\n",
            "/home/darshil/Programs/anaconda3/lib/python3.11/site-packages/sklearn/linear_model/_logistic.py:1165: UserWarning: l1_ratio parameter is only used when penalty is 'elasticnet'. Got (penalty=l2)\n",
            "  warnings.warn(\n",
            "/home/darshil/Programs/anaconda3/lib/python3.11/site-packages/sklearn/linear_model/_logistic.py:1165: UserWarning: l1_ratio parameter is only used when penalty is 'elasticnet'. Got (penalty=l2)\n",
            "  warnings.warn(\n",
            "/home/darshil/Programs/anaconda3/lib/python3.11/site-packages/sklearn/linear_model/_logistic.py:1165: UserWarning: l1_ratio parameter is only used when penalty is 'elasticnet'. Got (penalty=l2)\n",
            "  warnings.warn(\n"
          ]
        },
        {
          "name": "stdout",
          "output_type": "stream",
          "text": [
            "[CV 3/3] END l1_ratio=0.4, penalty=l2, solver=liblinear, warm_start=False;, score=(train=0.775, test=0.794) total time=   0.0s\n",
            "[CV 1/3] END l1_ratio=0.4, penalty=l2, solver=lbfgs, warm_start=True;, score=(train=0.781, test=0.779) total time=   0.1s\n",
            "[CV 2/3] END l1_ratio=0.4, penalty=l2, solver=lbfgs, warm_start=True;, score=(train=0.791, test=0.774) total time=   0.1s\n"
          ]
        },
        {
          "name": "stderr",
          "output_type": "stream",
          "text": [
            "/home/darshil/Programs/anaconda3/lib/python3.11/site-packages/sklearn/linear_model/_logistic.py:1165: UserWarning: l1_ratio parameter is only used when penalty is 'elasticnet'. Got (penalty=l2)\n",
            "  warnings.warn(\n",
            "/home/darshil/Programs/anaconda3/lib/python3.11/site-packages/sklearn/linear_model/_logistic.py:1165: UserWarning: l1_ratio parameter is only used when penalty is 'elasticnet'. Got (penalty=l2)\n",
            "  warnings.warn(\n",
            "/home/darshil/Programs/anaconda3/lib/python3.11/site-packages/sklearn/linear_model/_logistic.py:1165: UserWarning: l1_ratio parameter is only used when penalty is 'elasticnet'. Got (penalty=l2)\n",
            "  warnings.warn(\n"
          ]
        },
        {
          "name": "stdout",
          "output_type": "stream",
          "text": [
            "[CV 3/3] END l1_ratio=0.4, penalty=l2, solver=lbfgs, warm_start=True;, score=(train=0.777, test=0.797) total time=   0.1s\n",
            "[CV 1/3] END l1_ratio=0.4, penalty=l2, solver=lbfgs, warm_start=False;, score=(train=0.781, test=0.779) total time=   0.1s\n",
            "[CV 2/3] END l1_ratio=0.4, penalty=l2, solver=lbfgs, warm_start=False;, score=(train=0.791, test=0.774) total time=   0.1s\n"
          ]
        },
        {
          "name": "stderr",
          "output_type": "stream",
          "text": [
            "/home/darshil/Programs/anaconda3/lib/python3.11/site-packages/sklearn/linear_model/_logistic.py:1165: UserWarning: l1_ratio parameter is only used when penalty is 'elasticnet'. Got (penalty=l2)\n",
            "  warnings.warn(\n",
            "/home/darshil/Programs/anaconda3/lib/python3.11/site-packages/sklearn/linear_model/_logistic.py:1165: UserWarning: l1_ratio parameter is only used when penalty is 'elasticnet'. Got (penalty=l2)\n",
            "  warnings.warn(\n",
            "/home/darshil/Programs/anaconda3/lib/python3.11/site-packages/sklearn/linear_model/_logistic.py:1165: UserWarning: l1_ratio parameter is only used when penalty is 'elasticnet'. Got (penalty=l2)\n",
            "  warnings.warn(\n"
          ]
        },
        {
          "name": "stdout",
          "output_type": "stream",
          "text": [
            "[CV 3/3] END l1_ratio=0.4, penalty=l2, solver=lbfgs, warm_start=False;, score=(train=0.777, test=0.797) total time=   0.1s\n",
            "[CV 1/3] END l1_ratio=0.4, penalty=l2, solver=newton-cg, warm_start=True;, score=(train=0.781, test=0.777) total time=   0.1s\n",
            "[CV 2/3] END l1_ratio=0.4, penalty=l2, solver=newton-cg, warm_start=True;, score=(train=0.789, test=0.770) total time=   0.1s\n"
          ]
        },
        {
          "name": "stderr",
          "output_type": "stream",
          "text": [
            "/home/darshil/Programs/anaconda3/lib/python3.11/site-packages/sklearn/linear_model/_logistic.py:1165: UserWarning: l1_ratio parameter is only used when penalty is 'elasticnet'. Got (penalty=l2)\n",
            "  warnings.warn(\n",
            "/home/darshil/Programs/anaconda3/lib/python3.11/site-packages/sklearn/linear_model/_logistic.py:1165: UserWarning: l1_ratio parameter is only used when penalty is 'elasticnet'. Got (penalty=l2)\n",
            "  warnings.warn(\n",
            "/home/darshil/Programs/anaconda3/lib/python3.11/site-packages/sklearn/linear_model/_logistic.py:1165: UserWarning: l1_ratio parameter is only used when penalty is 'elasticnet'. Got (penalty=l2)\n",
            "  warnings.warn(\n"
          ]
        },
        {
          "name": "stdout",
          "output_type": "stream",
          "text": [
            "[CV 3/3] END l1_ratio=0.4, penalty=l2, solver=newton-cg, warm_start=True;, score=(train=0.777, test=0.792) total time=   0.1s\n",
            "[CV 1/3] END l1_ratio=0.4, penalty=l2, solver=newton-cg, warm_start=False;, score=(train=0.781, test=0.777) total time=   0.1s\n",
            "[CV 2/3] END l1_ratio=0.4, penalty=l2, solver=newton-cg, warm_start=False;, score=(train=0.789, test=0.770) total time=   0.1s\n"
          ]
        },
        {
          "name": "stderr",
          "output_type": "stream",
          "text": [
            "/home/darshil/Programs/anaconda3/lib/python3.11/site-packages/sklearn/linear_model/_logistic.py:1165: UserWarning: l1_ratio parameter is only used when penalty is 'elasticnet'. Got (penalty=l2)\n",
            "  warnings.warn(\n",
            "/home/darshil/Programs/anaconda3/lib/python3.11/site-packages/sklearn/linear_model/_logistic.py:1165: UserWarning: l1_ratio parameter is only used when penalty is 'elasticnet'. Got (penalty=l2)\n",
            "  warnings.warn(\n",
            "/home/darshil/Programs/anaconda3/lib/python3.11/site-packages/sklearn/linear_model/_logistic.py:1165: UserWarning: l1_ratio parameter is only used when penalty is 'elasticnet'. Got (penalty=l2)\n",
            "  warnings.warn(\n"
          ]
        },
        {
          "name": "stdout",
          "output_type": "stream",
          "text": [
            "[CV 3/3] END l1_ratio=0.4, penalty=l2, solver=newton-cg, warm_start=False;, score=(train=0.777, test=0.792) total time=   0.1s\n",
            "[CV 1/3] END l1_ratio=0.4, penalty=l2, solver=newton-cholesky, warm_start=True;, score=(train=0.781, test=0.777) total time=   0.0s\n",
            "[CV 2/3] END l1_ratio=0.4, penalty=l2, solver=newton-cholesky, warm_start=True;, score=(train=0.789, test=0.770) total time=   0.0s\n",
            "[CV 3/3] END l1_ratio=0.4, penalty=l2, solver=newton-cholesky, warm_start=True;, score=(train=0.777, test=0.792) total time=   0.0s\n",
            "[CV 1/3] END l1_ratio=0.4, penalty=l2, solver=newton-cholesky, warm_start=False;, score=(train=0.781, test=0.777) total time=   0.0s\n",
            "[CV 2/3] END l1_ratio=0.4, penalty=l2, solver=newton-cholesky, warm_start=False;, score=(train=0.789, test=0.770) total time=   0.0s\n",
            "[CV 3/3] END l1_ratio=0.4, penalty=l2, solver=newton-cholesky, warm_start=False;, score=(train=0.777, test=0.792) total time=   0.0s\n"
          ]
        },
        {
          "name": "stderr",
          "output_type": "stream",
          "text": [
            "/home/darshil/Programs/anaconda3/lib/python3.11/site-packages/sklearn/linear_model/_logistic.py:1165: UserWarning: l1_ratio parameter is only used when penalty is 'elasticnet'. Got (penalty=l2)\n",
            "  warnings.warn(\n",
            "/home/darshil/Programs/anaconda3/lib/python3.11/site-packages/sklearn/linear_model/_logistic.py:1165: UserWarning: l1_ratio parameter is only used when penalty is 'elasticnet'. Got (penalty=l2)\n",
            "  warnings.warn(\n",
            "/home/darshil/Programs/anaconda3/lib/python3.11/site-packages/sklearn/linear_model/_logistic.py:1165: UserWarning: l1_ratio parameter is only used when penalty is 'elasticnet'. Got (penalty=l2)\n",
            "  warnings.warn(\n",
            "/home/darshil/Programs/anaconda3/lib/python3.11/site-packages/sklearn/linear_model/_logistic.py:1165: UserWarning: l1_ratio parameter is only used when penalty is 'elasticnet'. Got (penalty=l2)\n",
            "  warnings.warn(\n",
            "/home/darshil/Programs/anaconda3/lib/python3.11/site-packages/sklearn/linear_model/_logistic.py:1165: UserWarning: l1_ratio parameter is only used when penalty is 'elasticnet'. Got (penalty=l2)\n",
            "  warnings.warn(\n",
            "/home/darshil/Programs/anaconda3/lib/python3.11/site-packages/sklearn/linear_model/_logistic.py:1165: UserWarning: l1_ratio parameter is only used when penalty is 'elasticnet'. Got (penalty=l2)\n",
            "  warnings.warn(\n",
            "/home/darshil/Programs/anaconda3/lib/python3.11/site-packages/sklearn/linear_model/_logistic.py:1165: UserWarning: l1_ratio parameter is only used when penalty is 'elasticnet'. Got (penalty=l2)\n",
            "  warnings.warn(\n"
          ]
        },
        {
          "name": "stdout",
          "output_type": "stream",
          "text": [
            "[CV 1/3] END l1_ratio=0.4, penalty=l2, solver=sag, warm_start=True;, score=(train=0.727, test=0.725) total time=   1.1s\n"
          ]
        },
        {
          "name": "stderr",
          "output_type": "stream",
          "text": [
            "/home/darshil/Programs/anaconda3/lib/python3.11/site-packages/sklearn/linear_model/_logistic.py:1165: UserWarning: l1_ratio parameter is only used when penalty is 'elasticnet'. Got (penalty=l2)\n",
            "  warnings.warn(\n"
          ]
        },
        {
          "name": "stdout",
          "output_type": "stream",
          "text": [
            "[CV 2/3] END l1_ratio=0.4, penalty=l2, solver=sag, warm_start=True;, score=(train=0.728, test=0.716) total time=   0.9s\n"
          ]
        },
        {
          "name": "stderr",
          "output_type": "stream",
          "text": [
            "/home/darshil/Programs/anaconda3/lib/python3.11/site-packages/sklearn/linear_model/_logistic.py:1165: UserWarning: l1_ratio parameter is only used when penalty is 'elasticnet'. Got (penalty=l2)\n",
            "  warnings.warn(\n"
          ]
        },
        {
          "name": "stdout",
          "output_type": "stream",
          "text": [
            "[CV 3/3] END l1_ratio=0.4, penalty=l2, solver=sag, warm_start=True;, score=(train=0.721, test=0.734) total time=   1.0s\n"
          ]
        },
        {
          "name": "stderr",
          "output_type": "stream",
          "text": [
            "/home/darshil/Programs/anaconda3/lib/python3.11/site-packages/sklearn/linear_model/_logistic.py:1165: UserWarning: l1_ratio parameter is only used when penalty is 'elasticnet'. Got (penalty=l2)\n",
            "  warnings.warn(\n"
          ]
        },
        {
          "name": "stdout",
          "output_type": "stream",
          "text": [
            "[CV 1/3] END l1_ratio=0.4, penalty=l2, solver=sag, warm_start=False;, score=(train=0.727, test=0.725) total time=   1.0s\n"
          ]
        },
        {
          "name": "stderr",
          "output_type": "stream",
          "text": [
            "/home/darshil/Programs/anaconda3/lib/python3.11/site-packages/sklearn/linear_model/_logistic.py:1165: UserWarning: l1_ratio parameter is only used when penalty is 'elasticnet'. Got (penalty=l2)\n",
            "  warnings.warn(\n"
          ]
        },
        {
          "name": "stdout",
          "output_type": "stream",
          "text": [
            "[CV 2/3] END l1_ratio=0.4, penalty=l2, solver=sag, warm_start=False;, score=(train=0.728, test=0.716) total time=   0.9s\n"
          ]
        },
        {
          "name": "stderr",
          "output_type": "stream",
          "text": [
            "/home/darshil/Programs/anaconda3/lib/python3.11/site-packages/sklearn/linear_model/_logistic.py:1165: UserWarning: l1_ratio parameter is only used when penalty is 'elasticnet'. Got (penalty=l2)\n",
            "  warnings.warn(\n"
          ]
        },
        {
          "name": "stdout",
          "output_type": "stream",
          "text": [
            "[CV 3/3] END l1_ratio=0.4, penalty=l2, solver=sag, warm_start=False;, score=(train=0.721, test=0.734) total time=   1.0s\n",
            "[CV 1/3] END l1_ratio=0.4, penalty=elasticnet, solver=saga, warm_start=True;, score=(train=0.729, test=0.725) total time=   2.2s\n",
            "[CV 2/3] END l1_ratio=0.4, penalty=elasticnet, solver=saga, warm_start=True;, score=(train=0.729, test=0.716) total time=   1.9s\n",
            "[CV 3/3] END l1_ratio=0.4, penalty=elasticnet, solver=saga, warm_start=True;, score=(train=0.721, test=0.735) total time=   2.2s\n",
            "[CV 1/3] END l1_ratio=0.4, penalty=elasticnet, solver=saga, warm_start=False;, score=(train=0.729, test=0.725) total time=   2.3s\n",
            "[CV 2/3] END l1_ratio=0.4, penalty=elasticnet, solver=saga, warm_start=False;, score=(train=0.729, test=0.716) total time=   2.0s\n",
            "[CV 3/3] END l1_ratio=0.4, penalty=elasticnet, solver=saga, warm_start=False;, score=(train=0.721, test=0.735) total time=   2.2s\n",
            "[CV 1/3] END l1_ratio=0.4, penalty=elasticnet, solver=liblinear, warm_start=True;, score=(train=nan, test=nan) total time=   0.0s\n",
            "[CV 2/3] END l1_ratio=0.4, penalty=elasticnet, solver=liblinear, warm_start=True;, score=(train=nan, test=nan) total time=   0.0s\n",
            "[CV 3/3] END l1_ratio=0.4, penalty=elasticnet, solver=liblinear, warm_start=True;, score=(train=nan, test=nan) total time=   0.0s\n",
            "[CV 1/3] END l1_ratio=0.4, penalty=elasticnet, solver=liblinear, warm_start=False;, score=(train=nan, test=nan) total time=   0.0s\n",
            "[CV 2/3] END l1_ratio=0.4, penalty=elasticnet, solver=liblinear, warm_start=False;, score=(train=nan, test=nan) total time=   0.0s\n",
            "[CV 3/3] END l1_ratio=0.4, penalty=elasticnet, solver=liblinear, warm_start=False;, score=(train=nan, test=nan) total time=   0.0s\n",
            "[CV 1/3] END l1_ratio=0.4, penalty=elasticnet, solver=lbfgs, warm_start=True;, score=(train=nan, test=nan) total time=   0.0s\n",
            "[CV 2/3] END l1_ratio=0.4, penalty=elasticnet, solver=lbfgs, warm_start=True;, score=(train=nan, test=nan) total time=   0.0s\n",
            "[CV 3/3] END l1_ratio=0.4, penalty=elasticnet, solver=lbfgs, warm_start=True;, score=(train=nan, test=nan) total time=   0.0s\n",
            "[CV 1/3] END l1_ratio=0.4, penalty=elasticnet, solver=lbfgs, warm_start=False;, score=(train=nan, test=nan) total time=   0.0s\n",
            "[CV 2/3] END l1_ratio=0.4, penalty=elasticnet, solver=lbfgs, warm_start=False;, score=(train=nan, test=nan) total time=   0.0s\n",
            "[CV 3/3] END l1_ratio=0.4, penalty=elasticnet, solver=lbfgs, warm_start=False;, score=(train=nan, test=nan) total time=   0.0s\n",
            "[CV 1/3] END l1_ratio=0.4, penalty=elasticnet, solver=newton-cg, warm_start=True;, score=(train=nan, test=nan) total time=   0.0s\n",
            "[CV 2/3] END l1_ratio=0.4, penalty=elasticnet, solver=newton-cg, warm_start=True;, score=(train=nan, test=nan) total time=   0.0s\n",
            "[CV 3/3] END l1_ratio=0.4, penalty=elasticnet, solver=newton-cg, warm_start=True;, score=(train=nan, test=nan) total time=   0.0s\n",
            "[CV 1/3] END l1_ratio=0.4, penalty=elasticnet, solver=newton-cg, warm_start=False;, score=(train=nan, test=nan) total time=   0.0s\n",
            "[CV 2/3] END l1_ratio=0.4, penalty=elasticnet, solver=newton-cg, warm_start=False;, score=(train=nan, test=nan) total time=   0.0s\n",
            "[CV 3/3] END l1_ratio=0.4, penalty=elasticnet, solver=newton-cg, warm_start=False;, score=(train=nan, test=nan) total time=   0.0s\n",
            "[CV 1/3] END l1_ratio=0.4, penalty=elasticnet, solver=newton-cholesky, warm_start=True;, score=(train=nan, test=nan) total time=   0.0s\n",
            "[CV 2/3] END l1_ratio=0.4, penalty=elasticnet, solver=newton-cholesky, warm_start=True;, score=(train=nan, test=nan) total time=   0.0s\n",
            "[CV 3/3] END l1_ratio=0.4, penalty=elasticnet, solver=newton-cholesky, warm_start=True;, score=(train=nan, test=nan) total time=   0.0s\n",
            "[CV 1/3] END l1_ratio=0.4, penalty=elasticnet, solver=newton-cholesky, warm_start=False;, score=(train=nan, test=nan) total time=   0.0s\n",
            "[CV 2/3] END l1_ratio=0.4, penalty=elasticnet, solver=newton-cholesky, warm_start=False;, score=(train=nan, test=nan) total time=   0.0s\n",
            "[CV 3/3] END l1_ratio=0.4, penalty=elasticnet, solver=newton-cholesky, warm_start=False;, score=(train=nan, test=nan) total time=   0.0s\n",
            "[CV 1/3] END l1_ratio=0.4, penalty=elasticnet, solver=sag, warm_start=True;, score=(train=nan, test=nan) total time=   0.0s\n",
            "[CV 2/3] END l1_ratio=0.4, penalty=elasticnet, solver=sag, warm_start=True;, score=(train=nan, test=nan) total time=   0.0s\n",
            "[CV 3/3] END l1_ratio=0.4, penalty=elasticnet, solver=sag, warm_start=True;, score=(train=nan, test=nan) total time=   0.0s\n",
            "[CV 1/3] END l1_ratio=0.4, penalty=elasticnet, solver=sag, warm_start=False;, score=(train=nan, test=nan) total time=   0.0s\n",
            "[CV 2/3] END l1_ratio=0.4, penalty=elasticnet, solver=sag, warm_start=False;, score=(train=nan, test=nan) total time=   0.0s\n",
            "[CV 3/3] END l1_ratio=0.4, penalty=elasticnet, solver=sag, warm_start=False;, score=(train=nan, test=nan) total time=   0.0s\n"
          ]
        },
        {
          "name": "stderr",
          "output_type": "stream",
          "text": [
            "/home/darshil/Programs/anaconda3/lib/python3.11/site-packages/sklearn/linear_model/_logistic.py:1165: UserWarning: l1_ratio parameter is only used when penalty is 'elasticnet'. Got (penalty=l1)\n",
            "  warnings.warn(\n"
          ]
        },
        {
          "name": "stdout",
          "output_type": "stream",
          "text": [
            "[CV 1/3] END l1_ratio=0.6, penalty=l1, solver=saga, warm_start=True;, score=(train=0.729, test=0.725) total time=   2.2s\n"
          ]
        },
        {
          "name": "stderr",
          "output_type": "stream",
          "text": [
            "/home/darshil/Programs/anaconda3/lib/python3.11/site-packages/sklearn/linear_model/_logistic.py:1165: UserWarning: l1_ratio parameter is only used when penalty is 'elasticnet'. Got (penalty=l1)\n",
            "  warnings.warn(\n"
          ]
        },
        {
          "name": "stdout",
          "output_type": "stream",
          "text": [
            "[CV 2/3] END l1_ratio=0.6, penalty=l1, solver=saga, warm_start=True;, score=(train=0.729, test=0.716) total time=   2.0s\n"
          ]
        },
        {
          "name": "stderr",
          "output_type": "stream",
          "text": [
            "/home/darshil/Programs/anaconda3/lib/python3.11/site-packages/sklearn/linear_model/_logistic.py:1165: UserWarning: l1_ratio parameter is only used when penalty is 'elasticnet'. Got (penalty=l1)\n",
            "  warnings.warn(\n"
          ]
        },
        {
          "name": "stdout",
          "output_type": "stream",
          "text": [
            "[CV 3/3] END l1_ratio=0.6, penalty=l1, solver=saga, warm_start=True;, score=(train=0.721, test=0.735) total time=   2.2s\n"
          ]
        },
        {
          "name": "stderr",
          "output_type": "stream",
          "text": [
            "/home/darshil/Programs/anaconda3/lib/python3.11/site-packages/sklearn/linear_model/_logistic.py:1165: UserWarning: l1_ratio parameter is only used when penalty is 'elasticnet'. Got (penalty=l1)\n",
            "  warnings.warn(\n"
          ]
        },
        {
          "name": "stdout",
          "output_type": "stream",
          "text": [
            "[CV 1/3] END l1_ratio=0.6, penalty=l1, solver=saga, warm_start=False;, score=(train=0.729, test=0.725) total time=   2.2s\n"
          ]
        },
        {
          "name": "stderr",
          "output_type": "stream",
          "text": [
            "/home/darshil/Programs/anaconda3/lib/python3.11/site-packages/sklearn/linear_model/_logistic.py:1165: UserWarning: l1_ratio parameter is only used when penalty is 'elasticnet'. Got (penalty=l1)\n",
            "  warnings.warn(\n"
          ]
        },
        {
          "name": "stdout",
          "output_type": "stream",
          "text": [
            "[CV 2/3] END l1_ratio=0.6, penalty=l1, solver=saga, warm_start=False;, score=(train=0.729, test=0.716) total time=   1.9s\n"
          ]
        },
        {
          "name": "stderr",
          "output_type": "stream",
          "text": [
            "/home/darshil/Programs/anaconda3/lib/python3.11/site-packages/sklearn/linear_model/_logistic.py:1165: UserWarning: l1_ratio parameter is only used when penalty is 'elasticnet'. Got (penalty=l1)\n",
            "  warnings.warn(\n"
          ]
        },
        {
          "name": "stdout",
          "output_type": "stream",
          "text": [
            "[CV 3/3] END l1_ratio=0.6, penalty=l1, solver=saga, warm_start=False;, score=(train=0.721, test=0.735) total time=   2.1s\n",
            "[CV 1/3] END l1_ratio=0.6, penalty=l1, solver=liblinear, warm_start=True;, score=(train=0.782, test=0.778) total time=   0.0s\n",
            "[CV 2/3] END l1_ratio=0.6, penalty=l1, solver=liblinear, warm_start=True;, score=(train=0.791, test=0.772) total time=   0.0s\n",
            "[CV 3/3] END l1_ratio=0.6, penalty=l1, solver=liblinear, warm_start=True;, score=(train=0.777, test=0.796) total time=   0.0s\n",
            "[CV 1/3] END l1_ratio=0.6, penalty=l1, solver=liblinear, warm_start=False;, score=(train=0.782, test=0.778) total time=   0.0s\n",
            "[CV 2/3] END l1_ratio=0.6, penalty=l1, solver=liblinear, warm_start=False;, score=(train=0.790, test=0.772) total time=   0.0s\n",
            "[CV 3/3] END l1_ratio=0.6, penalty=l1, solver=liblinear, warm_start=False;, score=(train=0.777, test=0.796) total time=   0.0s\n",
            "[CV 1/3] END l1_ratio=0.6, penalty=l1, solver=lbfgs, warm_start=True;, score=(train=nan, test=nan) total time=   0.0s\n",
            "[CV 2/3] END l1_ratio=0.6, penalty=l1, solver=lbfgs, warm_start=True;, score=(train=nan, test=nan) total time=   0.0s\n",
            "[CV 3/3] END l1_ratio=0.6, penalty=l1, solver=lbfgs, warm_start=True;, score=(train=nan, test=nan) total time=   0.0s\n",
            "[CV 1/3] END l1_ratio=0.6, penalty=l1, solver=lbfgs, warm_start=False;, score=(train=nan, test=nan) total time=   0.0s\n",
            "[CV 2/3] END l1_ratio=0.6, penalty=l1, solver=lbfgs, warm_start=False;, score=(train=nan, test=nan) total time=   0.0s\n",
            "[CV 3/3] END l1_ratio=0.6, penalty=l1, solver=lbfgs, warm_start=False;, score=(train=nan, test=nan) total time=   0.0s\n",
            "[CV 1/3] END l1_ratio=0.6, penalty=l1, solver=newton-cg, warm_start=True;, score=(train=nan, test=nan) total time=   0.0s\n",
            "[CV 2/3] END l1_ratio=0.6, penalty=l1, solver=newton-cg, warm_start=True;, score=(train=nan, test=nan) total time=   0.0s\n",
            "[CV 3/3] END l1_ratio=0.6, penalty=l1, solver=newton-cg, warm_start=True;, score=(train=nan, test=nan) total time=   0.0s\n",
            "[CV 1/3] END l1_ratio=0.6, penalty=l1, solver=newton-cg, warm_start=False;, score=(train=nan, test=nan) total time=   0.0s\n",
            "[CV 2/3] END l1_ratio=0.6, penalty=l1, solver=newton-cg, warm_start=False;, score=(train=nan, test=nan) total time=   0.0s\n",
            "[CV 3/3] END l1_ratio=0.6, penalty=l1, solver=newton-cg, warm_start=False;, score=(train=nan, test=nan) total time=   0.0s\n",
            "[CV 1/3] END l1_ratio=0.6, penalty=l1, solver=newton-cholesky, warm_start=True;, score=(train=nan, test=nan) total time=   0.0s\n",
            "[CV 2/3] END l1_ratio=0.6, penalty=l1, solver=newton-cholesky, warm_start=True;, score=(train=nan, test=nan) total time=   0.0s\n",
            "[CV 3/3] END l1_ratio=0.6, penalty=l1, solver=newton-cholesky, warm_start=True;, score=(train=nan, test=nan) total time=   0.0s\n",
            "[CV 1/3] END l1_ratio=0.6, penalty=l1, solver=newton-cholesky, warm_start=False;, score=(train=nan, test=nan) total time=   0.0s\n",
            "[CV 2/3] END l1_ratio=0.6, penalty=l1, solver=newton-cholesky, warm_start=False;, score=(train=nan, test=nan) total time=   0.0s\n",
            "[CV 3/3] END l1_ratio=0.6, penalty=l1, solver=newton-cholesky, warm_start=False;, score=(train=nan, test=nan) total time=   0.0s\n",
            "[CV 1/3] END l1_ratio=0.6, penalty=l1, solver=sag, warm_start=True;, score=(train=nan, test=nan) total time=   0.0s\n",
            "[CV 2/3] END l1_ratio=0.6, penalty=l1, solver=sag, warm_start=True;, score=(train=nan, test=nan) total time=   0.0s\n",
            "[CV 3/3] END l1_ratio=0.6, penalty=l1, solver=sag, warm_start=True;, score=(train=nan, test=nan) total time=   0.0s\n",
            "[CV 1/3] END l1_ratio=0.6, penalty=l1, solver=sag, warm_start=False;, score=(train=nan, test=nan) total time=   0.0s\n",
            "[CV 2/3] END l1_ratio=0.6, penalty=l1, solver=sag, warm_start=False;, score=(train=nan, test=nan) total time=   0.0s\n",
            "[CV 3/3] END l1_ratio=0.6, penalty=l1, solver=sag, warm_start=False;, score=(train=nan, test=nan) total time=   0.0s\n"
          ]
        },
        {
          "name": "stderr",
          "output_type": "stream",
          "text": [
            "/home/darshil/Programs/anaconda3/lib/python3.11/site-packages/sklearn/linear_model/_logistic.py:1165: UserWarning: l1_ratio parameter is only used when penalty is 'elasticnet'. Got (penalty=l1)\n",
            "  warnings.warn(\n",
            "/home/darshil/Programs/anaconda3/lib/python3.11/site-packages/sklearn/linear_model/_logistic.py:1165: UserWarning: l1_ratio parameter is only used when penalty is 'elasticnet'. Got (penalty=l1)\n",
            "  warnings.warn(\n",
            "/home/darshil/Programs/anaconda3/lib/python3.11/site-packages/sklearn/linear_model/_logistic.py:1165: UserWarning: l1_ratio parameter is only used when penalty is 'elasticnet'. Got (penalty=l1)\n",
            "  warnings.warn(\n",
            "/home/darshil/Programs/anaconda3/lib/python3.11/site-packages/sklearn/linear_model/_logistic.py:1165: UserWarning: l1_ratio parameter is only used when penalty is 'elasticnet'. Got (penalty=l1)\n",
            "  warnings.warn(\n",
            "/home/darshil/Programs/anaconda3/lib/python3.11/site-packages/sklearn/linear_model/_logistic.py:1165: UserWarning: l1_ratio parameter is only used when penalty is 'elasticnet'. Got (penalty=l1)\n",
            "  warnings.warn(\n",
            "/home/darshil/Programs/anaconda3/lib/python3.11/site-packages/sklearn/linear_model/_logistic.py:1165: UserWarning: l1_ratio parameter is only used when penalty is 'elasticnet'. Got (penalty=l1)\n",
            "  warnings.warn(\n",
            "/home/darshil/Programs/anaconda3/lib/python3.11/site-packages/sklearn/linear_model/_logistic.py:1165: UserWarning: l1_ratio parameter is only used when penalty is 'elasticnet'. Got (penalty=l2)\n",
            "  warnings.warn(\n"
          ]
        },
        {
          "name": "stdout",
          "output_type": "stream",
          "text": [
            "[CV 1/3] END l1_ratio=0.6, penalty=l2, solver=saga, warm_start=True;, score=(train=0.729, test=0.725) total time=   1.8s\n"
          ]
        },
        {
          "name": "stderr",
          "output_type": "stream",
          "text": [
            "/home/darshil/Programs/anaconda3/lib/python3.11/site-packages/sklearn/linear_model/_logistic.py:1165: UserWarning: l1_ratio parameter is only used when penalty is 'elasticnet'. Got (penalty=l2)\n",
            "  warnings.warn(\n"
          ]
        },
        {
          "name": "stdout",
          "output_type": "stream",
          "text": [
            "[CV 2/3] END l1_ratio=0.6, penalty=l2, solver=saga, warm_start=True;, score=(train=0.729, test=0.716) total time=   1.6s\n"
          ]
        },
        {
          "name": "stderr",
          "output_type": "stream",
          "text": [
            "/home/darshil/Programs/anaconda3/lib/python3.11/site-packages/sklearn/linear_model/_logistic.py:1165: UserWarning: l1_ratio parameter is only used when penalty is 'elasticnet'. Got (penalty=l2)\n",
            "  warnings.warn(\n"
          ]
        },
        {
          "name": "stdout",
          "output_type": "stream",
          "text": [
            "[CV 3/3] END l1_ratio=0.6, penalty=l2, solver=saga, warm_start=True;, score=(train=0.721, test=0.735) total time=   1.7s\n"
          ]
        },
        {
          "name": "stderr",
          "output_type": "stream",
          "text": [
            "/home/darshil/Programs/anaconda3/lib/python3.11/site-packages/sklearn/linear_model/_logistic.py:1165: UserWarning: l1_ratio parameter is only used when penalty is 'elasticnet'. Got (penalty=l2)\n",
            "  warnings.warn(\n"
          ]
        },
        {
          "name": "stdout",
          "output_type": "stream",
          "text": [
            "[CV 1/3] END l1_ratio=0.6, penalty=l2, solver=saga, warm_start=False;, score=(train=0.729, test=0.725) total time=   1.8s\n"
          ]
        },
        {
          "name": "stderr",
          "output_type": "stream",
          "text": [
            "/home/darshil/Programs/anaconda3/lib/python3.11/site-packages/sklearn/linear_model/_logistic.py:1165: UserWarning: l1_ratio parameter is only used when penalty is 'elasticnet'. Got (penalty=l2)\n",
            "  warnings.warn(\n"
          ]
        },
        {
          "name": "stdout",
          "output_type": "stream",
          "text": [
            "[CV 2/3] END l1_ratio=0.6, penalty=l2, solver=saga, warm_start=False;, score=(train=0.729, test=0.716) total time=   1.6s\n"
          ]
        },
        {
          "name": "stderr",
          "output_type": "stream",
          "text": [
            "/home/darshil/Programs/anaconda3/lib/python3.11/site-packages/sklearn/linear_model/_logistic.py:1165: UserWarning: l1_ratio parameter is only used when penalty is 'elasticnet'. Got (penalty=l2)\n",
            "  warnings.warn(\n"
          ]
        },
        {
          "name": "stdout",
          "output_type": "stream",
          "text": [
            "[CV 3/3] END l1_ratio=0.6, penalty=l2, solver=saga, warm_start=False;, score=(train=0.721, test=0.735) total time=   1.7s\n",
            "[CV 1/3] END l1_ratio=0.6, penalty=l2, solver=liblinear, warm_start=True;, score=(train=0.781, test=0.778) total time=   0.0s\n",
            "[CV 2/3] END l1_ratio=0.6, penalty=l2, solver=liblinear, warm_start=True;, score=(train=0.791, test=0.777) total time=   0.0s\n",
            "[CV 3/3] END l1_ratio=0.6, penalty=l2, solver=liblinear, warm_start=True;, score=(train=0.775, test=0.794) total time=   0.0s\n",
            "[CV 1/3] END l1_ratio=0.6, penalty=l2, solver=liblinear, warm_start=False;, score=(train=0.781, test=0.778) total time=   0.0s\n",
            "[CV 2/3] END l1_ratio=0.6, penalty=l2, solver=liblinear, warm_start=False;, score=(train=0.791, test=0.777) total time=   0.0s\n",
            "[CV 3/3] END l1_ratio=0.6, penalty=l2, solver=liblinear, warm_start=False;, score=(train=0.775, test=0.794) total time=   0.0s\n"
          ]
        },
        {
          "name": "stderr",
          "output_type": "stream",
          "text": [
            "/home/darshil/Programs/anaconda3/lib/python3.11/site-packages/sklearn/linear_model/_logistic.py:1165: UserWarning: l1_ratio parameter is only used when penalty is 'elasticnet'. Got (penalty=l2)\n",
            "  warnings.warn(\n",
            "/home/darshil/Programs/anaconda3/lib/python3.11/site-packages/sklearn/linear_model/_logistic.py:1165: UserWarning: l1_ratio parameter is only used when penalty is 'elasticnet'. Got (penalty=l2)\n",
            "  warnings.warn(\n",
            "/home/darshil/Programs/anaconda3/lib/python3.11/site-packages/sklearn/linear_model/_logistic.py:1165: UserWarning: l1_ratio parameter is only used when penalty is 'elasticnet'. Got (penalty=l2)\n",
            "  warnings.warn(\n",
            "/home/darshil/Programs/anaconda3/lib/python3.11/site-packages/sklearn/linear_model/_logistic.py:1165: UserWarning: l1_ratio parameter is only used when penalty is 'elasticnet'. Got (penalty=l2)\n",
            "  warnings.warn(\n",
            "/home/darshil/Programs/anaconda3/lib/python3.11/site-packages/sklearn/linear_model/_logistic.py:1165: UserWarning: l1_ratio parameter is only used when penalty is 'elasticnet'. Got (penalty=l2)\n",
            "  warnings.warn(\n",
            "/home/darshil/Programs/anaconda3/lib/python3.11/site-packages/sklearn/linear_model/_logistic.py:1165: UserWarning: l1_ratio parameter is only used when penalty is 'elasticnet'. Got (penalty=l2)\n",
            "  warnings.warn(\n",
            "/home/darshil/Programs/anaconda3/lib/python3.11/site-packages/sklearn/linear_model/_logistic.py:1165: UserWarning: l1_ratio parameter is only used when penalty is 'elasticnet'. Got (penalty=l2)\n",
            "  warnings.warn(\n",
            "/home/darshil/Programs/anaconda3/lib/python3.11/site-packages/sklearn/linear_model/_logistic.py:1165: UserWarning: l1_ratio parameter is only used when penalty is 'elasticnet'. Got (penalty=l2)\n",
            "  warnings.warn(\n",
            "/home/darshil/Programs/anaconda3/lib/python3.11/site-packages/sklearn/linear_model/_logistic.py:1165: UserWarning: l1_ratio parameter is only used when penalty is 'elasticnet'. Got (penalty=l2)\n",
            "  warnings.warn(\n"
          ]
        },
        {
          "name": "stdout",
          "output_type": "stream",
          "text": [
            "[CV 1/3] END l1_ratio=0.6, penalty=l2, solver=lbfgs, warm_start=True;, score=(train=0.781, test=0.779) total time=   0.1s\n",
            "[CV 2/3] END l1_ratio=0.6, penalty=l2, solver=lbfgs, warm_start=True;, score=(train=0.791, test=0.774) total time=   0.1s\n",
            "[CV 3/3] END l1_ratio=0.6, penalty=l2, solver=lbfgs, warm_start=True;, score=(train=0.777, test=0.797) total time=   0.1s\n",
            "[CV 1/3] END l1_ratio=0.6, penalty=l2, solver=lbfgs, warm_start=False;, score=(train=0.781, test=0.779) total time=   0.1s\n",
            "[CV 2/3] END l1_ratio=0.6, penalty=l2, solver=lbfgs, warm_start=False;, score=(train=0.791, test=0.774) total time=   0.1s\n"
          ]
        },
        {
          "name": "stderr",
          "output_type": "stream",
          "text": [
            "/home/darshil/Programs/anaconda3/lib/python3.11/site-packages/sklearn/linear_model/_logistic.py:1165: UserWarning: l1_ratio parameter is only used when penalty is 'elasticnet'. Got (penalty=l2)\n",
            "  warnings.warn(\n",
            "/home/darshil/Programs/anaconda3/lib/python3.11/site-packages/sklearn/linear_model/_logistic.py:1165: UserWarning: l1_ratio parameter is only used when penalty is 'elasticnet'. Got (penalty=l2)\n",
            "  warnings.warn(\n",
            "/home/darshil/Programs/anaconda3/lib/python3.11/site-packages/sklearn/linear_model/_logistic.py:1165: UserWarning: l1_ratio parameter is only used when penalty is 'elasticnet'. Got (penalty=l2)\n",
            "  warnings.warn(\n"
          ]
        },
        {
          "name": "stdout",
          "output_type": "stream",
          "text": [
            "[CV 3/3] END l1_ratio=0.6, penalty=l2, solver=lbfgs, warm_start=False;, score=(train=0.777, test=0.797) total time=   0.1s\n",
            "[CV 1/3] END l1_ratio=0.6, penalty=l2, solver=newton-cg, warm_start=True;, score=(train=0.781, test=0.777) total time=   0.1s\n",
            "[CV 2/3] END l1_ratio=0.6, penalty=l2, solver=newton-cg, warm_start=True;, score=(train=0.789, test=0.770) total time=   0.1s\n"
          ]
        },
        {
          "name": "stderr",
          "output_type": "stream",
          "text": [
            "/home/darshil/Programs/anaconda3/lib/python3.11/site-packages/sklearn/linear_model/_logistic.py:1165: UserWarning: l1_ratio parameter is only used when penalty is 'elasticnet'. Got (penalty=l2)\n",
            "  warnings.warn(\n",
            "/home/darshil/Programs/anaconda3/lib/python3.11/site-packages/sklearn/linear_model/_logistic.py:1165: UserWarning: l1_ratio parameter is only used when penalty is 'elasticnet'. Got (penalty=l2)\n",
            "  warnings.warn(\n",
            "/home/darshil/Programs/anaconda3/lib/python3.11/site-packages/sklearn/linear_model/_logistic.py:1165: UserWarning: l1_ratio parameter is only used when penalty is 'elasticnet'. Got (penalty=l2)\n",
            "  warnings.warn(\n"
          ]
        },
        {
          "name": "stdout",
          "output_type": "stream",
          "text": [
            "[CV 3/3] END l1_ratio=0.6, penalty=l2, solver=newton-cg, warm_start=True;, score=(train=0.777, test=0.792) total time=   0.1s\n",
            "[CV 1/3] END l1_ratio=0.6, penalty=l2, solver=newton-cg, warm_start=False;, score=(train=0.781, test=0.777) total time=   0.1s\n",
            "[CV 2/3] END l1_ratio=0.6, penalty=l2, solver=newton-cg, warm_start=False;, score=(train=0.789, test=0.770) total time=   0.1s\n"
          ]
        },
        {
          "name": "stderr",
          "output_type": "stream",
          "text": [
            "/home/darshil/Programs/anaconda3/lib/python3.11/site-packages/sklearn/linear_model/_logistic.py:1165: UserWarning: l1_ratio parameter is only used when penalty is 'elasticnet'. Got (penalty=l2)\n",
            "  warnings.warn(\n",
            "/home/darshil/Programs/anaconda3/lib/python3.11/site-packages/sklearn/linear_model/_logistic.py:1165: UserWarning: l1_ratio parameter is only used when penalty is 'elasticnet'. Got (penalty=l2)\n",
            "  warnings.warn(\n",
            "/home/darshil/Programs/anaconda3/lib/python3.11/site-packages/sklearn/linear_model/_logistic.py:1165: UserWarning: l1_ratio parameter is only used when penalty is 'elasticnet'. Got (penalty=l2)\n",
            "  warnings.warn(\n"
          ]
        },
        {
          "name": "stdout",
          "output_type": "stream",
          "text": [
            "[CV 3/3] END l1_ratio=0.6, penalty=l2, solver=newton-cg, warm_start=False;, score=(train=0.777, test=0.792) total time=   0.1s\n",
            "[CV 1/3] END l1_ratio=0.6, penalty=l2, solver=newton-cholesky, warm_start=True;, score=(train=0.781, test=0.777) total time=   0.0s\n",
            "[CV 2/3] END l1_ratio=0.6, penalty=l2, solver=newton-cholesky, warm_start=True;, score=(train=0.789, test=0.770) total time=   0.0s\n",
            "[CV 3/3] END l1_ratio=0.6, penalty=l2, solver=newton-cholesky, warm_start=True;, score=(train=0.777, test=0.792) total time=   0.0s\n",
            "[CV 1/3] END l1_ratio=0.6, penalty=l2, solver=newton-cholesky, warm_start=False;, score=(train=0.781, test=0.777) total time=   0.0s\n",
            "[CV 2/3] END l1_ratio=0.6, penalty=l2, solver=newton-cholesky, warm_start=False;, score=(train=0.789, test=0.770) total time=   0.0s\n",
            "[CV 3/3] END l1_ratio=0.6, penalty=l2, solver=newton-cholesky, warm_start=False;, score=(train=0.777, test=0.792) total time=   0.0s\n"
          ]
        },
        {
          "name": "stderr",
          "output_type": "stream",
          "text": [
            "/home/darshil/Programs/anaconda3/lib/python3.11/site-packages/sklearn/linear_model/_logistic.py:1165: UserWarning: l1_ratio parameter is only used when penalty is 'elasticnet'. Got (penalty=l2)\n",
            "  warnings.warn(\n",
            "/home/darshil/Programs/anaconda3/lib/python3.11/site-packages/sklearn/linear_model/_logistic.py:1165: UserWarning: l1_ratio parameter is only used when penalty is 'elasticnet'. Got (penalty=l2)\n",
            "  warnings.warn(\n",
            "/home/darshil/Programs/anaconda3/lib/python3.11/site-packages/sklearn/linear_model/_logistic.py:1165: UserWarning: l1_ratio parameter is only used when penalty is 'elasticnet'. Got (penalty=l2)\n",
            "  warnings.warn(\n",
            "/home/darshil/Programs/anaconda3/lib/python3.11/site-packages/sklearn/linear_model/_logistic.py:1165: UserWarning: l1_ratio parameter is only used when penalty is 'elasticnet'. Got (penalty=l2)\n",
            "  warnings.warn(\n",
            "/home/darshil/Programs/anaconda3/lib/python3.11/site-packages/sklearn/linear_model/_logistic.py:1165: UserWarning: l1_ratio parameter is only used when penalty is 'elasticnet'. Got (penalty=l2)\n",
            "  warnings.warn(\n",
            "/home/darshil/Programs/anaconda3/lib/python3.11/site-packages/sklearn/linear_model/_logistic.py:1165: UserWarning: l1_ratio parameter is only used when penalty is 'elasticnet'. Got (penalty=l2)\n",
            "  warnings.warn(\n",
            "/home/darshil/Programs/anaconda3/lib/python3.11/site-packages/sklearn/linear_model/_logistic.py:1165: UserWarning: l1_ratio parameter is only used when penalty is 'elasticnet'. Got (penalty=l2)\n",
            "  warnings.warn(\n"
          ]
        },
        {
          "name": "stdout",
          "output_type": "stream",
          "text": [
            "[CV 1/3] END l1_ratio=0.6, penalty=l2, solver=sag, warm_start=True;, score=(train=0.727, test=0.725) total time=   1.1s\n"
          ]
        },
        {
          "name": "stderr",
          "output_type": "stream",
          "text": [
            "/home/darshil/Programs/anaconda3/lib/python3.11/site-packages/sklearn/linear_model/_logistic.py:1165: UserWarning: l1_ratio parameter is only used when penalty is 'elasticnet'. Got (penalty=l2)\n",
            "  warnings.warn(\n"
          ]
        },
        {
          "name": "stdout",
          "output_type": "stream",
          "text": [
            "[CV 2/3] END l1_ratio=0.6, penalty=l2, solver=sag, warm_start=True;, score=(train=0.728, test=0.716) total time=   0.9s\n"
          ]
        },
        {
          "name": "stderr",
          "output_type": "stream",
          "text": [
            "/home/darshil/Programs/anaconda3/lib/python3.11/site-packages/sklearn/linear_model/_logistic.py:1165: UserWarning: l1_ratio parameter is only used when penalty is 'elasticnet'. Got (penalty=l2)\n",
            "  warnings.warn(\n"
          ]
        },
        {
          "name": "stdout",
          "output_type": "stream",
          "text": [
            "[CV 3/3] END l1_ratio=0.6, penalty=l2, solver=sag, warm_start=True;, score=(train=0.721, test=0.734) total time=   1.0s\n"
          ]
        },
        {
          "name": "stderr",
          "output_type": "stream",
          "text": [
            "/home/darshil/Programs/anaconda3/lib/python3.11/site-packages/sklearn/linear_model/_logistic.py:1165: UserWarning: l1_ratio parameter is only used when penalty is 'elasticnet'. Got (penalty=l2)\n",
            "  warnings.warn(\n"
          ]
        },
        {
          "name": "stdout",
          "output_type": "stream",
          "text": [
            "[CV 1/3] END l1_ratio=0.6, penalty=l2, solver=sag, warm_start=False;, score=(train=0.727, test=0.725) total time=   1.0s\n"
          ]
        },
        {
          "name": "stderr",
          "output_type": "stream",
          "text": [
            "/home/darshil/Programs/anaconda3/lib/python3.11/site-packages/sklearn/linear_model/_logistic.py:1165: UserWarning: l1_ratio parameter is only used when penalty is 'elasticnet'. Got (penalty=l2)\n",
            "  warnings.warn(\n"
          ]
        },
        {
          "name": "stdout",
          "output_type": "stream",
          "text": [
            "[CV 2/3] END l1_ratio=0.6, penalty=l2, solver=sag, warm_start=False;, score=(train=0.728, test=0.716) total time=   0.9s\n"
          ]
        },
        {
          "name": "stderr",
          "output_type": "stream",
          "text": [
            "/home/darshil/Programs/anaconda3/lib/python3.11/site-packages/sklearn/linear_model/_logistic.py:1165: UserWarning: l1_ratio parameter is only used when penalty is 'elasticnet'. Got (penalty=l2)\n",
            "  warnings.warn(\n"
          ]
        },
        {
          "name": "stdout",
          "output_type": "stream",
          "text": [
            "[CV 3/3] END l1_ratio=0.6, penalty=l2, solver=sag, warm_start=False;, score=(train=0.721, test=0.734) total time=   1.1s\n",
            "[CV 1/3] END l1_ratio=0.6, penalty=elasticnet, solver=saga, warm_start=True;, score=(train=0.729, test=0.725) total time=   2.5s\n",
            "[CV 2/3] END l1_ratio=0.6, penalty=elasticnet, solver=saga, warm_start=True;, score=(train=0.729, test=0.716) total time=   2.2s\n",
            "[CV 3/3] END l1_ratio=0.6, penalty=elasticnet, solver=saga, warm_start=True;, score=(train=0.721, test=0.735) total time=   2.3s\n",
            "[CV 1/3] END l1_ratio=0.6, penalty=elasticnet, solver=saga, warm_start=False;, score=(train=0.729, test=0.725) total time=   2.5s\n",
            "[CV 2/3] END l1_ratio=0.6, penalty=elasticnet, solver=saga, warm_start=False;, score=(train=0.729, test=0.716) total time=   2.1s\n",
            "[CV 3/3] END l1_ratio=0.6, penalty=elasticnet, solver=saga, warm_start=False;, score=(train=0.721, test=0.735) total time=   2.1s\n",
            "[CV 1/3] END l1_ratio=0.6, penalty=elasticnet, solver=liblinear, warm_start=True;, score=(train=nan, test=nan) total time=   0.0s\n",
            "[CV 2/3] END l1_ratio=0.6, penalty=elasticnet, solver=liblinear, warm_start=True;, score=(train=nan, test=nan) total time=   0.0s\n",
            "[CV 3/3] END l1_ratio=0.6, penalty=elasticnet, solver=liblinear, warm_start=True;, score=(train=nan, test=nan) total time=   0.0s\n",
            "[CV 1/3] END l1_ratio=0.6, penalty=elasticnet, solver=liblinear, warm_start=False;, score=(train=nan, test=nan) total time=   0.0s\n",
            "[CV 2/3] END l1_ratio=0.6, penalty=elasticnet, solver=liblinear, warm_start=False;, score=(train=nan, test=nan) total time=   0.0s\n",
            "[CV 3/3] END l1_ratio=0.6, penalty=elasticnet, solver=liblinear, warm_start=False;, score=(train=nan, test=nan) total time=   0.0s\n",
            "[CV 1/3] END l1_ratio=0.6, penalty=elasticnet, solver=lbfgs, warm_start=True;, score=(train=nan, test=nan) total time=   0.0s\n",
            "[CV 2/3] END l1_ratio=0.6, penalty=elasticnet, solver=lbfgs, warm_start=True;, score=(train=nan, test=nan) total time=   0.0s\n",
            "[CV 3/3] END l1_ratio=0.6, penalty=elasticnet, solver=lbfgs, warm_start=True;, score=(train=nan, test=nan) total time=   0.0s\n",
            "[CV 1/3] END l1_ratio=0.6, penalty=elasticnet, solver=lbfgs, warm_start=False;, score=(train=nan, test=nan) total time=   0.0s\n",
            "[CV 2/3] END l1_ratio=0.6, penalty=elasticnet, solver=lbfgs, warm_start=False;, score=(train=nan, test=nan) total time=   0.0s\n",
            "[CV 3/3] END l1_ratio=0.6, penalty=elasticnet, solver=lbfgs, warm_start=False;, score=(train=nan, test=nan) total time=   0.0s\n",
            "[CV 1/3] END l1_ratio=0.6, penalty=elasticnet, solver=newton-cg, warm_start=True;, score=(train=nan, test=nan) total time=   0.0s\n",
            "[CV 2/3] END l1_ratio=0.6, penalty=elasticnet, solver=newton-cg, warm_start=True;, score=(train=nan, test=nan) total time=   0.0s\n",
            "[CV 3/3] END l1_ratio=0.6, penalty=elasticnet, solver=newton-cg, warm_start=True;, score=(train=nan, test=nan) total time=   0.0s\n",
            "[CV 1/3] END l1_ratio=0.6, penalty=elasticnet, solver=newton-cg, warm_start=False;, score=(train=nan, test=nan) total time=   0.0s\n",
            "[CV 2/3] END l1_ratio=0.6, penalty=elasticnet, solver=newton-cg, warm_start=False;, score=(train=nan, test=nan) total time=   0.0s\n",
            "[CV 3/3] END l1_ratio=0.6, penalty=elasticnet, solver=newton-cg, warm_start=False;, score=(train=nan, test=nan) total time=   0.0s\n",
            "[CV 1/3] END l1_ratio=0.6, penalty=elasticnet, solver=newton-cholesky, warm_start=True;, score=(train=nan, test=nan) total time=   0.0s\n",
            "[CV 2/3] END l1_ratio=0.6, penalty=elasticnet, solver=newton-cholesky, warm_start=True;, score=(train=nan, test=nan) total time=   0.0s\n",
            "[CV 3/3] END l1_ratio=0.6, penalty=elasticnet, solver=newton-cholesky, warm_start=True;, score=(train=nan, test=nan) total time=   0.0s\n",
            "[CV 1/3] END l1_ratio=0.6, penalty=elasticnet, solver=newton-cholesky, warm_start=False;, score=(train=nan, test=nan) total time=   0.0s\n",
            "[CV 2/3] END l1_ratio=0.6, penalty=elasticnet, solver=newton-cholesky, warm_start=False;, score=(train=nan, test=nan) total time=   0.0s\n",
            "[CV 3/3] END l1_ratio=0.6, penalty=elasticnet, solver=newton-cholesky, warm_start=False;, score=(train=nan, test=nan) total time=   0.0s\n",
            "[CV 1/3] END l1_ratio=0.6, penalty=elasticnet, solver=sag, warm_start=True;, score=(train=nan, test=nan) total time=   0.0s\n",
            "[CV 2/3] END l1_ratio=0.6, penalty=elasticnet, solver=sag, warm_start=True;, score=(train=nan, test=nan) total time=   0.0s\n",
            "[CV 3/3] END l1_ratio=0.6, penalty=elasticnet, solver=sag, warm_start=True;, score=(train=nan, test=nan) total time=   0.0s\n",
            "[CV 1/3] END l1_ratio=0.6, penalty=elasticnet, solver=sag, warm_start=False;, score=(train=nan, test=nan) total time=   0.0s\n",
            "[CV 2/3] END l1_ratio=0.6, penalty=elasticnet, solver=sag, warm_start=False;, score=(train=nan, test=nan) total time=   0.0s\n",
            "[CV 3/3] END l1_ratio=0.6, penalty=elasticnet, solver=sag, warm_start=False;, score=(train=nan, test=nan) total time=   0.0s\n"
          ]
        },
        {
          "name": "stderr",
          "output_type": "stream",
          "text": [
            "/home/darshil/Programs/anaconda3/lib/python3.11/site-packages/sklearn/linear_model/_logistic.py:1165: UserWarning: l1_ratio parameter is only used when penalty is 'elasticnet'. Got (penalty=l1)\n",
            "  warnings.warn(\n"
          ]
        },
        {
          "name": "stdout",
          "output_type": "stream",
          "text": [
            "[CV 1/3] END l1_ratio=0.8, penalty=l1, solver=saga, warm_start=True;, score=(train=0.729, test=0.725) total time=   2.2s\n"
          ]
        },
        {
          "name": "stderr",
          "output_type": "stream",
          "text": [
            "/home/darshil/Programs/anaconda3/lib/python3.11/site-packages/sklearn/linear_model/_logistic.py:1165: UserWarning: l1_ratio parameter is only used when penalty is 'elasticnet'. Got (penalty=l1)\n",
            "  warnings.warn(\n"
          ]
        },
        {
          "name": "stdout",
          "output_type": "stream",
          "text": [
            "[CV 2/3] END l1_ratio=0.8, penalty=l1, solver=saga, warm_start=True;, score=(train=0.729, test=0.716) total time=   2.0s\n"
          ]
        },
        {
          "name": "stderr",
          "output_type": "stream",
          "text": [
            "/home/darshil/Programs/anaconda3/lib/python3.11/site-packages/sklearn/linear_model/_logistic.py:1165: UserWarning: l1_ratio parameter is only used when penalty is 'elasticnet'. Got (penalty=l1)\n",
            "  warnings.warn(\n"
          ]
        },
        {
          "name": "stdout",
          "output_type": "stream",
          "text": [
            "[CV 3/3] END l1_ratio=0.8, penalty=l1, solver=saga, warm_start=True;, score=(train=0.721, test=0.735) total time=   2.2s\n"
          ]
        },
        {
          "name": "stderr",
          "output_type": "stream",
          "text": [
            "/home/darshil/Programs/anaconda3/lib/python3.11/site-packages/sklearn/linear_model/_logistic.py:1165: UserWarning: l1_ratio parameter is only used when penalty is 'elasticnet'. Got (penalty=l1)\n",
            "  warnings.warn(\n"
          ]
        },
        {
          "name": "stdout",
          "output_type": "stream",
          "text": [
            "[CV 1/3] END l1_ratio=0.8, penalty=l1, solver=saga, warm_start=False;, score=(train=0.729, test=0.725) total time=   2.2s\n"
          ]
        },
        {
          "name": "stderr",
          "output_type": "stream",
          "text": [
            "/home/darshil/Programs/anaconda3/lib/python3.11/site-packages/sklearn/linear_model/_logistic.py:1165: UserWarning: l1_ratio parameter is only used when penalty is 'elasticnet'. Got (penalty=l1)\n",
            "  warnings.warn(\n"
          ]
        },
        {
          "name": "stdout",
          "output_type": "stream",
          "text": [
            "[CV 2/3] END l1_ratio=0.8, penalty=l1, solver=saga, warm_start=False;, score=(train=0.729, test=0.716) total time=   1.9s\n"
          ]
        },
        {
          "name": "stderr",
          "output_type": "stream",
          "text": [
            "/home/darshil/Programs/anaconda3/lib/python3.11/site-packages/sklearn/linear_model/_logistic.py:1165: UserWarning: l1_ratio parameter is only used when penalty is 'elasticnet'. Got (penalty=l1)\n",
            "  warnings.warn(\n"
          ]
        },
        {
          "name": "stdout",
          "output_type": "stream",
          "text": [
            "[CV 3/3] END l1_ratio=0.8, penalty=l1, solver=saga, warm_start=False;, score=(train=0.721, test=0.735) total time=   2.2s\n",
            "[CV 1/3] END l1_ratio=0.8, penalty=l1, solver=liblinear, warm_start=True;, score=(train=0.782, test=0.778) total time=   0.0s\n",
            "[CV 2/3] END l1_ratio=0.8, penalty=l1, solver=liblinear, warm_start=True;, score=(train=0.791, test=0.772) total time=   0.0s\n",
            "[CV 3/3] END l1_ratio=0.8, penalty=l1, solver=liblinear, warm_start=True;, score=(train=0.777, test=0.796) total time=   0.0s\n",
            "[CV 1/3] END l1_ratio=0.8, penalty=l1, solver=liblinear, warm_start=False;, score=(train=0.783, test=0.779) total time=   0.0s\n",
            "[CV 2/3] END l1_ratio=0.8, penalty=l1, solver=liblinear, warm_start=False;, score=(train=0.791, test=0.772) total time=   0.0s\n",
            "[CV 3/3] END l1_ratio=0.8, penalty=l1, solver=liblinear, warm_start=False;, score=(train=0.777, test=0.796) total time=   0.0s\n",
            "[CV 1/3] END l1_ratio=0.8, penalty=l1, solver=lbfgs, warm_start=True;, score=(train=nan, test=nan) total time=   0.0s\n",
            "[CV 2/3] END l1_ratio=0.8, penalty=l1, solver=lbfgs, warm_start=True;, score=(train=nan, test=nan) total time=   0.0s\n",
            "[CV 3/3] END l1_ratio=0.8, penalty=l1, solver=lbfgs, warm_start=True;, score=(train=nan, test=nan) total time=   0.0s\n",
            "[CV 1/3] END l1_ratio=0.8, penalty=l1, solver=lbfgs, warm_start=False;, score=(train=nan, test=nan) total time=   0.0s\n",
            "[CV 2/3] END l1_ratio=0.8, penalty=l1, solver=lbfgs, warm_start=False;, score=(train=nan, test=nan) total time=   0.0s\n",
            "[CV 3/3] END l1_ratio=0.8, penalty=l1, solver=lbfgs, warm_start=False;, score=(train=nan, test=nan) total time=   0.0s\n",
            "[CV 1/3] END l1_ratio=0.8, penalty=l1, solver=newton-cg, warm_start=True;, score=(train=nan, test=nan) total time=   0.0s\n",
            "[CV 2/3] END l1_ratio=0.8, penalty=l1, solver=newton-cg, warm_start=True;, score=(train=nan, test=nan) total time=   0.0s\n",
            "[CV 3/3] END l1_ratio=0.8, penalty=l1, solver=newton-cg, warm_start=True;, score=(train=nan, test=nan) total time=   0.0s\n",
            "[CV 1/3] END l1_ratio=0.8, penalty=l1, solver=newton-cg, warm_start=False;, score=(train=nan, test=nan) total time=   0.0s\n",
            "[CV 2/3] END l1_ratio=0.8, penalty=l1, solver=newton-cg, warm_start=False;, score=(train=nan, test=nan) total time=   0.0s\n",
            "[CV 3/3] END l1_ratio=0.8, penalty=l1, solver=newton-cg, warm_start=False;, score=(train=nan, test=nan) total time=   0.0s\n",
            "[CV 1/3] END l1_ratio=0.8, penalty=l1, solver=newton-cholesky, warm_start=True;, score=(train=nan, test=nan) total time=   0.0s\n",
            "[CV 2/3] END l1_ratio=0.8, penalty=l1, solver=newton-cholesky, warm_start=True;, score=(train=nan, test=nan) total time=   0.0s\n",
            "[CV 3/3] END l1_ratio=0.8, penalty=l1, solver=newton-cholesky, warm_start=True;, score=(train=nan, test=nan) total time=   0.0s\n",
            "[CV 1/3] END l1_ratio=0.8, penalty=l1, solver=newton-cholesky, warm_start=False;, score=(train=nan, test=nan) total time=   0.0s\n",
            "[CV 2/3] END l1_ratio=0.8, penalty=l1, solver=newton-cholesky, warm_start=False;, score=(train=nan, test=nan) total time=   0.0s\n",
            "[CV 3/3] END l1_ratio=0.8, penalty=l1, solver=newton-cholesky, warm_start=False;, score=(train=nan, test=nan) total time=   0.0s\n",
            "[CV 1/3] END l1_ratio=0.8, penalty=l1, solver=sag, warm_start=True;, score=(train=nan, test=nan) total time=   0.0s\n",
            "[CV 2/3] END l1_ratio=0.8, penalty=l1, solver=sag, warm_start=True;, score=(train=nan, test=nan) total time=   0.0s\n",
            "[CV 3/3] END l1_ratio=0.8, penalty=l1, solver=sag, warm_start=True;, score=(train=nan, test=nan) total time=   0.0s\n",
            "[CV 1/3] END l1_ratio=0.8, penalty=l1, solver=sag, warm_start=False;, score=(train=nan, test=nan) total time=   0.0s\n",
            "[CV 2/3] END l1_ratio=0.8, penalty=l1, solver=sag, warm_start=False;, score=(train=nan, test=nan) total time=   0.0s\n"
          ]
        },
        {
          "name": "stderr",
          "output_type": "stream",
          "text": [
            "/home/darshil/Programs/anaconda3/lib/python3.11/site-packages/sklearn/linear_model/_logistic.py:1165: UserWarning: l1_ratio parameter is only used when penalty is 'elasticnet'. Got (penalty=l1)\n",
            "  warnings.warn(\n",
            "/home/darshil/Programs/anaconda3/lib/python3.11/site-packages/sklearn/linear_model/_logistic.py:1165: UserWarning: l1_ratio parameter is only used when penalty is 'elasticnet'. Got (penalty=l1)\n",
            "  warnings.warn(\n",
            "/home/darshil/Programs/anaconda3/lib/python3.11/site-packages/sklearn/linear_model/_logistic.py:1165: UserWarning: l1_ratio parameter is only used when penalty is 'elasticnet'. Got (penalty=l1)\n",
            "  warnings.warn(\n",
            "/home/darshil/Programs/anaconda3/lib/python3.11/site-packages/sklearn/linear_model/_logistic.py:1165: UserWarning: l1_ratio parameter is only used when penalty is 'elasticnet'. Got (penalty=l1)\n",
            "  warnings.warn(\n",
            "/home/darshil/Programs/anaconda3/lib/python3.11/site-packages/sklearn/linear_model/_logistic.py:1165: UserWarning: l1_ratio parameter is only used when penalty is 'elasticnet'. Got (penalty=l1)\n",
            "  warnings.warn(\n",
            "/home/darshil/Programs/anaconda3/lib/python3.11/site-packages/sklearn/linear_model/_logistic.py:1165: UserWarning: l1_ratio parameter is only used when penalty is 'elasticnet'. Got (penalty=l1)\n",
            "  warnings.warn(\n"
          ]
        },
        {
          "name": "stdout",
          "output_type": "stream",
          "text": [
            "[CV 3/3] END l1_ratio=0.8, penalty=l1, solver=sag, warm_start=False;, score=(train=nan, test=nan) total time=   0.0s\n"
          ]
        },
        {
          "name": "stderr",
          "output_type": "stream",
          "text": [
            "/home/darshil/Programs/anaconda3/lib/python3.11/site-packages/sklearn/linear_model/_logistic.py:1165: UserWarning: l1_ratio parameter is only used when penalty is 'elasticnet'. Got (penalty=l2)\n",
            "  warnings.warn(\n"
          ]
        },
        {
          "name": "stdout",
          "output_type": "stream",
          "text": [
            "[CV 1/3] END l1_ratio=0.8, penalty=l2, solver=saga, warm_start=True;, score=(train=0.729, test=0.725) total time=   1.9s\n"
          ]
        },
        {
          "name": "stderr",
          "output_type": "stream",
          "text": [
            "/home/darshil/Programs/anaconda3/lib/python3.11/site-packages/sklearn/linear_model/_logistic.py:1165: UserWarning: l1_ratio parameter is only used when penalty is 'elasticnet'. Got (penalty=l2)\n",
            "  warnings.warn(\n"
          ]
        },
        {
          "name": "stdout",
          "output_type": "stream",
          "text": [
            "[CV 2/3] END l1_ratio=0.8, penalty=l2, solver=saga, warm_start=True;, score=(train=0.729, test=0.716) total time=   1.6s\n"
          ]
        },
        {
          "name": "stderr",
          "output_type": "stream",
          "text": [
            "/home/darshil/Programs/anaconda3/lib/python3.11/site-packages/sklearn/linear_model/_logistic.py:1165: UserWarning: l1_ratio parameter is only used when penalty is 'elasticnet'. Got (penalty=l2)\n",
            "  warnings.warn(\n"
          ]
        },
        {
          "name": "stdout",
          "output_type": "stream",
          "text": [
            "[CV 3/3] END l1_ratio=0.8, penalty=l2, solver=saga, warm_start=True;, score=(train=0.721, test=0.735) total time=   1.8s\n"
          ]
        },
        {
          "name": "stderr",
          "output_type": "stream",
          "text": [
            "/home/darshil/Programs/anaconda3/lib/python3.11/site-packages/sklearn/linear_model/_logistic.py:1165: UserWarning: l1_ratio parameter is only used when penalty is 'elasticnet'. Got (penalty=l2)\n",
            "  warnings.warn(\n"
          ]
        },
        {
          "name": "stdout",
          "output_type": "stream",
          "text": [
            "[CV 1/3] END l1_ratio=0.8, penalty=l2, solver=saga, warm_start=False;, score=(train=0.729, test=0.725) total time=   1.9s\n"
          ]
        },
        {
          "name": "stderr",
          "output_type": "stream",
          "text": [
            "/home/darshil/Programs/anaconda3/lib/python3.11/site-packages/sklearn/linear_model/_logistic.py:1165: UserWarning: l1_ratio parameter is only used when penalty is 'elasticnet'. Got (penalty=l2)\n",
            "  warnings.warn(\n"
          ]
        },
        {
          "name": "stdout",
          "output_type": "stream",
          "text": [
            "[CV 2/3] END l1_ratio=0.8, penalty=l2, solver=saga, warm_start=False;, score=(train=0.729, test=0.716) total time=   1.6s\n"
          ]
        },
        {
          "name": "stderr",
          "output_type": "stream",
          "text": [
            "/home/darshil/Programs/anaconda3/lib/python3.11/site-packages/sklearn/linear_model/_logistic.py:1165: UserWarning: l1_ratio parameter is only used when penalty is 'elasticnet'. Got (penalty=l2)\n",
            "  warnings.warn(\n"
          ]
        },
        {
          "name": "stdout",
          "output_type": "stream",
          "text": [
            "[CV 3/3] END l1_ratio=0.8, penalty=l2, solver=saga, warm_start=False;, score=(train=0.721, test=0.735) total time=   1.8s\n",
            "[CV 1/3] END l1_ratio=0.8, penalty=l2, solver=liblinear, warm_start=True;, score=(train=0.781, test=0.778) total time=   0.0s\n",
            "[CV 2/3] END l1_ratio=0.8, penalty=l2, solver=liblinear, warm_start=True;, score=(train=0.791, test=0.777) total time=   0.0s\n",
            "[CV 3/3] END l1_ratio=0.8, penalty=l2, solver=liblinear, warm_start=True;, score=(train=0.775, test=0.794) total time=   0.0s\n",
            "[CV 1/3] END l1_ratio=0.8, penalty=l2, solver=liblinear, warm_start=False;, score=(train=0.781, test=0.778) total time=   0.0s\n",
            "[CV 2/3] END l1_ratio=0.8, penalty=l2, solver=liblinear, warm_start=False;, score=(train=0.791, test=0.777) total time=   0.0s\n"
          ]
        },
        {
          "name": "stderr",
          "output_type": "stream",
          "text": [
            "/home/darshil/Programs/anaconda3/lib/python3.11/site-packages/sklearn/linear_model/_logistic.py:1165: UserWarning: l1_ratio parameter is only used when penalty is 'elasticnet'. Got (penalty=l2)\n",
            "  warnings.warn(\n",
            "/home/darshil/Programs/anaconda3/lib/python3.11/site-packages/sklearn/linear_model/_logistic.py:1165: UserWarning: l1_ratio parameter is only used when penalty is 'elasticnet'. Got (penalty=l2)\n",
            "  warnings.warn(\n",
            "/home/darshil/Programs/anaconda3/lib/python3.11/site-packages/sklearn/linear_model/_logistic.py:1165: UserWarning: l1_ratio parameter is only used when penalty is 'elasticnet'. Got (penalty=l2)\n",
            "  warnings.warn(\n",
            "/home/darshil/Programs/anaconda3/lib/python3.11/site-packages/sklearn/linear_model/_logistic.py:1165: UserWarning: l1_ratio parameter is only used when penalty is 'elasticnet'. Got (penalty=l2)\n",
            "  warnings.warn(\n",
            "/home/darshil/Programs/anaconda3/lib/python3.11/site-packages/sklearn/linear_model/_logistic.py:1165: UserWarning: l1_ratio parameter is only used when penalty is 'elasticnet'. Got (penalty=l2)\n",
            "  warnings.warn(\n",
            "/home/darshil/Programs/anaconda3/lib/python3.11/site-packages/sklearn/linear_model/_logistic.py:1165: UserWarning: l1_ratio parameter is only used when penalty is 'elasticnet'. Got (penalty=l2)\n",
            "  warnings.warn(\n"
          ]
        },
        {
          "name": "stdout",
          "output_type": "stream",
          "text": [
            "[CV 3/3] END l1_ratio=0.8, penalty=l2, solver=liblinear, warm_start=False;, score=(train=0.775, test=0.794) total time=   0.0s\n",
            "[CV 1/3] END l1_ratio=0.8, penalty=l2, solver=lbfgs, warm_start=True;, score=(train=0.781, test=0.779) total time=   0.1s\n"
          ]
        },
        {
          "name": "stderr",
          "output_type": "stream",
          "text": [
            "/home/darshil/Programs/anaconda3/lib/python3.11/site-packages/sklearn/linear_model/_logistic.py:1165: UserWarning: l1_ratio parameter is only used when penalty is 'elasticnet'. Got (penalty=l2)\n",
            "  warnings.warn(\n",
            "/home/darshil/Programs/anaconda3/lib/python3.11/site-packages/sklearn/linear_model/_logistic.py:1165: UserWarning: l1_ratio parameter is only used when penalty is 'elasticnet'. Got (penalty=l2)\n",
            "  warnings.warn(\n"
          ]
        },
        {
          "name": "stdout",
          "output_type": "stream",
          "text": [
            "[CV 2/3] END l1_ratio=0.8, penalty=l2, solver=lbfgs, warm_start=True;, score=(train=0.791, test=0.774) total time=   0.1s\n",
            "[CV 3/3] END l1_ratio=0.8, penalty=l2, solver=lbfgs, warm_start=True;, score=(train=0.777, test=0.797) total time=   0.1s\n",
            "[CV 1/3] END l1_ratio=0.8, penalty=l2, solver=lbfgs, warm_start=False;, score=(train=0.781, test=0.779) total time=   0.1s\n"
          ]
        },
        {
          "name": "stderr",
          "output_type": "stream",
          "text": [
            "/home/darshil/Programs/anaconda3/lib/python3.11/site-packages/sklearn/linear_model/_logistic.py:1165: UserWarning: l1_ratio parameter is only used when penalty is 'elasticnet'. Got (penalty=l2)\n",
            "  warnings.warn(\n",
            "/home/darshil/Programs/anaconda3/lib/python3.11/site-packages/sklearn/linear_model/_logistic.py:1165: UserWarning: l1_ratio parameter is only used when penalty is 'elasticnet'. Got (penalty=l2)\n",
            "  warnings.warn(\n",
            "/home/darshil/Programs/anaconda3/lib/python3.11/site-packages/sklearn/linear_model/_logistic.py:1165: UserWarning: l1_ratio parameter is only used when penalty is 'elasticnet'. Got (penalty=l2)\n",
            "  warnings.warn(\n"
          ]
        },
        {
          "name": "stdout",
          "output_type": "stream",
          "text": [
            "[CV 2/3] END l1_ratio=0.8, penalty=l2, solver=lbfgs, warm_start=False;, score=(train=0.791, test=0.774) total time=   0.1s\n",
            "[CV 3/3] END l1_ratio=0.8, penalty=l2, solver=lbfgs, warm_start=False;, score=(train=0.777, test=0.797) total time=   0.1s\n",
            "[CV 1/3] END l1_ratio=0.8, penalty=l2, solver=newton-cg, warm_start=True;, score=(train=0.781, test=0.777) total time=   0.1s\n"
          ]
        },
        {
          "name": "stderr",
          "output_type": "stream",
          "text": [
            "/home/darshil/Programs/anaconda3/lib/python3.11/site-packages/sklearn/linear_model/_logistic.py:1165: UserWarning: l1_ratio parameter is only used when penalty is 'elasticnet'. Got (penalty=l2)\n",
            "  warnings.warn(\n",
            "/home/darshil/Programs/anaconda3/lib/python3.11/site-packages/sklearn/linear_model/_logistic.py:1165: UserWarning: l1_ratio parameter is only used when penalty is 'elasticnet'. Got (penalty=l2)\n",
            "  warnings.warn(\n",
            "/home/darshil/Programs/anaconda3/lib/python3.11/site-packages/sklearn/linear_model/_logistic.py:1165: UserWarning: l1_ratio parameter is only used when penalty is 'elasticnet'. Got (penalty=l2)\n",
            "  warnings.warn(\n"
          ]
        },
        {
          "name": "stdout",
          "output_type": "stream",
          "text": [
            "[CV 2/3] END l1_ratio=0.8, penalty=l2, solver=newton-cg, warm_start=True;, score=(train=0.789, test=0.770) total time=   0.1s\n",
            "[CV 3/3] END l1_ratio=0.8, penalty=l2, solver=newton-cg, warm_start=True;, score=(train=0.777, test=0.792) total time=   0.1s\n",
            "[CV 1/3] END l1_ratio=0.8, penalty=l2, solver=newton-cg, warm_start=False;, score=(train=0.781, test=0.777) total time=   0.1s\n"
          ]
        },
        {
          "name": "stderr",
          "output_type": "stream",
          "text": [
            "/home/darshil/Programs/anaconda3/lib/python3.11/site-packages/sklearn/linear_model/_logistic.py:1165: UserWarning: l1_ratio parameter is only used when penalty is 'elasticnet'. Got (penalty=l2)\n",
            "  warnings.warn(\n",
            "/home/darshil/Programs/anaconda3/lib/python3.11/site-packages/sklearn/linear_model/_logistic.py:1165: UserWarning: l1_ratio parameter is only used when penalty is 'elasticnet'. Got (penalty=l2)\n",
            "  warnings.warn(\n",
            "/home/darshil/Programs/anaconda3/lib/python3.11/site-packages/sklearn/linear_model/_logistic.py:1165: UserWarning: l1_ratio parameter is only used when penalty is 'elasticnet'. Got (penalty=l2)\n",
            "  warnings.warn(\n"
          ]
        },
        {
          "name": "stdout",
          "output_type": "stream",
          "text": [
            "[CV 2/3] END l1_ratio=0.8, penalty=l2, solver=newton-cg, warm_start=False;, score=(train=0.789, test=0.770) total time=   0.1s\n",
            "[CV 3/3] END l1_ratio=0.8, penalty=l2, solver=newton-cg, warm_start=False;, score=(train=0.777, test=0.792) total time=   0.1s\n",
            "[CV 1/3] END l1_ratio=0.8, penalty=l2, solver=newton-cholesky, warm_start=True;, score=(train=0.781, test=0.777) total time=   0.0s\n",
            "[CV 2/3] END l1_ratio=0.8, penalty=l2, solver=newton-cholesky, warm_start=True;, score=(train=0.789, test=0.770) total time=   0.0s\n",
            "[CV 3/3] END l1_ratio=0.8, penalty=l2, solver=newton-cholesky, warm_start=True;, score=(train=0.777, test=0.792) total time=   0.0s\n",
            "[CV 1/3] END l1_ratio=0.8, penalty=l2, solver=newton-cholesky, warm_start=False;, score=(train=0.781, test=0.777) total time=   0.0s\n"
          ]
        },
        {
          "name": "stderr",
          "output_type": "stream",
          "text": [
            "/home/darshil/Programs/anaconda3/lib/python3.11/site-packages/sklearn/linear_model/_logistic.py:1165: UserWarning: l1_ratio parameter is only used when penalty is 'elasticnet'. Got (penalty=l2)\n",
            "  warnings.warn(\n",
            "/home/darshil/Programs/anaconda3/lib/python3.11/site-packages/sklearn/linear_model/_logistic.py:1165: UserWarning: l1_ratio parameter is only used when penalty is 'elasticnet'. Got (penalty=l2)\n",
            "  warnings.warn(\n",
            "/home/darshil/Programs/anaconda3/lib/python3.11/site-packages/sklearn/linear_model/_logistic.py:1165: UserWarning: l1_ratio parameter is only used when penalty is 'elasticnet'. Got (penalty=l2)\n",
            "  warnings.warn(\n",
            "/home/darshil/Programs/anaconda3/lib/python3.11/site-packages/sklearn/linear_model/_logistic.py:1165: UserWarning: l1_ratio parameter is only used when penalty is 'elasticnet'. Got (penalty=l2)\n",
            "  warnings.warn(\n",
            "/home/darshil/Programs/anaconda3/lib/python3.11/site-packages/sklearn/linear_model/_logistic.py:1165: UserWarning: l1_ratio parameter is only used when penalty is 'elasticnet'. Got (penalty=l2)\n",
            "  warnings.warn(\n",
            "/home/darshil/Programs/anaconda3/lib/python3.11/site-packages/sklearn/linear_model/_logistic.py:1165: UserWarning: l1_ratio parameter is only used when penalty is 'elasticnet'. Got (penalty=l2)\n",
            "  warnings.warn(\n"
          ]
        },
        {
          "name": "stdout",
          "output_type": "stream",
          "text": [
            "[CV 2/3] END l1_ratio=0.8, penalty=l2, solver=newton-cholesky, warm_start=False;, score=(train=0.789, test=0.770) total time=   0.0s\n",
            "[CV 3/3] END l1_ratio=0.8, penalty=l2, solver=newton-cholesky, warm_start=False;, score=(train=0.777, test=0.792) total time=   0.1s\n"
          ]
        },
        {
          "name": "stderr",
          "output_type": "stream",
          "text": [
            "/home/darshil/Programs/anaconda3/lib/python3.11/site-packages/sklearn/linear_model/_logistic.py:1165: UserWarning: l1_ratio parameter is only used when penalty is 'elasticnet'. Got (penalty=l2)\n",
            "  warnings.warn(\n",
            "/home/darshil/Programs/anaconda3/lib/python3.11/site-packages/sklearn/linear_model/_logistic.py:1165: UserWarning: l1_ratio parameter is only used when penalty is 'elasticnet'. Got (penalty=l2)\n",
            "  warnings.warn(\n"
          ]
        },
        {
          "name": "stdout",
          "output_type": "stream",
          "text": [
            "[CV 1/3] END l1_ratio=0.8, penalty=l2, solver=sag, warm_start=True;, score=(train=0.727, test=0.725) total time=   1.1s\n"
          ]
        },
        {
          "name": "stderr",
          "output_type": "stream",
          "text": [
            "/home/darshil/Programs/anaconda3/lib/python3.11/site-packages/sklearn/linear_model/_logistic.py:1165: UserWarning: l1_ratio parameter is only used when penalty is 'elasticnet'. Got (penalty=l2)\n",
            "  warnings.warn(\n"
          ]
        },
        {
          "name": "stdout",
          "output_type": "stream",
          "text": [
            "[CV 2/3] END l1_ratio=0.8, penalty=l2, solver=sag, warm_start=True;, score=(train=0.728, test=0.716) total time=   0.8s\n"
          ]
        },
        {
          "name": "stderr",
          "output_type": "stream",
          "text": [
            "/home/darshil/Programs/anaconda3/lib/python3.11/site-packages/sklearn/linear_model/_logistic.py:1165: UserWarning: l1_ratio parameter is only used when penalty is 'elasticnet'. Got (penalty=l2)\n",
            "  warnings.warn(\n"
          ]
        },
        {
          "name": "stdout",
          "output_type": "stream",
          "text": [
            "[CV 3/3] END l1_ratio=0.8, penalty=l2, solver=sag, warm_start=True;, score=(train=0.721, test=0.734) total time=   0.9s\n"
          ]
        },
        {
          "name": "stderr",
          "output_type": "stream",
          "text": [
            "/home/darshil/Programs/anaconda3/lib/python3.11/site-packages/sklearn/linear_model/_logistic.py:1165: UserWarning: l1_ratio parameter is only used when penalty is 'elasticnet'. Got (penalty=l2)\n",
            "  warnings.warn(\n"
          ]
        },
        {
          "name": "stdout",
          "output_type": "stream",
          "text": [
            "[CV 1/3] END l1_ratio=0.8, penalty=l2, solver=sag, warm_start=False;, score=(train=0.727, test=0.725) total time=   1.0s\n"
          ]
        },
        {
          "name": "stderr",
          "output_type": "stream",
          "text": [
            "/home/darshil/Programs/anaconda3/lib/python3.11/site-packages/sklearn/linear_model/_logistic.py:1165: UserWarning: l1_ratio parameter is only used when penalty is 'elasticnet'. Got (penalty=l2)\n",
            "  warnings.warn(\n"
          ]
        },
        {
          "name": "stdout",
          "output_type": "stream",
          "text": [
            "[CV 2/3] END l1_ratio=0.8, penalty=l2, solver=sag, warm_start=False;, score=(train=0.728, test=0.716) total time=   0.9s\n"
          ]
        },
        {
          "name": "stderr",
          "output_type": "stream",
          "text": [
            "/home/darshil/Programs/anaconda3/lib/python3.11/site-packages/sklearn/linear_model/_logistic.py:1165: UserWarning: l1_ratio parameter is only used when penalty is 'elasticnet'. Got (penalty=l2)\n",
            "  warnings.warn(\n"
          ]
        },
        {
          "name": "stdout",
          "output_type": "stream",
          "text": [
            "[CV 3/3] END l1_ratio=0.8, penalty=l2, solver=sag, warm_start=False;, score=(train=0.721, test=0.734) total time=   1.0s\n",
            "[CV 1/3] END l1_ratio=0.8, penalty=elasticnet, solver=saga, warm_start=True;, score=(train=0.729, test=0.725) total time=   2.1s\n",
            "[CV 2/3] END l1_ratio=0.8, penalty=elasticnet, solver=saga, warm_start=True;, score=(train=0.729, test=0.716) total time=   1.9s\n",
            "[CV 3/3] END l1_ratio=0.8, penalty=elasticnet, solver=saga, warm_start=True;, score=(train=0.721, test=0.735) total time=   2.1s\n",
            "[CV 1/3] END l1_ratio=0.8, penalty=elasticnet, solver=saga, warm_start=False;, score=(train=0.729, test=0.725) total time=   2.1s\n",
            "[CV 2/3] END l1_ratio=0.8, penalty=elasticnet, solver=saga, warm_start=False;, score=(train=0.729, test=0.716) total time=   1.9s\n",
            "[CV 3/3] END l1_ratio=0.8, penalty=elasticnet, solver=saga, warm_start=False;, score=(train=0.721, test=0.735) total time=   2.1s\n",
            "[CV 1/3] END l1_ratio=0.8, penalty=elasticnet, solver=liblinear, warm_start=True;, score=(train=nan, test=nan) total time=   0.0s\n",
            "[CV 2/3] END l1_ratio=0.8, penalty=elasticnet, solver=liblinear, warm_start=True;, score=(train=nan, test=nan) total time=   0.0s\n",
            "[CV 3/3] END l1_ratio=0.8, penalty=elasticnet, solver=liblinear, warm_start=True;, score=(train=nan, test=nan) total time=   0.0s\n",
            "[CV 1/3] END l1_ratio=0.8, penalty=elasticnet, solver=liblinear, warm_start=False;, score=(train=nan, test=nan) total time=   0.0s\n",
            "[CV 2/3] END l1_ratio=0.8, penalty=elasticnet, solver=liblinear, warm_start=False;, score=(train=nan, test=nan) total time=   0.0s\n",
            "[CV 3/3] END l1_ratio=0.8, penalty=elasticnet, solver=liblinear, warm_start=False;, score=(train=nan, test=nan) total time=   0.0s\n",
            "[CV 1/3] END l1_ratio=0.8, penalty=elasticnet, solver=lbfgs, warm_start=True;, score=(train=nan, test=nan) total time=   0.0s\n",
            "[CV 2/3] END l1_ratio=0.8, penalty=elasticnet, solver=lbfgs, warm_start=True;, score=(train=nan, test=nan) total time=   0.0s\n",
            "[CV 3/3] END l1_ratio=0.8, penalty=elasticnet, solver=lbfgs, warm_start=True;, score=(train=nan, test=nan) total time=   0.0s\n",
            "[CV 1/3] END l1_ratio=0.8, penalty=elasticnet, solver=lbfgs, warm_start=False;, score=(train=nan, test=nan) total time=   0.0s\n",
            "[CV 2/3] END l1_ratio=0.8, penalty=elasticnet, solver=lbfgs, warm_start=False;, score=(train=nan, test=nan) total time=   0.0s\n",
            "[CV 3/3] END l1_ratio=0.8, penalty=elasticnet, solver=lbfgs, warm_start=False;, score=(train=nan, test=nan) total time=   0.0s\n",
            "[CV 1/3] END l1_ratio=0.8, penalty=elasticnet, solver=newton-cg, warm_start=True;, score=(train=nan, test=nan) total time=   0.0s\n",
            "[CV 2/3] END l1_ratio=0.8, penalty=elasticnet, solver=newton-cg, warm_start=True;, score=(train=nan, test=nan) total time=   0.0s\n",
            "[CV 3/3] END l1_ratio=0.8, penalty=elasticnet, solver=newton-cg, warm_start=True;, score=(train=nan, test=nan) total time=   0.0s\n",
            "[CV 1/3] END l1_ratio=0.8, penalty=elasticnet, solver=newton-cg, warm_start=False;, score=(train=nan, test=nan) total time=   0.0s\n",
            "[CV 2/3] END l1_ratio=0.8, penalty=elasticnet, solver=newton-cg, warm_start=False;, score=(train=nan, test=nan) total time=   0.0s\n",
            "[CV 3/3] END l1_ratio=0.8, penalty=elasticnet, solver=newton-cg, warm_start=False;, score=(train=nan, test=nan) total time=   0.0s\n",
            "[CV 1/3] END l1_ratio=0.8, penalty=elasticnet, solver=newton-cholesky, warm_start=True;, score=(train=nan, test=nan) total time=   0.0s\n",
            "[CV 2/3] END l1_ratio=0.8, penalty=elasticnet, solver=newton-cholesky, warm_start=True;, score=(train=nan, test=nan) total time=   0.0s\n",
            "[CV 3/3] END l1_ratio=0.8, penalty=elasticnet, solver=newton-cholesky, warm_start=True;, score=(train=nan, test=nan) total time=   0.0s\n",
            "[CV 1/3] END l1_ratio=0.8, penalty=elasticnet, solver=newton-cholesky, warm_start=False;, score=(train=nan, test=nan) total time=   0.0s\n",
            "[CV 2/3] END l1_ratio=0.8, penalty=elasticnet, solver=newton-cholesky, warm_start=False;, score=(train=nan, test=nan) total time=   0.0s\n",
            "[CV 3/3] END l1_ratio=0.8, penalty=elasticnet, solver=newton-cholesky, warm_start=False;, score=(train=nan, test=nan) total time=   0.0s\n",
            "[CV 1/3] END l1_ratio=0.8, penalty=elasticnet, solver=sag, warm_start=True;, score=(train=nan, test=nan) total time=   0.0s\n",
            "[CV 2/3] END l1_ratio=0.8, penalty=elasticnet, solver=sag, warm_start=True;, score=(train=nan, test=nan) total time=   0.0s\n",
            "[CV 3/3] END l1_ratio=0.8, penalty=elasticnet, solver=sag, warm_start=True;, score=(train=nan, test=nan) total time=   0.0s\n",
            "[CV 1/3] END l1_ratio=0.8, penalty=elasticnet, solver=sag, warm_start=False;, score=(train=nan, test=nan) total time=   0.0s\n",
            "[CV 2/3] END l1_ratio=0.8, penalty=elasticnet, solver=sag, warm_start=False;, score=(train=nan, test=nan) total time=   0.0s\n",
            "[CV 3/3] END l1_ratio=0.8, penalty=elasticnet, solver=sag, warm_start=False;, score=(train=nan, test=nan) total time=   0.0s\n"
          ]
        },
        {
          "name": "stderr",
          "output_type": "stream",
          "text": [
            "/home/darshil/Programs/anaconda3/lib/python3.11/site-packages/sklearn/model_selection/_validation.py:378: FitFailedWarning: \n",
            "216 fits failed out of a total of 432.\n",
            "The score on these train-test partitions for these parameters will be set to nan.\n",
            "If these failures are not expected, you can try to debug them by setting error_score='raise'.\n",
            "\n",
            "Below are more details about the failures:\n",
            "--------------------------------------------------------------------------------\n",
            "24 fits failed with the following error:\n",
            "Traceback (most recent call last):\n",
            "  File \"/home/darshil/Programs/anaconda3/lib/python3.11/site-packages/sklearn/model_selection/_validation.py\", line 686, in _fit_and_score\n",
            "    estimator.fit(X_train, y_train, **fit_params)\n",
            "  File \"/home/darshil/Programs/anaconda3/lib/python3.11/site-packages/sklearn/linear_model/_logistic.py\", line 1162, in fit\n",
            "    solver = _check_solver(self.solver, self.penalty, self.dual)\n",
            "             ^^^^^^^^^^^^^^^^^^^^^^^^^^^^^^^^^^^^^^^^^^^^^^^^^^^\n",
            "  File \"/home/darshil/Programs/anaconda3/lib/python3.11/site-packages/sklearn/linear_model/_logistic.py\", line 54, in _check_solver\n",
            "    raise ValueError(\n",
            "ValueError: Solver lbfgs supports only 'l2' or 'none' penalties, got l1 penalty.\n",
            "\n",
            "--------------------------------------------------------------------------------\n",
            "24 fits failed with the following error:\n",
            "Traceback (most recent call last):\n",
            "  File \"/home/darshil/Programs/anaconda3/lib/python3.11/site-packages/sklearn/model_selection/_validation.py\", line 686, in _fit_and_score\n",
            "    estimator.fit(X_train, y_train, **fit_params)\n",
            "  File \"/home/darshil/Programs/anaconda3/lib/python3.11/site-packages/sklearn/linear_model/_logistic.py\", line 1162, in fit\n",
            "    solver = _check_solver(self.solver, self.penalty, self.dual)\n",
            "             ^^^^^^^^^^^^^^^^^^^^^^^^^^^^^^^^^^^^^^^^^^^^^^^^^^^\n",
            "  File \"/home/darshil/Programs/anaconda3/lib/python3.11/site-packages/sklearn/linear_model/_logistic.py\", line 54, in _check_solver\n",
            "    raise ValueError(\n",
            "ValueError: Solver newton-cg supports only 'l2' or 'none' penalties, got l1 penalty.\n",
            "\n",
            "--------------------------------------------------------------------------------\n",
            "24 fits failed with the following error:\n",
            "Traceback (most recent call last):\n",
            "  File \"/home/darshil/Programs/anaconda3/lib/python3.11/site-packages/sklearn/model_selection/_validation.py\", line 686, in _fit_and_score\n",
            "    estimator.fit(X_train, y_train, **fit_params)\n",
            "  File \"/home/darshil/Programs/anaconda3/lib/python3.11/site-packages/sklearn/linear_model/_logistic.py\", line 1162, in fit\n",
            "    solver = _check_solver(self.solver, self.penalty, self.dual)\n",
            "             ^^^^^^^^^^^^^^^^^^^^^^^^^^^^^^^^^^^^^^^^^^^^^^^^^^^\n",
            "  File \"/home/darshil/Programs/anaconda3/lib/python3.11/site-packages/sklearn/linear_model/_logistic.py\", line 54, in _check_solver\n",
            "    raise ValueError(\n",
            "ValueError: Solver newton-cholesky supports only 'l2' or 'none' penalties, got l1 penalty.\n",
            "\n",
            "--------------------------------------------------------------------------------\n",
            "24 fits failed with the following error:\n",
            "Traceback (most recent call last):\n",
            "  File \"/home/darshil/Programs/anaconda3/lib/python3.11/site-packages/sklearn/model_selection/_validation.py\", line 686, in _fit_and_score\n",
            "    estimator.fit(X_train, y_train, **fit_params)\n",
            "  File \"/home/darshil/Programs/anaconda3/lib/python3.11/site-packages/sklearn/linear_model/_logistic.py\", line 1162, in fit\n",
            "    solver = _check_solver(self.solver, self.penalty, self.dual)\n",
            "             ^^^^^^^^^^^^^^^^^^^^^^^^^^^^^^^^^^^^^^^^^^^^^^^^^^^\n",
            "  File \"/home/darshil/Programs/anaconda3/lib/python3.11/site-packages/sklearn/linear_model/_logistic.py\", line 54, in _check_solver\n",
            "    raise ValueError(\n",
            "ValueError: Solver sag supports only 'l2' or 'none' penalties, got l1 penalty.\n",
            "\n",
            "--------------------------------------------------------------------------------\n",
            "24 fits failed with the following error:\n",
            "Traceback (most recent call last):\n",
            "  File \"/home/darshil/Programs/anaconda3/lib/python3.11/site-packages/sklearn/model_selection/_validation.py\", line 686, in _fit_and_score\n",
            "    estimator.fit(X_train, y_train, **fit_params)\n",
            "  File \"/home/darshil/Programs/anaconda3/lib/python3.11/site-packages/sklearn/linear_model/_logistic.py\", line 1162, in fit\n",
            "    solver = _check_solver(self.solver, self.penalty, self.dual)\n",
            "             ^^^^^^^^^^^^^^^^^^^^^^^^^^^^^^^^^^^^^^^^^^^^^^^^^^^\n",
            "  File \"/home/darshil/Programs/anaconda3/lib/python3.11/site-packages/sklearn/linear_model/_logistic.py\", line 64, in _check_solver\n",
            "    raise ValueError(\n",
            "ValueError: Only 'saga' solver supports elasticnet penalty, got solver=liblinear.\n",
            "\n",
            "--------------------------------------------------------------------------------\n",
            "24 fits failed with the following error:\n",
            "Traceback (most recent call last):\n",
            "  File \"/home/darshil/Programs/anaconda3/lib/python3.11/site-packages/sklearn/model_selection/_validation.py\", line 686, in _fit_and_score\n",
            "    estimator.fit(X_train, y_train, **fit_params)\n",
            "  File \"/home/darshil/Programs/anaconda3/lib/python3.11/site-packages/sklearn/linear_model/_logistic.py\", line 1162, in fit\n",
            "    solver = _check_solver(self.solver, self.penalty, self.dual)\n",
            "             ^^^^^^^^^^^^^^^^^^^^^^^^^^^^^^^^^^^^^^^^^^^^^^^^^^^\n",
            "  File \"/home/darshil/Programs/anaconda3/lib/python3.11/site-packages/sklearn/linear_model/_logistic.py\", line 54, in _check_solver\n",
            "    raise ValueError(\n",
            "ValueError: Solver lbfgs supports only 'l2' or 'none' penalties, got elasticnet penalty.\n",
            "\n",
            "--------------------------------------------------------------------------------\n",
            "24 fits failed with the following error:\n",
            "Traceback (most recent call last):\n",
            "  File \"/home/darshil/Programs/anaconda3/lib/python3.11/site-packages/sklearn/model_selection/_validation.py\", line 686, in _fit_and_score\n",
            "    estimator.fit(X_train, y_train, **fit_params)\n",
            "  File \"/home/darshil/Programs/anaconda3/lib/python3.11/site-packages/sklearn/linear_model/_logistic.py\", line 1162, in fit\n",
            "    solver = _check_solver(self.solver, self.penalty, self.dual)\n",
            "             ^^^^^^^^^^^^^^^^^^^^^^^^^^^^^^^^^^^^^^^^^^^^^^^^^^^\n",
            "  File \"/home/darshil/Programs/anaconda3/lib/python3.11/site-packages/sklearn/linear_model/_logistic.py\", line 54, in _check_solver\n",
            "    raise ValueError(\n",
            "ValueError: Solver newton-cg supports only 'l2' or 'none' penalties, got elasticnet penalty.\n",
            "\n",
            "--------------------------------------------------------------------------------\n",
            "24 fits failed with the following error:\n",
            "Traceback (most recent call last):\n",
            "  File \"/home/darshil/Programs/anaconda3/lib/python3.11/site-packages/sklearn/model_selection/_validation.py\", line 686, in _fit_and_score\n",
            "    estimator.fit(X_train, y_train, **fit_params)\n",
            "  File \"/home/darshil/Programs/anaconda3/lib/python3.11/site-packages/sklearn/linear_model/_logistic.py\", line 1162, in fit\n",
            "    solver = _check_solver(self.solver, self.penalty, self.dual)\n",
            "             ^^^^^^^^^^^^^^^^^^^^^^^^^^^^^^^^^^^^^^^^^^^^^^^^^^^\n",
            "  File \"/home/darshil/Programs/anaconda3/lib/python3.11/site-packages/sklearn/linear_model/_logistic.py\", line 54, in _check_solver\n",
            "    raise ValueError(\n",
            "ValueError: Solver newton-cholesky supports only 'l2' or 'none' penalties, got elasticnet penalty.\n",
            "\n",
            "--------------------------------------------------------------------------------\n",
            "24 fits failed with the following error:\n",
            "Traceback (most recent call last):\n",
            "  File \"/home/darshil/Programs/anaconda3/lib/python3.11/site-packages/sklearn/model_selection/_validation.py\", line 686, in _fit_and_score\n",
            "    estimator.fit(X_train, y_train, **fit_params)\n",
            "  File \"/home/darshil/Programs/anaconda3/lib/python3.11/site-packages/sklearn/linear_model/_logistic.py\", line 1162, in fit\n",
            "    solver = _check_solver(self.solver, self.penalty, self.dual)\n",
            "             ^^^^^^^^^^^^^^^^^^^^^^^^^^^^^^^^^^^^^^^^^^^^^^^^^^^\n",
            "  File \"/home/darshil/Programs/anaconda3/lib/python3.11/site-packages/sklearn/linear_model/_logistic.py\", line 54, in _check_solver\n",
            "    raise ValueError(\n",
            "ValueError: Solver sag supports only 'l2' or 'none' penalties, got elasticnet penalty.\n",
            "\n",
            "  warnings.warn(some_fits_failed_message, FitFailedWarning)\n",
            "/home/darshil/Programs/anaconda3/lib/python3.11/site-packages/sklearn/model_selection/_search.py:952: UserWarning: One or more of the test scores are non-finite: [0.72554347 0.72554347 0.78213551 0.78213551        nan        nan\n",
            "        nan        nan        nan        nan        nan        nan\n",
            " 0.72554347 0.72554347 0.78301961 0.78301961 0.78297306 0.78297306\n",
            " 0.77978364 0.77978364 0.77978364 0.77978364 0.7249063  0.7249063\n",
            " 0.72554347 0.72554347        nan        nan        nan        nan\n",
            "        nan        nan        nan        nan        nan        nan\n",
            " 0.72554347 0.72554347 0.78213551 0.78193553        nan        nan\n",
            "        nan        nan        nan        nan        nan        nan\n",
            " 0.72554347 0.72554347 0.78301961 0.78301961 0.78297306 0.78297306\n",
            " 0.77978364 0.77978364 0.77978364 0.77978364 0.7249063  0.7249063\n",
            " 0.72554347 0.72554347        nan        nan        nan        nan\n",
            "        nan        nan        nan        nan        nan        nan\n",
            " 0.72554347 0.72554347 0.78193553 0.78193553        nan        nan\n",
            "        nan        nan        nan        nan        nan        nan\n",
            " 0.72554347 0.72554347 0.78301961 0.78301961 0.78297306 0.78297306\n",
            " 0.77978364 0.77978364 0.77978364 0.77978364 0.7249063  0.7249063\n",
            " 0.72554347 0.72554347        nan        nan        nan        nan\n",
            "        nan        nan        nan        nan        nan        nan\n",
            " 0.72554347 0.72554347 0.78193553 0.78208312        nan        nan\n",
            "        nan        nan        nan        nan        nan        nan\n",
            " 0.72554347 0.72554347 0.78301961 0.78301961 0.78297306 0.78297306\n",
            " 0.77978364 0.77978364 0.77978364 0.77978364 0.7249063  0.7249063\n",
            " 0.72554347 0.72554347        nan        nan        nan        nan\n",
            "        nan        nan        nan        nan        nan        nan]\n",
            "  warnings.warn(\n",
            "/home/darshil/Programs/anaconda3/lib/python3.11/site-packages/sklearn/model_selection/_search.py:952: UserWarning: One or more of the train scores are non-finite: [0.72648488 0.72648488 0.78330251 0.78330251        nan        nan\n",
            "        nan        nan        nan        nan        nan        nan\n",
            " 0.72648488 0.72648488 0.78239407 0.78239407 0.78294615 0.78294615\n",
            " 0.78229063 0.78229063 0.78229063 0.78229063 0.72546383 0.72546383\n",
            " 0.72648488 0.72648488        nan        nan        nan        nan\n",
            "        nan        nan        nan        nan        nan        nan\n",
            " 0.72648488 0.72648488 0.78330251 0.783375          nan        nan\n",
            "        nan        nan        nan        nan        nan        nan\n",
            " 0.72648488 0.72648488 0.78239407 0.78239407 0.78294615 0.78294615\n",
            " 0.78229063 0.78229063 0.78229063 0.78229063 0.72546383 0.72546383\n",
            " 0.72648488 0.72648488        nan        nan        nan        nan\n",
            "        nan        nan        nan        nan        nan        nan\n",
            " 0.72648488 0.72648488 0.78327551 0.78317356        nan        nan\n",
            "        nan        nan        nan        nan        nan        nan\n",
            " 0.72648488 0.72648488 0.78239407 0.78239407 0.78294615 0.78294615\n",
            " 0.78229063 0.78229063 0.78229063 0.78229063 0.72546383 0.72546383\n",
            " 0.72648488 0.72648488        nan        nan        nan        nan\n",
            "        nan        nan        nan        nan        nan        nan\n",
            " 0.72648488 0.72648488 0.78330251 0.78340199        nan        nan\n",
            "        nan        nan        nan        nan        nan        nan\n",
            " 0.72648488 0.72648488 0.78239407 0.78239407 0.78294615 0.78294615\n",
            " 0.78229063 0.78229063 0.78229063 0.78229063 0.72546383 0.72546383\n",
            " 0.72648488 0.72648488        nan        nan        nan        nan\n",
            "        nan        nan        nan        nan        nan        nan]\n",
            "  warnings.warn(\n",
            "/home/darshil/Programs/anaconda3/lib/python3.11/site-packages/sklearn/linear_model/_logistic.py:1165: UserWarning: l1_ratio parameter is only used when penalty is 'elasticnet'. Got (penalty=l2)\n",
            "  warnings.warn(\n"
          ]
        },
        {
          "data": {
            "text/html": [
              "<style>#sk-container-id-2 {color: black;background-color: white;}#sk-container-id-2 pre{padding: 0;}#sk-container-id-2 div.sk-toggleable {background-color: white;}#sk-container-id-2 label.sk-toggleable__label {cursor: pointer;display: block;width: 100%;margin-bottom: 0;padding: 0.3em;box-sizing: border-box;text-align: center;}#sk-container-id-2 label.sk-toggleable__label-arrow:before {content: \"▸\";float: left;margin-right: 0.25em;color: #696969;}#sk-container-id-2 label.sk-toggleable__label-arrow:hover:before {color: black;}#sk-container-id-2 div.sk-estimator:hover label.sk-toggleable__label-arrow:before {color: black;}#sk-container-id-2 div.sk-toggleable__content {max-height: 0;max-width: 0;overflow: hidden;text-align: left;background-color: #f0f8ff;}#sk-container-id-2 div.sk-toggleable__content pre {margin: 0.2em;color: black;border-radius: 0.25em;background-color: #f0f8ff;}#sk-container-id-2 input.sk-toggleable__control:checked~div.sk-toggleable__content {max-height: 200px;max-width: 100%;overflow: auto;}#sk-container-id-2 input.sk-toggleable__control:checked~label.sk-toggleable__label-arrow:before {content: \"▾\";}#sk-container-id-2 div.sk-estimator input.sk-toggleable__control:checked~label.sk-toggleable__label {background-color: #d4ebff;}#sk-container-id-2 div.sk-label input.sk-toggleable__control:checked~label.sk-toggleable__label {background-color: #d4ebff;}#sk-container-id-2 input.sk-hidden--visually {border: 0;clip: rect(1px 1px 1px 1px);clip: rect(1px, 1px, 1px, 1px);height: 1px;margin: -1px;overflow: hidden;padding: 0;position: absolute;width: 1px;}#sk-container-id-2 div.sk-estimator {font-family: monospace;background-color: #f0f8ff;border: 1px dotted black;border-radius: 0.25em;box-sizing: border-box;margin-bottom: 0.5em;}#sk-container-id-2 div.sk-estimator:hover {background-color: #d4ebff;}#sk-container-id-2 div.sk-parallel-item::after {content: \"\";width: 100%;border-bottom: 1px solid gray;flex-grow: 1;}#sk-container-id-2 div.sk-label:hover label.sk-toggleable__label {background-color: #d4ebff;}#sk-container-id-2 div.sk-serial::before {content: \"\";position: absolute;border-left: 1px solid gray;box-sizing: border-box;top: 0;bottom: 0;left: 50%;z-index: 0;}#sk-container-id-2 div.sk-serial {display: flex;flex-direction: column;align-items: center;background-color: white;padding-right: 0.2em;padding-left: 0.2em;position: relative;}#sk-container-id-2 div.sk-item {position: relative;z-index: 1;}#sk-container-id-2 div.sk-parallel {display: flex;align-items: stretch;justify-content: center;background-color: white;position: relative;}#sk-container-id-2 div.sk-item::before, #sk-container-id-2 div.sk-parallel-item::before {content: \"\";position: absolute;border-left: 1px solid gray;box-sizing: border-box;top: 0;bottom: 0;left: 50%;z-index: -1;}#sk-container-id-2 div.sk-parallel-item {display: flex;flex-direction: column;z-index: 1;position: relative;background-color: white;}#sk-container-id-2 div.sk-parallel-item:first-child::after {align-self: flex-end;width: 50%;}#sk-container-id-2 div.sk-parallel-item:last-child::after {align-self: flex-start;width: 50%;}#sk-container-id-2 div.sk-parallel-item:only-child::after {width: 0;}#sk-container-id-2 div.sk-dashed-wrapped {border: 1px dashed gray;margin: 0 0.4em 0.5em 0.4em;box-sizing: border-box;padding-bottom: 0.4em;background-color: white;}#sk-container-id-2 div.sk-label label {font-family: monospace;font-weight: bold;display: inline-block;line-height: 1.2em;}#sk-container-id-2 div.sk-label-container {text-align: center;}#sk-container-id-2 div.sk-container {/* jupyter's `normalize.less` sets `[hidden] { display: none; }` but bootstrap.min.css set `[hidden] { display: none !important; }` so we also need the `!important` here to be able to override the default hidden behavior on the sphinx rendered scikit-learn.org. See: https://github.com/scikit-learn/scikit-learn/issues/21755 */display: inline-block !important;position: relative;}#sk-container-id-2 div.sk-text-repr-fallback {display: none;}</style><div id=\"sk-container-id-2\" class=\"sk-top-container\"><div class=\"sk-text-repr-fallback\"><pre>GridSearchCV(cv=3, estimator=LogisticRegression(max_iter=5000),\n",
              "             param_grid=[{&#x27;l1_ratio&#x27;: [0.2, 0.4, 0.6, 0.8],\n",
              "                          &#x27;penalty&#x27;: [&#x27;l1&#x27;, &#x27;l2&#x27;, &#x27;elasticnet&#x27;],\n",
              "                          &#x27;solver&#x27;: [&#x27;saga&#x27;, &#x27;liblinear&#x27;, &#x27;lbfgs&#x27;, &#x27;newton-cg&#x27;,\n",
              "                                     &#x27;newton-cholesky&#x27;, &#x27;sag&#x27;],\n",
              "                          &#x27;warm_start&#x27;: [True, False]}],\n",
              "             return_train_score=True, scoring=&#x27;precision&#x27;, verbose=3)</pre><b>In a Jupyter environment, please rerun this cell to show the HTML representation or trust the notebook. <br />On GitHub, the HTML representation is unable to render, please try loading this page with nbviewer.org.</b></div><div class=\"sk-container\" hidden><div class=\"sk-item sk-dashed-wrapped\"><div class=\"sk-label-container\"><div class=\"sk-label sk-toggleable\"><input class=\"sk-toggleable__control sk-hidden--visually\" id=\"sk-estimator-id-2\" type=\"checkbox\" ><label for=\"sk-estimator-id-2\" class=\"sk-toggleable__label sk-toggleable__label-arrow\">GridSearchCV</label><div class=\"sk-toggleable__content\"><pre>GridSearchCV(cv=3, estimator=LogisticRegression(max_iter=5000),\n",
              "             param_grid=[{&#x27;l1_ratio&#x27;: [0.2, 0.4, 0.6, 0.8],\n",
              "                          &#x27;penalty&#x27;: [&#x27;l1&#x27;, &#x27;l2&#x27;, &#x27;elasticnet&#x27;],\n",
              "                          &#x27;solver&#x27;: [&#x27;saga&#x27;, &#x27;liblinear&#x27;, &#x27;lbfgs&#x27;, &#x27;newton-cg&#x27;,\n",
              "                                     &#x27;newton-cholesky&#x27;, &#x27;sag&#x27;],\n",
              "                          &#x27;warm_start&#x27;: [True, False]}],\n",
              "             return_train_score=True, scoring=&#x27;precision&#x27;, verbose=3)</pre></div></div></div><div class=\"sk-parallel\"><div class=\"sk-parallel-item\"><div class=\"sk-item\"><div class=\"sk-label-container\"><div class=\"sk-label sk-toggleable\"><input class=\"sk-toggleable__control sk-hidden--visually\" id=\"sk-estimator-id-3\" type=\"checkbox\" ><label for=\"sk-estimator-id-3\" class=\"sk-toggleable__label sk-toggleable__label-arrow\">estimator: LogisticRegression</label><div class=\"sk-toggleable__content\"><pre>LogisticRegression(max_iter=5000)</pre></div></div></div><div class=\"sk-serial\"><div class=\"sk-item\"><div class=\"sk-estimator sk-toggleable\"><input class=\"sk-toggleable__control sk-hidden--visually\" id=\"sk-estimator-id-4\" type=\"checkbox\" ><label for=\"sk-estimator-id-4\" class=\"sk-toggleable__label sk-toggleable__label-arrow\">LogisticRegression</label><div class=\"sk-toggleable__content\"><pre>LogisticRegression(max_iter=5000)</pre></div></div></div></div></div></div></div></div></div></div>"
            ],
            "text/plain": [
              "GridSearchCV(cv=3, estimator=LogisticRegression(max_iter=5000),\n",
              "             param_grid=[{'l1_ratio': [0.2, 0.4, 0.6, 0.8],\n",
              "                          'penalty': ['l1', 'l2', 'elasticnet'],\n",
              "                          'solver': ['saga', 'liblinear', 'lbfgs', 'newton-cg',\n",
              "                                     'newton-cholesky', 'sag'],\n",
              "                          'warm_start': [True, False]}],\n",
              "             return_train_score=True, scoring='precision', verbose=3)"
            ]
          },
          "execution_count": 22,
          "metadata": {},
          "output_type": "execute_result"
        }
      ],
      "source": [
        "from sklearn.model_selection import GridSearchCV\n",
        "\n",
        "paramGrid = [\n",
        "    {\n",
        "        \"penalty\": [\"l1\", \"l2\", \"elasticnet\"],\n",
        "        \"solver\": [\"saga\", \"liblinear\", \"lbfgs\", \"newton-cg\", \"newton-cholesky\", \"sag\"],\n",
        "        \"warm_start\" :  [True, False],\n",
        "        \"l1_ratio\" : [0.2, 0.4, 0.6, 0.8]\n",
        "    }\n",
        "]\n",
        "\n",
        "hptm = LogisticRegression( max_iter = 5000)\n",
        "\n",
        "gsCv = GridSearchCV(hptm,paramGrid,  cv = 3, scoring = \"precision\", return_train_score = True, verbose = 3)\n",
        "\n",
        "gsCv.fit(X_train, y_train)"
      ]
    },
    {
      "cell_type": "code",
      "execution_count": 23,
      "metadata": {},
      "outputs": [],
      "source": [
        "finalClf = gsCv.best_estimator_"
      ]
    },
    {
      "cell_type": "code",
      "execution_count": 24,
      "metadata": {},
      "outputs": [
        {
          "data": {
            "text/html": [
              "<style>#sk-container-id-3 {color: black;background-color: white;}#sk-container-id-3 pre{padding: 0;}#sk-container-id-3 div.sk-toggleable {background-color: white;}#sk-container-id-3 label.sk-toggleable__label {cursor: pointer;display: block;width: 100%;margin-bottom: 0;padding: 0.3em;box-sizing: border-box;text-align: center;}#sk-container-id-3 label.sk-toggleable__label-arrow:before {content: \"▸\";float: left;margin-right: 0.25em;color: #696969;}#sk-container-id-3 label.sk-toggleable__label-arrow:hover:before {color: black;}#sk-container-id-3 div.sk-estimator:hover label.sk-toggleable__label-arrow:before {color: black;}#sk-container-id-3 div.sk-toggleable__content {max-height: 0;max-width: 0;overflow: hidden;text-align: left;background-color: #f0f8ff;}#sk-container-id-3 div.sk-toggleable__content pre {margin: 0.2em;color: black;border-radius: 0.25em;background-color: #f0f8ff;}#sk-container-id-3 input.sk-toggleable__control:checked~div.sk-toggleable__content {max-height: 200px;max-width: 100%;overflow: auto;}#sk-container-id-3 input.sk-toggleable__control:checked~label.sk-toggleable__label-arrow:before {content: \"▾\";}#sk-container-id-3 div.sk-estimator input.sk-toggleable__control:checked~label.sk-toggleable__label {background-color: #d4ebff;}#sk-container-id-3 div.sk-label input.sk-toggleable__control:checked~label.sk-toggleable__label {background-color: #d4ebff;}#sk-container-id-3 input.sk-hidden--visually {border: 0;clip: rect(1px 1px 1px 1px);clip: rect(1px, 1px, 1px, 1px);height: 1px;margin: -1px;overflow: hidden;padding: 0;position: absolute;width: 1px;}#sk-container-id-3 div.sk-estimator {font-family: monospace;background-color: #f0f8ff;border: 1px dotted black;border-radius: 0.25em;box-sizing: border-box;margin-bottom: 0.5em;}#sk-container-id-3 div.sk-estimator:hover {background-color: #d4ebff;}#sk-container-id-3 div.sk-parallel-item::after {content: \"\";width: 100%;border-bottom: 1px solid gray;flex-grow: 1;}#sk-container-id-3 div.sk-label:hover label.sk-toggleable__label {background-color: #d4ebff;}#sk-container-id-3 div.sk-serial::before {content: \"\";position: absolute;border-left: 1px solid gray;box-sizing: border-box;top: 0;bottom: 0;left: 50%;z-index: 0;}#sk-container-id-3 div.sk-serial {display: flex;flex-direction: column;align-items: center;background-color: white;padding-right: 0.2em;padding-left: 0.2em;position: relative;}#sk-container-id-3 div.sk-item {position: relative;z-index: 1;}#sk-container-id-3 div.sk-parallel {display: flex;align-items: stretch;justify-content: center;background-color: white;position: relative;}#sk-container-id-3 div.sk-item::before, #sk-container-id-3 div.sk-parallel-item::before {content: \"\";position: absolute;border-left: 1px solid gray;box-sizing: border-box;top: 0;bottom: 0;left: 50%;z-index: -1;}#sk-container-id-3 div.sk-parallel-item {display: flex;flex-direction: column;z-index: 1;position: relative;background-color: white;}#sk-container-id-3 div.sk-parallel-item:first-child::after {align-self: flex-end;width: 50%;}#sk-container-id-3 div.sk-parallel-item:last-child::after {align-self: flex-start;width: 50%;}#sk-container-id-3 div.sk-parallel-item:only-child::after {width: 0;}#sk-container-id-3 div.sk-dashed-wrapped {border: 1px dashed gray;margin: 0 0.4em 0.5em 0.4em;box-sizing: border-box;padding-bottom: 0.4em;background-color: white;}#sk-container-id-3 div.sk-label label {font-family: monospace;font-weight: bold;display: inline-block;line-height: 1.2em;}#sk-container-id-3 div.sk-label-container {text-align: center;}#sk-container-id-3 div.sk-container {/* jupyter's `normalize.less` sets `[hidden] { display: none; }` but bootstrap.min.css set `[hidden] { display: none !important; }` so we also need the `!important` here to be able to override the default hidden behavior on the sphinx rendered scikit-learn.org. See: https://github.com/scikit-learn/scikit-learn/issues/21755 */display: inline-block !important;position: relative;}#sk-container-id-3 div.sk-text-repr-fallback {display: none;}</style><div id=\"sk-container-id-3\" class=\"sk-top-container\"><div class=\"sk-text-repr-fallback\"><pre>LogisticRegression(l1_ratio=0.2, max_iter=5000, solver=&#x27;liblinear&#x27;,\n",
              "                   warm_start=True)</pre><b>In a Jupyter environment, please rerun this cell to show the HTML representation or trust the notebook. <br />On GitHub, the HTML representation is unable to render, please try loading this page with nbviewer.org.</b></div><div class=\"sk-container\" hidden><div class=\"sk-item\"><div class=\"sk-estimator sk-toggleable\"><input class=\"sk-toggleable__control sk-hidden--visually\" id=\"sk-estimator-id-5\" type=\"checkbox\" checked><label for=\"sk-estimator-id-5\" class=\"sk-toggleable__label sk-toggleable__label-arrow\">LogisticRegression</label><div class=\"sk-toggleable__content\"><pre>LogisticRegression(l1_ratio=0.2, max_iter=5000, solver=&#x27;liblinear&#x27;,\n",
              "                   warm_start=True)</pre></div></div></div></div></div>"
            ],
            "text/plain": [
              "LogisticRegression(l1_ratio=0.2, max_iter=5000, solver='liblinear',\n",
              "                   warm_start=True)"
            ]
          },
          "execution_count": 24,
          "metadata": {},
          "output_type": "execute_result"
        }
      ],
      "source": [
        "finalClf"
      ]
    },
    {
      "cell_type": "code",
      "execution_count": 25,
      "metadata": {},
      "outputs": [
        {
          "name": "stdout",
          "output_type": "stream",
          "text": [
            "              precision    recall  f1-score   support\n",
            "\n",
            "       False       0.76      0.82      0.79       612\n",
            "        True       0.83      0.78      0.80       692\n",
            "\n",
            "    accuracy                           0.80      1304\n",
            "   macro avg       0.80      0.80      0.80      1304\n",
            "weighted avg       0.80      0.80      0.80      1304\n",
            "\n",
            "[[499 113]\n",
            " [154 538]]\n"
          ]
        }
      ],
      "source": [
        "from sklearn.metrics import classification_report, confusion_matrix\n",
        "\n",
        "fc_pred = finalClf.predict(X_val)\n",
        "print(classification_report(fc_pred, y_val))\n",
        "cm = confusion_matrix(fc_pred, y_val)\n",
        "print(cm)"
      ]
    },
    {
      "cell_type": "markdown",
      "metadata": {},
      "source": [
        "# Kaggle Submission"
      ]
    },
    {
      "cell_type": "code",
      "execution_count": 31,
      "metadata": {},
      "outputs": [],
      "source": [
        "testSet = pd.read_csv(\"test.csv\")\n",
        "px_ids = testSet[\"PassengerId\"]\n",
        "\n",
        "testSet = pd.DataFrame(imputer.fit_transform(testSet), columns = testSet.columns)\n",
        "\n",
        "testSet = pipeline.fit_transform(testSet)"
      ]
    },
    {
      "cell_type": "code",
      "execution_count": 32,
      "metadata": {},
      "outputs": [],
      "source": [
        "y_pred = finalClf.predict(testSet)"
      ]
    },
    {
      "cell_type": "code",
      "execution_count": 43,
      "metadata": {},
      "outputs": [],
      "source": [
        "result = pd.DataFrame(px_ids).join(pd.DataFrame(y_pred, columns = [\"Transported\"]))"
      ]
    },
    {
      "cell_type": "code",
      "execution_count": 44,
      "metadata": {},
      "outputs": [
        {
          "data": {
            "text/html": [
              "<div>\n",
              "<style scoped>\n",
              "    .dataframe tbody tr th:only-of-type {\n",
              "        vertical-align: middle;\n",
              "    }\n",
              "\n",
              "    .dataframe tbody tr th {\n",
              "        vertical-align: top;\n",
              "    }\n",
              "\n",
              "    .dataframe thead th {\n",
              "        text-align: right;\n",
              "    }\n",
              "</style>\n",
              "<table border=\"1\" class=\"dataframe\">\n",
              "  <thead>\n",
              "    <tr style=\"text-align: right;\">\n",
              "      <th></th>\n",
              "      <th>PassengerId</th>\n",
              "      <th>Transported</th>\n",
              "    </tr>\n",
              "  </thead>\n",
              "  <tbody>\n",
              "    <tr>\n",
              "      <th>0</th>\n",
              "      <td>0013_01</td>\n",
              "      <td>True</td>\n",
              "    </tr>\n",
              "    <tr>\n",
              "      <th>1</th>\n",
              "      <td>0018_01</td>\n",
              "      <td>False</td>\n",
              "    </tr>\n",
              "    <tr>\n",
              "      <th>2</th>\n",
              "      <td>0019_01</td>\n",
              "      <td>True</td>\n",
              "    </tr>\n",
              "    <tr>\n",
              "      <th>3</th>\n",
              "      <td>0021_01</td>\n",
              "      <td>True</td>\n",
              "    </tr>\n",
              "    <tr>\n",
              "      <th>4</th>\n",
              "      <td>0023_01</td>\n",
              "      <td>True</td>\n",
              "    </tr>\n",
              "    <tr>\n",
              "      <th>...</th>\n",
              "      <td>...</td>\n",
              "      <td>...</td>\n",
              "    </tr>\n",
              "    <tr>\n",
              "      <th>4272</th>\n",
              "      <td>9266_02</td>\n",
              "      <td>True</td>\n",
              "    </tr>\n",
              "    <tr>\n",
              "      <th>4273</th>\n",
              "      <td>9269_01</td>\n",
              "      <td>False</td>\n",
              "    </tr>\n",
              "    <tr>\n",
              "      <th>4274</th>\n",
              "      <td>9271_01</td>\n",
              "      <td>True</td>\n",
              "    </tr>\n",
              "    <tr>\n",
              "      <th>4275</th>\n",
              "      <td>9273_01</td>\n",
              "      <td>True</td>\n",
              "    </tr>\n",
              "    <tr>\n",
              "      <th>4276</th>\n",
              "      <td>9277_01</td>\n",
              "      <td>True</td>\n",
              "    </tr>\n",
              "  </tbody>\n",
              "</table>\n",
              "<p>4277 rows × 2 columns</p>\n",
              "</div>"
            ],
            "text/plain": [
              "     PassengerId  Transported\n",
              "0        0013_01         True\n",
              "1        0018_01        False\n",
              "2        0019_01         True\n",
              "3        0021_01         True\n",
              "4        0023_01         True\n",
              "...          ...          ...\n",
              "4272     9266_02         True\n",
              "4273     9269_01        False\n",
              "4274     9271_01         True\n",
              "4275     9273_01         True\n",
              "4276     9277_01         True\n",
              "\n",
              "[4277 rows x 2 columns]"
            ]
          },
          "execution_count": 44,
          "metadata": {},
          "output_type": "execute_result"
        }
      ],
      "source": [
        "result"
      ]
    },
    {
      "cell_type": "code",
      "execution_count": 45,
      "metadata": {},
      "outputs": [],
      "source": [
        "result.to_csv(\"Submission.csv\", index = False)"
      ]
    }
  ],
  "metadata": {
    "colab": {
      "provenance": []
    },
    "kernelspec": {
      "display_name": "Python 3",
      "name": "python3"
    },
    "language_info": {
      "codemirror_mode": {
        "name": "ipython",
        "version": 3
      },
      "file_extension": ".py",
      "mimetype": "text/x-python",
      "name": "python",
      "nbconvert_exporter": "python",
      "pygments_lexer": "ipython3",
      "version": "3.11.7"
    }
  },
  "nbformat": 4,
  "nbformat_minor": 0
}
